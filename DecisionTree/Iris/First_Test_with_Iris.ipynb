{
 "cells": [
  {
   "cell_type": "markdown",
   "metadata": {},
   "source": [
    "# How-To-Guide für machinelearning mit Scikit-learn"
   ]
  },
  {
   "cell_type": "markdown",
   "metadata": {},
   "source": [
    "In diesem Beispiel benutzen wir den weltbekannten Iris Testsatz um anhand von anatomischen Eigenschaften 3 Pflanzenarten voneinander zu unterscheiden. Dazu laden wir zuerst alle Abhängikeiten und Datensätze in unser Notebook."
   ]
  },
  {
   "cell_type": "code",
   "execution_count": 14,
   "metadata": {
    "collapsed": true
   },
   "outputs": [],
   "source": [
    "import numpy as np\n",
    "from sklearn.datasets import load_iris\n",
    "from sklearn import tree"
   ]
  },
  {
   "cell_type": "code",
   "execution_count": 15,
   "metadata": {
    "collapsed": false
   },
   "outputs": [
    {
     "name": "stdout",
     "output_type": "stream",
     "text": [
      "Anzahl der Rohdaten:  150\n",
      "Anzahl der Labels:  150\n"
     ]
    }
   ],
   "source": [
    "iris = load_iris()\n",
    "print(\"Anzahl der Rohdaten: \",len(iris.data))\n",
    "print(\"Anzahl der Labels: \",len(iris.target))"
   ]
  },
  {
   "cell_type": "markdown",
   "metadata": {},
   "source": [
    "Wie man sieht besitzt unser Datensatz nun genau 150 Elemente. Dabei sind 3 Features jeweils einem Label (Pflanzenart) zugerodnet. Für eine besser Aufschlüsselung der Feature siehe Beispiel unten:"
   ]
  },
  {
   "cell_type": "code",
   "execution_count": 16,
   "metadata": {
    "collapsed": false
   },
   "outputs": [
    {
     "name": "stdout",
     "output_type": "stream",
     "text": [
      "['sepal length (cm)', 'sepal width (cm)', 'petal length (cm)', 'petal width (cm)']\n",
      "['setosa' 'versicolor' 'virginica']\n"
     ]
    }
   ],
   "source": [
    "print(iris.feature_names)\n",
    "print(iris.target_names)"
   ]
  },
  {
   "cell_type": "markdown",
   "metadata": {},
   "source": [
    "Als nächstes geben wir den ersten Datensatz aus."
   ]
  },
  {
   "cell_type": "code",
   "execution_count": 17,
   "metadata": {
    "collapsed": false
   },
   "outputs": [
    {
     "name": "stdout",
     "output_type": "stream",
     "text": [
      "[ 5.1  3.5  1.4  0.2]\n",
      "0\n"
     ]
    }
   ],
   "source": [
    "print(iris.data[0])\n",
    "print(iris.target[0])"
   ]
  },
  {
   "cell_type": "markdown",
   "metadata": {},
   "source": [
    "Um nun den Algorithmen an unbekannten Werten zu testen, werden 3 Werte aus unserer Wertetabelle zum Trainieren gelöscht und dienen später als Testdaten. "
   ]
  },
  {
   "cell_type": "code",
   "execution_count": 18,
   "metadata": {
    "collapsed": false
   },
   "outputs": [],
   "source": [
    "test_idx = [0,50,100]\n",
    "# training data\n",
    "train_target = np.delete(iris.target, test_idx)\n",
    "train_data = np.delete(iris.data, test_idx, axis=0)\n",
    "\n",
    "# testing data\n",
    "test_target = iris.target[test_idx]\n",
    "test_data = iris.data[test_idx]"
   ]
  },
  {
   "cell_type": "markdown",
   "metadata": {},
   "source": [
    "Als Learnalgorithmus kommt der DecisionTreeClassifier zum Einsatz.\n",
    "Der Algorithmus wird nun mit den Testdaten trainiert."
   ]
  },
  {
   "cell_type": "code",
   "execution_count": 19,
   "metadata": {
    "collapsed": false
   },
   "outputs": [
    {
     "data": {
      "text/plain": [
       "DecisionTreeClassifier(class_weight=None, criterion='gini', max_depth=None,\n",
       "            max_features=None, max_leaf_nodes=None,\n",
       "            min_impurity_split=1e-07, min_samples_leaf=1,\n",
       "            min_samples_split=2, min_weight_fraction_leaf=0.0,\n",
       "            presort=False, random_state=None, splitter='best')"
      ]
     },
     "execution_count": 19,
     "metadata": {},
     "output_type": "execute_result"
    }
   ],
   "source": [
    "clf = tree.DecisionTreeClassifier()\n",
    "clf.fit(train_data, train_target)"
   ]
  },
  {
   "cell_type": "markdown",
   "metadata": {},
   "source": [
    "Anschließend soll eine Vorhersage über die Testdaten gefällt werden. Wie zusehen ist, hat er das Ergebnis gefunden. Wichtig hierbei ist der Score. Dieser liegt bei 1.0, was bedeutet, dass unser Testsatz sehr genau ist und eine Identifizierung eindeutig stattfinden kann."
   ]
  },
  {
   "cell_type": "code",
   "execution_count": 20,
   "metadata": {
    "collapsed": false
   },
   "outputs": [
    {
     "name": "stdout",
     "output_type": "stream",
     "text": [
      "Gegebene Label:  [0 1 2]\n",
      "Vorhersehung:  [0 1 2]\n",
      "Genauigkeit (Score):  1.0\n"
     ]
    }
   ],
   "source": [
    "print(\"Gegebene Label: \",test_target)\n",
    "print(\"Vorhersehung: \",clf.predict(test_data))\n",
    "print(\"Genauigkeit (Score): \",clf.score(train_data,train_target))"
   ]
  },
  {
   "cell_type": "markdown",
   "metadata": {},
   "source": [
    "Anschließend wird der Algorithmus an einer Messung geprüft, welche nicht in der Standardtabelle enthalten ist."
   ]
  },
  {
   "cell_type": "code",
   "execution_count": 21,
   "metadata": {
    "collapsed": false
   },
   "outputs": [
    {
     "name": "stdout",
     "output_type": "stream",
     "text": [
      "['setosa']\n"
     ]
    }
   ],
   "source": [
    "neuerMesswert = np.array([5.0, 3.3, 1.4, 0.3]).reshape(1,-1)\n",
    "print(iris.target_names[clf.predict(neuerMesswert)])"
   ]
  },
  {
   "cell_type": "markdown",
   "metadata": {},
   "source": [
    "Die Pflanze konnte ohne Probleme identifieziert werden."
   ]
  },
  {
   "cell_type": "code",
   "execution_count": 10,
   "metadata": {
    "collapsed": false
   },
   "outputs": [
    {
     "data": {
      "image/svg+xml": [
       "<?xml version=\"1.0\" encoding=\"UTF-8\" standalone=\"no\"?>\n",
       "<!DOCTYPE svg PUBLIC \"-//W3C//DTD SVG 1.1//EN\"\n",
       " \"http://www.w3.org/Graphics/SVG/1.1/DTD/svg11.dtd\">\n",
       "<!-- Generated by graphviz version 2.38.0 (20140413.2041)\n",
       " -->\n",
       "<!-- Title: Tree Pages: 1 -->\n",
       "<svg width=\"892pt\" height=\"622pt\"\n",
       " viewBox=\"0.00 0.00 891.81 622.40\" xmlns=\"http://www.w3.org/2000/svg\" xmlns:xlink=\"http://www.w3.org/1999/xlink\">\n",
       "<g id=\"graph0\" class=\"graph\" transform=\"scale(1 1) rotate(0) translate(4 618.4)\">\n",
       "<title>Tree</title>\n",
       "<polygon fill=\"white\" stroke=\"none\" points=\"-4,4 -4,-618.4 887.806,-618.4 887.806,4 -4,4\"/>\n",
       "<!-- 0 -->\n",
       "<g id=\"node1\" class=\"node\"><title>0</title>\n",
       "<path fill=\"none\" stroke=\"black\" d=\"M534.468,-614.5C534.468,-614.5 387.259,-614.5 387.259,-614.5 381.259,-614.5 375.259,-608.5 375.259,-602.5 375.259,-602.5 375.259,-551.1 375.259,-551.1 375.259,-545.1 381.259,-539.1 387.259,-539.1 387.259,-539.1 534.468,-539.1 534.468,-539.1 540.468,-539.1 546.468,-545.1 546.468,-551.1 546.468,-551.1 546.468,-602.5 546.468,-602.5 546.468,-608.5 540.468,-614.5 534.468,-614.5\"/>\n",
       "<text text-anchor=\"middle\" x=\"460.864\" y=\"-597.8\" font-family=\"Helvetica,sans-Serif\" font-size=\"14.00\">petal length (cm) &lt;= 2.45</text>\n",
       "<text text-anchor=\"middle\" x=\"460.864\" y=\"-581\" font-family=\"Helvetica,sans-Serif\" font-size=\"14.00\">samples = 147</text>\n",
       "<text text-anchor=\"middle\" x=\"460.864\" y=\"-564.2\" font-family=\"Helvetica,sans-Serif\" font-size=\"14.00\">value = [49, 49, 49]</text>\n",
       "<text text-anchor=\"middle\" x=\"460.864\" y=\"-547.4\" font-family=\"Helvetica,sans-Serif\" font-size=\"14.00\">class = setosa</text>\n",
       "</g>\n",
       "<!-- 1 -->\n",
       "<g id=\"node2\" class=\"node\"><title>1</title>\n",
       "<path fill=\"#e58139\" stroke=\"black\" d=\"M428.748,-495.001C428.748,-495.001 332.979,-495.001 332.979,-495.001 326.979,-495.001 320.979,-489.001 320.979,-483.001 320.979,-483.001 320.979,-448.199 320.979,-448.199 320.979,-442.199 326.979,-436.199 332.979,-436.199 332.979,-436.199 428.748,-436.199 428.748,-436.199 434.748,-436.199 440.748,-442.199 440.748,-448.199 440.748,-448.199 440.748,-483.001 440.748,-483.001 440.748,-489.001 434.748,-495.001 428.748,-495.001\"/>\n",
       "<text text-anchor=\"middle\" x=\"380.864\" y=\"-478.2\" font-family=\"Helvetica,sans-Serif\" font-size=\"14.00\">samples = 49</text>\n",
       "<text text-anchor=\"middle\" x=\"380.864\" y=\"-461.4\" font-family=\"Helvetica,sans-Serif\" font-size=\"14.00\">value = [49, 0, 0]</text>\n",
       "<text text-anchor=\"middle\" x=\"380.864\" y=\"-444.6\" font-family=\"Helvetica,sans-Serif\" font-size=\"14.00\">class = setosa</text>\n",
       "</g>\n",
       "<!-- 0&#45;&gt;1 -->\n",
       "<g id=\"edge1\" class=\"edge\"><title>0&#45;&gt;1</title>\n",
       "<path fill=\"none\" stroke=\"black\" d=\"M434.002,-539.134C425.528,-527.567 416.169,-514.792 407.697,-503.227\"/>\n",
       "<polygon fill=\"black\" stroke=\"black\" points=\"410.443,-501.053 401.71,-495.055 404.796,-505.19 410.443,-501.053\"/>\n",
       "<text text-anchor=\"middle\" x=\"397.896\" y=\"-515.562\" font-family=\"Helvetica,sans-Serif\" font-size=\"14.00\">True</text>\n",
       "</g>\n",
       "<!-- 2 -->\n",
       "<g id=\"node3\" class=\"node\"><title>2</title>\n",
       "<path fill=\"none\" stroke=\"black\" d=\"M613.009,-503.3C613.009,-503.3 470.718,-503.3 470.718,-503.3 464.718,-503.3 458.718,-497.3 458.718,-491.3 458.718,-491.3 458.718,-439.9 458.718,-439.9 458.718,-433.9 464.718,-427.9 470.718,-427.9 470.718,-427.9 613.009,-427.9 613.009,-427.9 619.009,-427.9 625.009,-433.9 625.009,-439.9 625.009,-439.9 625.009,-491.3 625.009,-491.3 625.009,-497.3 619.009,-503.3 613.009,-503.3\"/>\n",
       "<text text-anchor=\"middle\" x=\"541.864\" y=\"-486.6\" font-family=\"Helvetica,sans-Serif\" font-size=\"14.00\">petal width (cm) &lt;= 1.75</text>\n",
       "<text text-anchor=\"middle\" x=\"541.864\" y=\"-469.8\" font-family=\"Helvetica,sans-Serif\" font-size=\"14.00\">samples = 98</text>\n",
       "<text text-anchor=\"middle\" x=\"541.864\" y=\"-453\" font-family=\"Helvetica,sans-Serif\" font-size=\"14.00\">value = [0, 49, 49]</text>\n",
       "<text text-anchor=\"middle\" x=\"541.864\" y=\"-436.2\" font-family=\"Helvetica,sans-Serif\" font-size=\"14.00\">class = versicolor</text>\n",
       "</g>\n",
       "<!-- 0&#45;&gt;2 -->\n",
       "<g id=\"edge2\" class=\"edge\"><title>0&#45;&gt;2</title>\n",
       "<path fill=\"none\" stroke=\"black\" d=\"M488.061,-539.134C494.606,-530.311 501.672,-520.784 508.463,-511.628\"/>\n",
       "<polygon fill=\"black\" stroke=\"black\" points=\"511.454,-513.472 514.6,-503.355 505.832,-509.301 511.454,-513.472\"/>\n",
       "<text text-anchor=\"middle\" x=\"518.267\" y=\"-523.885\" font-family=\"Helvetica,sans-Serif\" font-size=\"14.00\">False</text>\n",
       "</g>\n",
       "<!-- 3 -->\n",
       "<g id=\"node4\" class=\"node\"><title>3</title>\n",
       "<path fill=\"#39e581\" fill-opacity=\"0.894118\" stroke=\"black\" d=\"M499.468,-392.1C499.468,-392.1 352.259,-392.1 352.259,-392.1 346.259,-392.1 340.259,-386.1 340.259,-380.1 340.259,-380.1 340.259,-328.7 340.259,-328.7 340.259,-322.7 346.259,-316.7 352.259,-316.7 352.259,-316.7 499.468,-316.7 499.468,-316.7 505.468,-316.7 511.468,-322.7 511.468,-328.7 511.468,-328.7 511.468,-380.1 511.468,-380.1 511.468,-386.1 505.468,-392.1 499.468,-392.1\"/>\n",
       "<text text-anchor=\"middle\" x=\"425.864\" y=\"-375.4\" font-family=\"Helvetica,sans-Serif\" font-size=\"14.00\">petal length (cm) &lt;= 4.95</text>\n",
       "<text text-anchor=\"middle\" x=\"425.864\" y=\"-358.6\" font-family=\"Helvetica,sans-Serif\" font-size=\"14.00\">samples = 53</text>\n",
       "<text text-anchor=\"middle\" x=\"425.864\" y=\"-341.8\" font-family=\"Helvetica,sans-Serif\" font-size=\"14.00\">value = [0, 48, 5]</text>\n",
       "<text text-anchor=\"middle\" x=\"425.864\" y=\"-325\" font-family=\"Helvetica,sans-Serif\" font-size=\"14.00\">class = versicolor</text>\n",
       "</g>\n",
       "<!-- 2&#45;&gt;3 -->\n",
       "<g id=\"edge3\" class=\"edge\"><title>2&#45;&gt;3</title>\n",
       "<path fill=\"none\" stroke=\"black\" d=\"M502.915,-427.934C493.063,-418.66 482.387,-408.61 472.21,-399.03\"/>\n",
       "<polygon fill=\"black\" stroke=\"black\" points=\"474.588,-396.461 464.907,-392.155 469.79,-401.558 474.588,-396.461\"/>\n",
       "</g>\n",
       "<!-- 12 -->\n",
       "<g id=\"node13\" class=\"node\"><title>12</title>\n",
       "<path fill=\"#8139e5\" fill-opacity=\"0.976471\" stroke=\"black\" d=\"M732.468,-392.1C732.468,-392.1 585.259,-392.1 585.259,-392.1 579.259,-392.1 573.259,-386.1 573.259,-380.1 573.259,-380.1 573.259,-328.7 573.259,-328.7 573.259,-322.7 579.259,-316.7 585.259,-316.7 585.259,-316.7 732.468,-316.7 732.468,-316.7 738.468,-316.7 744.468,-322.7 744.468,-328.7 744.468,-328.7 744.468,-380.1 744.468,-380.1 744.468,-386.1 738.468,-392.1 732.468,-392.1\"/>\n",
       "<text text-anchor=\"middle\" x=\"658.864\" y=\"-375.4\" font-family=\"Helvetica,sans-Serif\" font-size=\"14.00\">petal length (cm) &lt;= 4.85</text>\n",
       "<text text-anchor=\"middle\" x=\"658.864\" y=\"-358.6\" font-family=\"Helvetica,sans-Serif\" font-size=\"14.00\">samples = 45</text>\n",
       "<text text-anchor=\"middle\" x=\"658.864\" y=\"-341.8\" font-family=\"Helvetica,sans-Serif\" font-size=\"14.00\">value = [0, 1, 44]</text>\n",
       "<text text-anchor=\"middle\" x=\"658.864\" y=\"-325\" font-family=\"Helvetica,sans-Serif\" font-size=\"14.00\">class = virginica</text>\n",
       "</g>\n",
       "<!-- 2&#45;&gt;12 -->\n",
       "<g id=\"edge12\" class=\"edge\"><title>2&#45;&gt;12</title>\n",
       "<path fill=\"none\" stroke=\"black\" d=\"M581.148,-427.934C591.085,-418.66 601.853,-408.61 612.117,-399.03\"/>\n",
       "<polygon fill=\"black\" stroke=\"black\" points=\"614.561,-401.537 619.483,-392.155 609.785,-396.419 614.561,-401.537\"/>\n",
       "</g>\n",
       "<!-- 4 -->\n",
       "<g id=\"node5\" class=\"node\"><title>4</title>\n",
       "<path fill=\"#39e581\" fill-opacity=\"0.976471\" stroke=\"black\" d=\"M270.009,-280.9C270.009,-280.9 127.718,-280.9 127.718,-280.9 121.718,-280.9 115.718,-274.9 115.718,-268.9 115.718,-268.9 115.718,-217.5 115.718,-217.5 115.718,-211.5 121.718,-205.5 127.718,-205.5 127.718,-205.5 270.009,-205.5 270.009,-205.5 276.009,-205.5 282.009,-211.5 282.009,-217.5 282.009,-217.5 282.009,-268.9 282.009,-268.9 282.009,-274.9 276.009,-280.9 270.009,-280.9\"/>\n",
       "<text text-anchor=\"middle\" x=\"198.864\" y=\"-264.2\" font-family=\"Helvetica,sans-Serif\" font-size=\"14.00\">petal width (cm) &lt;= 1.65</text>\n",
       "<text text-anchor=\"middle\" x=\"198.864\" y=\"-247.4\" font-family=\"Helvetica,sans-Serif\" font-size=\"14.00\">samples = 47</text>\n",
       "<text text-anchor=\"middle\" x=\"198.864\" y=\"-230.6\" font-family=\"Helvetica,sans-Serif\" font-size=\"14.00\">value = [0, 46, 1]</text>\n",
       "<text text-anchor=\"middle\" x=\"198.864\" y=\"-213.8\" font-family=\"Helvetica,sans-Serif\" font-size=\"14.00\">class = versicolor</text>\n",
       "</g>\n",
       "<!-- 3&#45;&gt;4 -->\n",
       "<g id=\"edge4\" class=\"edge\"><title>3&#45;&gt;4</title>\n",
       "<path fill=\"none\" stroke=\"black\" d=\"M349.644,-316.734C328.682,-306.65 305.811,-295.648 284.363,-285.33\"/>\n",
       "<polygon fill=\"black\" stroke=\"black\" points=\"285.797,-282.136 275.268,-280.955 282.762,-288.444 285.797,-282.136\"/>\n",
       "</g>\n",
       "<!-- 7 -->\n",
       "<g id=\"node8\" class=\"node\"><title>7</title>\n",
       "<path fill=\"#8139e5\" fill-opacity=\"0.498039\" stroke=\"black\" d=\"M497.009,-280.9C497.009,-280.9 354.718,-280.9 354.718,-280.9 348.718,-280.9 342.718,-274.9 342.718,-268.9 342.718,-268.9 342.718,-217.5 342.718,-217.5 342.718,-211.5 348.718,-205.5 354.718,-205.5 354.718,-205.5 497.009,-205.5 497.009,-205.5 503.009,-205.5 509.009,-211.5 509.009,-217.5 509.009,-217.5 509.009,-268.9 509.009,-268.9 509.009,-274.9 503.009,-280.9 497.009,-280.9\"/>\n",
       "<text text-anchor=\"middle\" x=\"425.864\" y=\"-264.2\" font-family=\"Helvetica,sans-Serif\" font-size=\"14.00\">petal width (cm) &lt;= 1.55</text>\n",
       "<text text-anchor=\"middle\" x=\"425.864\" y=\"-247.4\" font-family=\"Helvetica,sans-Serif\" font-size=\"14.00\">samples = 6</text>\n",
       "<text text-anchor=\"middle\" x=\"425.864\" y=\"-230.6\" font-family=\"Helvetica,sans-Serif\" font-size=\"14.00\">value = [0, 2, 4]</text>\n",
       "<text text-anchor=\"middle\" x=\"425.864\" y=\"-213.8\" font-family=\"Helvetica,sans-Serif\" font-size=\"14.00\">class = virginica</text>\n",
       "</g>\n",
       "<!-- 3&#45;&gt;7 -->\n",
       "<g id=\"edge7\" class=\"edge\"><title>3&#45;&gt;7</title>\n",
       "<path fill=\"none\" stroke=\"black\" d=\"M425.864,-316.734C425.864,-308.541 425.864,-299.741 425.864,-291.196\"/>\n",
       "<polygon fill=\"black\" stroke=\"black\" points=\"429.364,-290.955 425.864,-280.955 422.364,-290.955 429.364,-290.955\"/>\n",
       "</g>\n",
       "<!-- 5 -->\n",
       "<g id=\"node6\" class=\"node\"><title>5</title>\n",
       "<path fill=\"#39e581\" stroke=\"black\" d=\"M111.591,-161.401C111.591,-161.401 12.1361,-161.401 12.1361,-161.401 6.1361,-161.401 0.1361,-155.401 0.1361,-149.401 0.1361,-149.401 0.1361,-114.599 0.1361,-114.599 0.1361,-108.599 6.1361,-102.599 12.1361,-102.599 12.1361,-102.599 111.591,-102.599 111.591,-102.599 117.591,-102.599 123.591,-108.599 123.591,-114.599 123.591,-114.599 123.591,-149.401 123.591,-149.401 123.591,-155.401 117.591,-161.401 111.591,-161.401\"/>\n",
       "<text text-anchor=\"middle\" x=\"61.8636\" y=\"-144.6\" font-family=\"Helvetica,sans-Serif\" font-size=\"14.00\">samples = 46</text>\n",
       "<text text-anchor=\"middle\" x=\"61.8636\" y=\"-127.8\" font-family=\"Helvetica,sans-Serif\" font-size=\"14.00\">value = [0, 46, 0]</text>\n",
       "<text text-anchor=\"middle\" x=\"61.8636\" y=\"-111\" font-family=\"Helvetica,sans-Serif\" font-size=\"14.00\">class = versicolor</text>\n",
       "</g>\n",
       "<!-- 4&#45;&gt;5 -->\n",
       "<g id=\"edge5\" class=\"edge\"><title>4&#45;&gt;5</title>\n",
       "<path fill=\"none\" stroke=\"black\" d=\"M152.863,-205.534C137.647,-193.405 120.764,-179.948 105.713,-167.952\"/>\n",
       "<polygon fill=\"black\" stroke=\"black\" points=\"107.564,-164.951 97.5625,-161.455 103.201,-170.425 107.564,-164.951\"/>\n",
       "</g>\n",
       "<!-- 6 -->\n",
       "<g id=\"node7\" class=\"node\"><title>6</title>\n",
       "<path fill=\"#8139e5\" stroke=\"black\" d=\"M244.537,-161.401C244.537,-161.401 153.19,-161.401 153.19,-161.401 147.19,-161.401 141.19,-155.401 141.19,-149.401 141.19,-149.401 141.19,-114.599 141.19,-114.599 141.19,-108.599 147.19,-102.599 153.19,-102.599 153.19,-102.599 244.537,-102.599 244.537,-102.599 250.537,-102.599 256.537,-108.599 256.537,-114.599 256.537,-114.599 256.537,-149.401 256.537,-149.401 256.537,-155.401 250.537,-161.401 244.537,-161.401\"/>\n",
       "<text text-anchor=\"middle\" x=\"198.864\" y=\"-144.6\" font-family=\"Helvetica,sans-Serif\" font-size=\"14.00\">samples = 1</text>\n",
       "<text text-anchor=\"middle\" x=\"198.864\" y=\"-127.8\" font-family=\"Helvetica,sans-Serif\" font-size=\"14.00\">value = [0, 0, 1]</text>\n",
       "<text text-anchor=\"middle\" x=\"198.864\" y=\"-111\" font-family=\"Helvetica,sans-Serif\" font-size=\"14.00\">class = virginica</text>\n",
       "</g>\n",
       "<!-- 4&#45;&gt;6 -->\n",
       "<g id=\"edge6\" class=\"edge\"><title>4&#45;&gt;6</title>\n",
       "<path fill=\"none\" stroke=\"black\" d=\"M198.864,-205.534C198.864,-194.641 198.864,-182.676 198.864,-171.66\"/>\n",
       "<polygon fill=\"black\" stroke=\"black\" points=\"202.364,-171.455 198.864,-161.455 195.364,-171.455 202.364,-171.455\"/>\n",
       "</g>\n",
       "<!-- 8 -->\n",
       "<g id=\"node9\" class=\"node\"><title>8</title>\n",
       "<path fill=\"#8139e5\" stroke=\"black\" d=\"M377.537,-161.401C377.537,-161.401 286.19,-161.401 286.19,-161.401 280.19,-161.401 274.19,-155.401 274.19,-149.401 274.19,-149.401 274.19,-114.599 274.19,-114.599 274.19,-108.599 280.19,-102.599 286.19,-102.599 286.19,-102.599 377.537,-102.599 377.537,-102.599 383.537,-102.599 389.537,-108.599 389.537,-114.599 389.537,-114.599 389.537,-149.401 389.537,-149.401 389.537,-155.401 383.537,-161.401 377.537,-161.401\"/>\n",
       "<text text-anchor=\"middle\" x=\"331.864\" y=\"-144.6\" font-family=\"Helvetica,sans-Serif\" font-size=\"14.00\">samples = 3</text>\n",
       "<text text-anchor=\"middle\" x=\"331.864\" y=\"-127.8\" font-family=\"Helvetica,sans-Serif\" font-size=\"14.00\">value = [0, 0, 3]</text>\n",
       "<text text-anchor=\"middle\" x=\"331.864\" y=\"-111\" font-family=\"Helvetica,sans-Serif\" font-size=\"14.00\">class = virginica</text>\n",
       "</g>\n",
       "<!-- 7&#45;&gt;8 -->\n",
       "<g id=\"edge8\" class=\"edge\"><title>7&#45;&gt;8</title>\n",
       "<path fill=\"none\" stroke=\"black\" d=\"M394.301,-205.534C384.248,-193.855 373.134,-180.943 363.103,-169.291\"/>\n",
       "<polygon fill=\"black\" stroke=\"black\" points=\"365.534,-166.75 356.358,-161.455 360.229,-171.317 365.534,-166.75\"/>\n",
       "</g>\n",
       "<!-- 9 -->\n",
       "<g id=\"node10\" class=\"node\"><title>9</title>\n",
       "<path fill=\"#39e581\" fill-opacity=\"0.498039\" stroke=\"black\" d=\"M566.468,-169.7C566.468,-169.7 419.259,-169.7 419.259,-169.7 413.259,-169.7 407.259,-163.7 407.259,-157.7 407.259,-157.7 407.259,-106.3 407.259,-106.3 407.259,-100.3 413.259,-94.2997 419.259,-94.2997 419.259,-94.2997 566.468,-94.2997 566.468,-94.2997 572.468,-94.2997 578.468,-100.3 578.468,-106.3 578.468,-106.3 578.468,-157.7 578.468,-157.7 578.468,-163.7 572.468,-169.7 566.468,-169.7\"/>\n",
       "<text text-anchor=\"middle\" x=\"492.864\" y=\"-153\" font-family=\"Helvetica,sans-Serif\" font-size=\"14.00\">petal length (cm) &lt;= 5.45</text>\n",
       "<text text-anchor=\"middle\" x=\"492.864\" y=\"-136.2\" font-family=\"Helvetica,sans-Serif\" font-size=\"14.00\">samples = 3</text>\n",
       "<text text-anchor=\"middle\" x=\"492.864\" y=\"-119.4\" font-family=\"Helvetica,sans-Serif\" font-size=\"14.00\">value = [0, 2, 1]</text>\n",
       "<text text-anchor=\"middle\" x=\"492.864\" y=\"-102.6\" font-family=\"Helvetica,sans-Serif\" font-size=\"14.00\">class = versicolor</text>\n",
       "</g>\n",
       "<!-- 7&#45;&gt;9 -->\n",
       "<g id=\"edge9\" class=\"edge\"><title>7&#45;&gt;9</title>\n",
       "<path fill=\"none\" stroke=\"black\" d=\"M448.36,-205.534C453.718,-196.801 459.5,-187.378 465.064,-178.309\"/>\n",
       "<polygon fill=\"black\" stroke=\"black\" points=\"468.066,-180.109 470.313,-169.755 462.1,-176.448 468.066,-180.109\"/>\n",
       "</g>\n",
       "<!-- 10 -->\n",
       "<g id=\"node11\" class=\"node\"><title>10</title>\n",
       "<path fill=\"#39e581\" stroke=\"black\" d=\"M473.591,-58.6014C473.591,-58.6014 374.136,-58.6014 374.136,-58.6014 368.136,-58.6014 362.136,-52.6014 362.136,-46.6014 362.136,-46.6014 362.136,-11.7986 362.136,-11.7986 362.136,-5.79862 368.136,0.201379 374.136,0.201379 374.136,0.201379 473.591,0.201379 473.591,0.201379 479.591,0.201379 485.591,-5.79862 485.591,-11.7986 485.591,-11.7986 485.591,-46.6014 485.591,-46.6014 485.591,-52.6014 479.591,-58.6014 473.591,-58.6014\"/>\n",
       "<text text-anchor=\"middle\" x=\"423.864\" y=\"-41.8\" font-family=\"Helvetica,sans-Serif\" font-size=\"14.00\">samples = 2</text>\n",
       "<text text-anchor=\"middle\" x=\"423.864\" y=\"-25\" font-family=\"Helvetica,sans-Serif\" font-size=\"14.00\">value = [0, 2, 0]</text>\n",
       "<text text-anchor=\"middle\" x=\"423.864\" y=\"-8.2\" font-family=\"Helvetica,sans-Serif\" font-size=\"14.00\">class = versicolor</text>\n",
       "</g>\n",
       "<!-- 9&#45;&gt;10 -->\n",
       "<g id=\"edge10\" class=\"edge\"><title>9&#45;&gt;10</title>\n",
       "<path fill=\"none\" stroke=\"black\" d=\"M467.758,-94.3237C461.626,-85.3655 455.065,-75.7811 448.934,-66.8252\"/>\n",
       "<polygon fill=\"black\" stroke=\"black\" points=\"451.753,-64.7471 443.217,-58.4722 445.977,-68.7011 451.753,-64.7471\"/>\n",
       "</g>\n",
       "<!-- 11 -->\n",
       "<g id=\"node12\" class=\"node\"><title>11</title>\n",
       "<path fill=\"#8139e5\" stroke=\"black\" d=\"M606.537,-58.6014C606.537,-58.6014 515.19,-58.6014 515.19,-58.6014 509.19,-58.6014 503.19,-52.6014 503.19,-46.6014 503.19,-46.6014 503.19,-11.7986 503.19,-11.7986 503.19,-5.79862 509.19,0.201379 515.19,0.201379 515.19,0.201379 606.537,0.201379 606.537,0.201379 612.537,0.201379 618.537,-5.79862 618.537,-11.7986 618.537,-11.7986 618.537,-46.6014 618.537,-46.6014 618.537,-52.6014 612.537,-58.6014 606.537,-58.6014\"/>\n",
       "<text text-anchor=\"middle\" x=\"560.864\" y=\"-41.8\" font-family=\"Helvetica,sans-Serif\" font-size=\"14.00\">samples = 1</text>\n",
       "<text text-anchor=\"middle\" x=\"560.864\" y=\"-25\" font-family=\"Helvetica,sans-Serif\" font-size=\"14.00\">value = [0, 0, 1]</text>\n",
       "<text text-anchor=\"middle\" x=\"560.864\" y=\"-8.2\" font-family=\"Helvetica,sans-Serif\" font-size=\"14.00\">class = virginica</text>\n",
       "</g>\n",
       "<!-- 9&#45;&gt;11 -->\n",
       "<g id=\"edge11\" class=\"edge\"><title>9&#45;&gt;11</title>\n",
       "<path fill=\"none\" stroke=\"black\" d=\"M517.606,-94.3237C523.649,-85.3655 530.114,-75.7811 536.156,-66.8252\"/>\n",
       "<polygon fill=\"black\" stroke=\"black\" points=\"539.1,-68.7196 541.791,-58.4722 533.297,-64.8048 539.1,-68.7196\"/>\n",
       "</g>\n",
       "<!-- 13 -->\n",
       "<g id=\"node14\" class=\"node\"><title>13</title>\n",
       "<path fill=\"#8139e5\" fill-opacity=\"0.498039\" stroke=\"black\" d=\"M734.078,-280.9C734.078,-280.9 583.65,-280.9 583.65,-280.9 577.65,-280.9 571.65,-274.9 571.65,-268.9 571.65,-268.9 571.65,-217.5 571.65,-217.5 571.65,-211.5 577.65,-205.5 583.65,-205.5 583.65,-205.5 734.078,-205.5 734.078,-205.5 740.078,-205.5 746.078,-211.5 746.078,-217.5 746.078,-217.5 746.078,-268.9 746.078,-268.9 746.078,-274.9 740.078,-280.9 734.078,-280.9\"/>\n",
       "<text text-anchor=\"middle\" x=\"658.864\" y=\"-264.2\" font-family=\"Helvetica,sans-Serif\" font-size=\"14.00\">sepal length (cm) &lt;= 5.95</text>\n",
       "<text text-anchor=\"middle\" x=\"658.864\" y=\"-247.4\" font-family=\"Helvetica,sans-Serif\" font-size=\"14.00\">samples = 3</text>\n",
       "<text text-anchor=\"middle\" x=\"658.864\" y=\"-230.6\" font-family=\"Helvetica,sans-Serif\" font-size=\"14.00\">value = [0, 1, 2]</text>\n",
       "<text text-anchor=\"middle\" x=\"658.864\" y=\"-213.8\" font-family=\"Helvetica,sans-Serif\" font-size=\"14.00\">class = virginica</text>\n",
       "</g>\n",
       "<!-- 12&#45;&gt;13 -->\n",
       "<g id=\"edge13\" class=\"edge\"><title>12&#45;&gt;13</title>\n",
       "<path fill=\"none\" stroke=\"black\" d=\"M658.864,-316.734C658.864,-308.541 658.864,-299.741 658.864,-291.196\"/>\n",
       "<polygon fill=\"black\" stroke=\"black\" points=\"662.364,-290.955 658.864,-280.955 655.364,-290.955 662.364,-290.955\"/>\n",
       "</g>\n",
       "<!-- 16 -->\n",
       "<g id=\"node17\" class=\"node\"><title>16</title>\n",
       "<path fill=\"#8139e5\" stroke=\"black\" d=\"M871.748,-272.601C871.748,-272.601 775.979,-272.601 775.979,-272.601 769.979,-272.601 763.979,-266.601 763.979,-260.601 763.979,-260.601 763.979,-225.799 763.979,-225.799 763.979,-219.799 769.979,-213.799 775.979,-213.799 775.979,-213.799 871.748,-213.799 871.748,-213.799 877.748,-213.799 883.748,-219.799 883.748,-225.799 883.748,-225.799 883.748,-260.601 883.748,-260.601 883.748,-266.601 877.748,-272.601 871.748,-272.601\"/>\n",
       "<text text-anchor=\"middle\" x=\"823.864\" y=\"-255.8\" font-family=\"Helvetica,sans-Serif\" font-size=\"14.00\">samples = 42</text>\n",
       "<text text-anchor=\"middle\" x=\"823.864\" y=\"-239\" font-family=\"Helvetica,sans-Serif\" font-size=\"14.00\">value = [0, 0, 42]</text>\n",
       "<text text-anchor=\"middle\" x=\"823.864\" y=\"-222.2\" font-family=\"Helvetica,sans-Serif\" font-size=\"14.00\">class = virginica</text>\n",
       "</g>\n",
       "<!-- 12&#45;&gt;16 -->\n",
       "<g id=\"edge16\" class=\"edge\"><title>12&#45;&gt;16</title>\n",
       "<path fill=\"none\" stroke=\"black\" d=\"M714.265,-316.734C733.097,-304.271 754.047,-290.406 772.545,-278.163\"/>\n",
       "<polygon fill=\"black\" stroke=\"black\" points=\"774.724,-280.919 781.131,-272.481 770.861,-275.081 774.724,-280.919\"/>\n",
       "</g>\n",
       "<!-- 14 -->\n",
       "<g id=\"node15\" class=\"node\"><title>14</title>\n",
       "<path fill=\"#39e581\" stroke=\"black\" d=\"M708.591,-161.401C708.591,-161.401 609.136,-161.401 609.136,-161.401 603.136,-161.401 597.136,-155.401 597.136,-149.401 597.136,-149.401 597.136,-114.599 597.136,-114.599 597.136,-108.599 603.136,-102.599 609.136,-102.599 609.136,-102.599 708.591,-102.599 708.591,-102.599 714.591,-102.599 720.591,-108.599 720.591,-114.599 720.591,-114.599 720.591,-149.401 720.591,-149.401 720.591,-155.401 714.591,-161.401 708.591,-161.401\"/>\n",
       "<text text-anchor=\"middle\" x=\"658.864\" y=\"-144.6\" font-family=\"Helvetica,sans-Serif\" font-size=\"14.00\">samples = 1</text>\n",
       "<text text-anchor=\"middle\" x=\"658.864\" y=\"-127.8\" font-family=\"Helvetica,sans-Serif\" font-size=\"14.00\">value = [0, 1, 0]</text>\n",
       "<text text-anchor=\"middle\" x=\"658.864\" y=\"-111\" font-family=\"Helvetica,sans-Serif\" font-size=\"14.00\">class = versicolor</text>\n",
       "</g>\n",
       "<!-- 13&#45;&gt;14 -->\n",
       "<g id=\"edge14\" class=\"edge\"><title>13&#45;&gt;14</title>\n",
       "<path fill=\"none\" stroke=\"black\" d=\"M658.864,-205.534C658.864,-194.641 658.864,-182.676 658.864,-171.66\"/>\n",
       "<polygon fill=\"black\" stroke=\"black\" points=\"662.364,-171.455 658.864,-161.455 655.364,-171.455 662.364,-171.455\"/>\n",
       "</g>\n",
       "<!-- 15 -->\n",
       "<g id=\"node16\" class=\"node\"><title>15</title>\n",
       "<path fill=\"#8139e5\" stroke=\"black\" d=\"M841.537,-161.401C841.537,-161.401 750.19,-161.401 750.19,-161.401 744.19,-161.401 738.19,-155.401 738.19,-149.401 738.19,-149.401 738.19,-114.599 738.19,-114.599 738.19,-108.599 744.19,-102.599 750.19,-102.599 750.19,-102.599 841.537,-102.599 841.537,-102.599 847.537,-102.599 853.537,-108.599 853.537,-114.599 853.537,-114.599 853.537,-149.401 853.537,-149.401 853.537,-155.401 847.537,-161.401 841.537,-161.401\"/>\n",
       "<text text-anchor=\"middle\" x=\"795.864\" y=\"-144.6\" font-family=\"Helvetica,sans-Serif\" font-size=\"14.00\">samples = 2</text>\n",
       "<text text-anchor=\"middle\" x=\"795.864\" y=\"-127.8\" font-family=\"Helvetica,sans-Serif\" font-size=\"14.00\">value = [0, 0, 2]</text>\n",
       "<text text-anchor=\"middle\" x=\"795.864\" y=\"-111\" font-family=\"Helvetica,sans-Serif\" font-size=\"14.00\">class = virginica</text>\n",
       "</g>\n",
       "<!-- 13&#45;&gt;15 -->\n",
       "<g id=\"edge15\" class=\"edge\"><title>13&#45;&gt;15</title>\n",
       "<path fill=\"none\" stroke=\"black\" d=\"M704.864,-205.534C720.08,-193.405 736.963,-179.948 752.014,-167.952\"/>\n",
       "<polygon fill=\"black\" stroke=\"black\" points=\"754.526,-170.425 760.165,-161.455 750.163,-164.951 754.526,-170.425\"/>\n",
       "</g>\n",
       "</g>\n",
       "</svg>\n"
      ],
      "text/plain": [
       "<graphviz.files.Source at 0x7f66e6d9d710>"
      ]
     },
     "execution_count": 10,
     "metadata": {},
     "output_type": "execute_result"
    }
   ],
   "source": [
    "from sklearn.tree import export_graphviz\n",
    "import graphviz\n",
    "\n",
    "export_graphviz(clf, \n",
    "                out_file=\"decisiontree.dot\",\n",
    "                feature_names=iris.feature_names,\n",
    "                class_names=iris.target_names,\n",
    "                filled=True,\n",
    "                rounded=True,\n",
    "                impurity=False )\n",
    "with open(\"decisiontree.dot\") as f:\n",
    "    dot_graph = f.read()\n",
    "graphviz.Source(dot_graph)"
   ]
  },
  {
   "cell_type": "markdown",
   "metadata": {
    "collapsed": true
   },
   "source": [
    "That is all folks!!!"
   ]
  }
 ],
 "metadata": {
  "anaconda-cloud": {},
  "kernelspec": {
   "display_name": "Python [default]",
   "language": "python",
   "name": "python3"
  },
  "language_info": {
   "codemirror_mode": {
    "name": "ipython",
    "version": 3
   },
   "file_extension": ".py",
   "mimetype": "text/x-python",
   "name": "python",
   "nbconvert_exporter": "python",
   "pygments_lexer": "ipython3",
   "version": "3.5.2"
  }
 },
 "nbformat": 4,
 "nbformat_minor": 1
}
