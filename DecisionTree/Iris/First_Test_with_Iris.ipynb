{
 "cells": [
  {
   "cell_type": "markdown",
   "metadata": {
    "deletable": true,
    "editable": true
   },
   "source": [
    "# How-To-Guide für machinelearning mit Scikit-learn"
   ]
  },
  {
   "cell_type": "markdown",
   "metadata": {
    "deletable": true,
    "editable": true
   },
   "source": [
    "In diesem Beispiel benutzen wir den weltbekannten Iris Testsatz um anhand von anatomischen Eigenschaften 3 Pflanzenarten voneinander zu unterscheiden. Dazu laden wir zuerst alle Abhängikeiten und Datensätze in unser Notebook."
   ]
  },
  {
   "cell_type": "code",
   "execution_count": 2,
   "metadata": {
    "collapsed": true,
    "deletable": true,
    "editable": true
   },
   "outputs": [],
   "source": [
    "import numpy as np\n",
    "from sklearn.datasets import load_iris\n",
    "from sklearn import tree"
   ]
  },
  {
   "cell_type": "code",
   "execution_count": 3,
   "metadata": {
    "collapsed": false,
    "deletable": true,
    "editable": true
   },
   "outputs": [
    {
     "name": "stdout",
     "output_type": "stream",
     "text": [
      "Anzahl der Rohdaten:  150\n",
      "Anzahl der Labels:  150\n"
     ]
    }
   ],
   "source": [
    "iris = load_iris()\n",
    "print(\"Anzahl der Rohdaten: \",len(iris.data))\n",
    "print(\"Anzahl der Labels: \",len(iris.target))"
   ]
  },
  {
   "cell_type": "markdown",
   "metadata": {
    "deletable": true,
    "editable": true
   },
   "source": [
    "Wie man sieht besitzt unser Datensatz nun genau 150 Elemente. Dabei sind 3 Features jeweils einem Label (Pflanzenart) zugerodnet. Für eine besser Aufschlüsselung der Feature siehe Beispiel unten:"
   ]
  },
  {
   "cell_type": "code",
   "execution_count": 4,
   "metadata": {
    "collapsed": false,
    "deletable": true,
    "editable": true
   },
   "outputs": [
    {
     "name": "stdout",
     "output_type": "stream",
     "text": [
      "['sepal length (cm)', 'sepal width (cm)', 'petal length (cm)', 'petal width (cm)']\n",
      "['setosa' 'versicolor' 'virginica']\n"
     ]
    }
   ],
   "source": [
    "print(iris.feature_names)\n",
    "print(iris.target_names)"
   ]
  },
  {
   "cell_type": "markdown",
   "metadata": {
    "deletable": true,
    "editable": true
   },
   "source": [
    "Als nächstes geben wir den ersten Datensatz aus."
   ]
  },
  {
   "cell_type": "code",
   "execution_count": 5,
   "metadata": {
    "collapsed": false,
    "deletable": true,
    "editable": true
   },
   "outputs": [
    {
     "name": "stdout",
     "output_type": "stream",
     "text": [
      "[ 5.1  3.5  1.4  0.2]\n",
      "0\n"
     ]
    }
   ],
   "source": [
    "print(iris.data[0])\n",
    "print(iris.target[0])"
   ]
  },
  {
   "cell_type": "markdown",
   "metadata": {
    "deletable": true,
    "editable": true
   },
   "source": [
    "Um nun den Algorithmen an unbekannten Werten zu testen, werden 3 Werte aus unserer Wertetabelle zum Trainieren gelöscht und dienen später als Testdaten. "
   ]
  },
  {
   "cell_type": "code",
   "execution_count": 6,
   "metadata": {
    "collapsed": false,
    "deletable": true,
    "editable": true
   },
   "outputs": [],
   "source": [
    "test_idx = [0,50,100]\n",
    "# training data\n",
    "train_target = np.delete(iris.target, test_idx)\n",
    "train_data = np.delete(iris.data, test_idx, axis=0)\n",
    "\n",
    "# testing data\n",
    "test_target = iris.target[test_idx]\n",
    "test_data = iris.data[test_idx]"
   ]
  },
  {
   "cell_type": "markdown",
   "metadata": {
    "deletable": true,
    "editable": true
   },
   "source": [
    "Als Learnalgorithmus kommt der DecisionTreeClassifier zum Einsatz.\n",
    "Der Algorithmus wird nun mit den Testdaten trainiert."
   ]
  },
  {
   "cell_type": "code",
   "execution_count": 7,
   "metadata": {
    "collapsed": false,
    "deletable": true,
    "editable": true
   },
   "outputs": [
    {
     "data": {
      "text/plain": [
       "DecisionTreeClassifier(class_weight=None, criterion='gini', max_depth=None,\n",
       "            max_features=None, max_leaf_nodes=None,\n",
       "            min_impurity_split=1e-07, min_samples_leaf=1,\n",
       "            min_samples_split=2, min_weight_fraction_leaf=0.0,\n",
       "            presort=False, random_state=None, splitter='best')"
      ]
     },
     "execution_count": 7,
     "metadata": {},
     "output_type": "execute_result"
    }
   ],
   "source": [
    "clf = tree.DecisionTreeClassifier()\n",
    "clf.fit(train_data, train_target)"
   ]
  },
  {
   "cell_type": "markdown",
   "metadata": {
    "deletable": true,
    "editable": true
   },
   "source": [
    "Anschließend soll eine Vorhersage über die Testdaten gefällt werden. Wie zusehen ist, hat er das Ergebnis gefunden. Wichtig hierbei ist der Score. Dieser liegt bei 1.0, was bedeutet, dass unser Testsatz sehr genau ist und eine Identifizierung eindeutig stattfinden kann."
   ]
  },
  {
   "cell_type": "code",
   "execution_count": 8,
   "metadata": {
    "collapsed": false,
    "deletable": true,
    "editable": true
   },
   "outputs": [
    {
     "name": "stdout",
     "output_type": "stream",
     "text": [
      "Gegebene Label:  [0 1 2]\n",
      "Vorhersehung:  [0 1 2]\n",
      "Genauigkeit (Score):  1.0\n"
     ]
    }
   ],
   "source": [
    "print(\"Gegebene Label: \",test_target)\n",
    "print(\"Vorhersehung: \",clf.predict(test_data))\n",
    "print(\"Genauigkeit (Score): \",clf.score(train_data,train_target))"
   ]
  },
  {
   "cell_type": "markdown",
   "metadata": {
    "deletable": true,
    "editable": true
   },
   "source": [
    "Anschließend wird der Algorithmus an einer Messung geprüft, welche nicht in der Standardtabelle enthalten ist."
   ]
  },
  {
   "cell_type": "code",
   "execution_count": 9,
   "metadata": {
    "collapsed": false,
    "deletable": true,
    "editable": true
   },
   "outputs": [
    {
     "name": "stdout",
     "output_type": "stream",
     "text": [
      "['setosa']\n"
     ]
    }
   ],
   "source": [
    "neuerMesswert = np.array([5.0, 3.3, 1.4, 0.3]).reshape(1,-1)\n",
    "print(iris.target_names[clf.predict(neuerMesswert)])"
   ]
  },
  {
   "cell_type": "markdown",
   "metadata": {
    "deletable": true,
    "editable": true
   },
   "source": [
    "Die Pflanze konnte ohne Probleme identifieziert werden."
   ]
  },
  {
   "cell_type": "code",
   "execution_count": 11,
   "metadata": {
    "collapsed": false,
    "deletable": true,
    "editable": true
   },
   "outputs": [
    {
     "data": {
      "image/svg+xml": [
       "<?xml version=\"1.0\" encoding=\"UTF-8\" standalone=\"no\"?>\n",
       "<!DOCTYPE svg PUBLIC \"-//W3C//DTD SVG 1.1//EN\"\n",
       " \"http://www.w3.org/Graphics/SVG/1.1/DTD/svg11.dtd\">\n",
       "<!-- Generated by graphviz version 2.38.0 (20140413.2041)\n",
       " -->\n",
       "<!-- Title: Tree Pages: 1 -->\n",
       "<svg width=\"869pt\" height=\"581pt\"\n",
       " viewBox=\"0.00 0.00 869.00 581.00\" xmlns=\"http://www.w3.org/2000/svg\" xmlns:xlink=\"http://www.w3.org/1999/xlink\">\n",
       "<g id=\"graph0\" class=\"graph\" transform=\"scale(1 1) rotate(0) translate(4 577)\">\n",
       "<title>Tree</title>\n",
       "<polygon fill=\"white\" stroke=\"none\" points=\"-4,4 -4,-577 865,-577 865,4 -4,4\"/>\n",
       "<!-- 0 -->\n",
       "<g id=\"node1\" class=\"node\"><title>0</title>\n",
       "<path fill=\"none\" stroke=\"black\" d=\"M519,-573C519,-573 388,-573 388,-573 382,-573 376,-567 376,-561 376,-561 376,-517 376,-517 376,-511 382,-505 388,-505 388,-505 519,-505 519,-505 525,-505 531,-511 531,-517 531,-517 531,-561 531,-561 531,-567 525,-573 519,-573\"/>\n",
       "<text text-anchor=\"middle\" x=\"453.5\" y=\"-557.8\" font-family=\"Helvetica,sans-Serif\" font-size=\"14.00\">petal width (cm) &lt;= 0.8</text>\n",
       "<text text-anchor=\"middle\" x=\"453.5\" y=\"-542.8\" font-family=\"Helvetica,sans-Serif\" font-size=\"14.00\">samples = 147</text>\n",
       "<text text-anchor=\"middle\" x=\"453.5\" y=\"-527.8\" font-family=\"Helvetica,sans-Serif\" font-size=\"14.00\">value = [49, 49, 49]</text>\n",
       "<text text-anchor=\"middle\" x=\"453.5\" y=\"-512.8\" font-family=\"Helvetica,sans-Serif\" font-size=\"14.00\">class = setosa</text>\n",
       "</g>\n",
       "<!-- 1 -->\n",
       "<g id=\"node2\" class=\"node\"><title>1</title>\n",
       "<path fill=\"#e58139\" stroke=\"black\" d=\"M421,-461.5C421,-461.5 328,-461.5 328,-461.5 322,-461.5 316,-455.5 316,-449.5 316,-449.5 316,-420.5 316,-420.5 316,-414.5 322,-408.5 328,-408.5 328,-408.5 421,-408.5 421,-408.5 427,-408.5 433,-414.5 433,-420.5 433,-420.5 433,-449.5 433,-449.5 433,-455.5 427,-461.5 421,-461.5\"/>\n",
       "<text text-anchor=\"middle\" x=\"374.5\" y=\"-446.3\" font-family=\"Helvetica,sans-Serif\" font-size=\"14.00\">samples = 49</text>\n",
       "<text text-anchor=\"middle\" x=\"374.5\" y=\"-431.3\" font-family=\"Helvetica,sans-Serif\" font-size=\"14.00\">value = [49, 0, 0]</text>\n",
       "<text text-anchor=\"middle\" x=\"374.5\" y=\"-416.3\" font-family=\"Helvetica,sans-Serif\" font-size=\"14.00\">class = setosa</text>\n",
       "</g>\n",
       "<!-- 0&#45;&gt;1 -->\n",
       "<g id=\"edge1\" class=\"edge\"><title>0&#45;&gt;1</title>\n",
       "<path fill=\"none\" stroke=\"black\" d=\"M427.851,-504.884C419.077,-493.556 409.26,-480.88 400.462,-469.521\"/>\n",
       "<polygon fill=\"black\" stroke=\"black\" points=\"403.156,-467.283 394.265,-461.52 397.622,-471.569 403.156,-467.283\"/>\n",
       "<text text-anchor=\"middle\" x=\"391.114\" y=\"-482.621\" font-family=\"Helvetica,sans-Serif\" font-size=\"14.00\">True</text>\n",
       "</g>\n",
       "<!-- 2 -->\n",
       "<g id=\"node3\" class=\"node\"><title>2</title>\n",
       "<path fill=\"none\" stroke=\"black\" d=\"M602,-469C602,-469 463,-469 463,-469 457,-469 451,-463 451,-457 451,-457 451,-413 451,-413 451,-407 457,-401 463,-401 463,-401 602,-401 602,-401 608,-401 614,-407 614,-413 614,-413 614,-457 614,-457 614,-463 608,-469 602,-469\"/>\n",
       "<text text-anchor=\"middle\" x=\"532.5\" y=\"-453.8\" font-family=\"Helvetica,sans-Serif\" font-size=\"14.00\">petal width (cm) &lt;= 1.75</text>\n",
       "<text text-anchor=\"middle\" x=\"532.5\" y=\"-438.8\" font-family=\"Helvetica,sans-Serif\" font-size=\"14.00\">samples = 98</text>\n",
       "<text text-anchor=\"middle\" x=\"532.5\" y=\"-423.8\" font-family=\"Helvetica,sans-Serif\" font-size=\"14.00\">value = [0, 49, 49]</text>\n",
       "<text text-anchor=\"middle\" x=\"532.5\" y=\"-408.8\" font-family=\"Helvetica,sans-Serif\" font-size=\"14.00\">class = versicolor</text>\n",
       "</g>\n",
       "<!-- 0&#45;&gt;2 -->\n",
       "<g id=\"edge2\" class=\"edge\"><title>0&#45;&gt;2</title>\n",
       "<path fill=\"none\" stroke=\"black\" d=\"M479.149,-504.884C485.979,-496.065 493.441,-486.43 500.563,-477.235\"/>\n",
       "<polygon fill=\"black\" stroke=\"black\" points=\"503.353,-479.349 506.709,-469.299 497.819,-475.062 503.353,-479.349\"/>\n",
       "<text text-anchor=\"middle\" x=\"509.861\" y=\"-490.4\" font-family=\"Helvetica,sans-Serif\" font-size=\"14.00\">False</text>\n",
       "</g>\n",
       "<!-- 3 -->\n",
       "<g id=\"node4\" class=\"node\"><title>3</title>\n",
       "<path fill=\"#39e581\" fill-opacity=\"0.894118\" stroke=\"black\" d=\"M490.5,-365C490.5,-365 346.5,-365 346.5,-365 340.5,-365 334.5,-359 334.5,-353 334.5,-353 334.5,-309 334.5,-309 334.5,-303 340.5,-297 346.5,-297 346.5,-297 490.5,-297 490.5,-297 496.5,-297 502.5,-303 502.5,-309 502.5,-309 502.5,-353 502.5,-353 502.5,-359 496.5,-365 490.5,-365\"/>\n",
       "<text text-anchor=\"middle\" x=\"418.5\" y=\"-349.8\" font-family=\"Helvetica,sans-Serif\" font-size=\"14.00\">petal length (cm) &lt;= 4.95</text>\n",
       "<text text-anchor=\"middle\" x=\"418.5\" y=\"-334.8\" font-family=\"Helvetica,sans-Serif\" font-size=\"14.00\">samples = 53</text>\n",
       "<text text-anchor=\"middle\" x=\"418.5\" y=\"-319.8\" font-family=\"Helvetica,sans-Serif\" font-size=\"14.00\">value = [0, 48, 5]</text>\n",
       "<text text-anchor=\"middle\" x=\"418.5\" y=\"-304.8\" font-family=\"Helvetica,sans-Serif\" font-size=\"14.00\">class = versicolor</text>\n",
       "</g>\n",
       "<!-- 2&#45;&gt;3 -->\n",
       "<g id=\"edge3\" class=\"edge\"><title>2&#45;&gt;3</title>\n",
       "<path fill=\"none\" stroke=\"black\" d=\"M495.487,-400.884C485.234,-391.709 473.991,-381.65 463.343,-372.123\"/>\n",
       "<polygon fill=\"black\" stroke=\"black\" points=\"465.503,-369.359 455.717,-365.299 460.836,-374.576 465.503,-369.359\"/>\n",
       "</g>\n",
       "<!-- 12 -->\n",
       "<g id=\"node13\" class=\"node\"><title>12</title>\n",
       "<path fill=\"#8139e5\" fill-opacity=\"0.976471\" stroke=\"black\" d=\"M718.5,-365C718.5,-365 574.5,-365 574.5,-365 568.5,-365 562.5,-359 562.5,-353 562.5,-353 562.5,-309 562.5,-309 562.5,-303 568.5,-297 574.5,-297 574.5,-297 718.5,-297 718.5,-297 724.5,-297 730.5,-303 730.5,-309 730.5,-309 730.5,-353 730.5,-353 730.5,-359 724.5,-365 718.5,-365\"/>\n",
       "<text text-anchor=\"middle\" x=\"646.5\" y=\"-349.8\" font-family=\"Helvetica,sans-Serif\" font-size=\"14.00\">petal length (cm) &lt;= 4.85</text>\n",
       "<text text-anchor=\"middle\" x=\"646.5\" y=\"-334.8\" font-family=\"Helvetica,sans-Serif\" font-size=\"14.00\">samples = 45</text>\n",
       "<text text-anchor=\"middle\" x=\"646.5\" y=\"-319.8\" font-family=\"Helvetica,sans-Serif\" font-size=\"14.00\">value = [0, 1, 44]</text>\n",
       "<text text-anchor=\"middle\" x=\"646.5\" y=\"-304.8\" font-family=\"Helvetica,sans-Serif\" font-size=\"14.00\">class = virginica</text>\n",
       "</g>\n",
       "<!-- 2&#45;&gt;12 -->\n",
       "<g id=\"edge12\" class=\"edge\"><title>2&#45;&gt;12</title>\n",
       "<path fill=\"none\" stroke=\"black\" d=\"M569.513,-400.884C579.766,-391.709 591.009,-381.65 601.657,-372.123\"/>\n",
       "<polygon fill=\"black\" stroke=\"black\" points=\"604.164,-374.576 609.283,-365.299 599.497,-369.359 604.164,-374.576\"/>\n",
       "</g>\n",
       "<!-- 4 -->\n",
       "<g id=\"node5\" class=\"node\"><title>4</title>\n",
       "<path fill=\"#39e581\" fill-opacity=\"0.976471\" stroke=\"black\" d=\"M265,-261C265,-261 126,-261 126,-261 120,-261 114,-255 114,-249 114,-249 114,-205 114,-205 114,-199 120,-193 126,-193 126,-193 265,-193 265,-193 271,-193 277,-199 277,-205 277,-205 277,-249 277,-249 277,-255 271,-261 265,-261\"/>\n",
       "<text text-anchor=\"middle\" x=\"195.5\" y=\"-245.8\" font-family=\"Helvetica,sans-Serif\" font-size=\"14.00\">petal width (cm) &lt;= 1.65</text>\n",
       "<text text-anchor=\"middle\" x=\"195.5\" y=\"-230.8\" font-family=\"Helvetica,sans-Serif\" font-size=\"14.00\">samples = 47</text>\n",
       "<text text-anchor=\"middle\" x=\"195.5\" y=\"-215.8\" font-family=\"Helvetica,sans-Serif\" font-size=\"14.00\">value = [0, 46, 1]</text>\n",
       "<text text-anchor=\"middle\" x=\"195.5\" y=\"-200.8\" font-family=\"Helvetica,sans-Serif\" font-size=\"14.00\">class = versicolor</text>\n",
       "</g>\n",
       "<!-- 3&#45;&gt;4 -->\n",
       "<g id=\"edge4\" class=\"edge\"><title>3&#45;&gt;4</title>\n",
       "<path fill=\"none\" stroke=\"black\" d=\"M346.098,-296.884C324.078,-286.812 299.729,-275.674 277.144,-265.344\"/>\n",
       "<polygon fill=\"black\" stroke=\"black\" points=\"278.469,-262.101 267.92,-261.125 275.558,-268.467 278.469,-262.101\"/>\n",
       "</g>\n",
       "<!-- 7 -->\n",
       "<g id=\"node8\" class=\"node\"><title>7</title>\n",
       "<path fill=\"#8139e5\" fill-opacity=\"0.498039\" stroke=\"black\" d=\"M488,-261C488,-261 349,-261 349,-261 343,-261 337,-255 337,-249 337,-249 337,-205 337,-205 337,-199 343,-193 349,-193 349,-193 488,-193 488,-193 494,-193 500,-199 500,-205 500,-205 500,-249 500,-249 500,-255 494,-261 488,-261\"/>\n",
       "<text text-anchor=\"middle\" x=\"418.5\" y=\"-245.8\" font-family=\"Helvetica,sans-Serif\" font-size=\"14.00\">petal width (cm) &lt;= 1.55</text>\n",
       "<text text-anchor=\"middle\" x=\"418.5\" y=\"-230.8\" font-family=\"Helvetica,sans-Serif\" font-size=\"14.00\">samples = 6</text>\n",
       "<text text-anchor=\"middle\" x=\"418.5\" y=\"-215.8\" font-family=\"Helvetica,sans-Serif\" font-size=\"14.00\">value = [0, 2, 4]</text>\n",
       "<text text-anchor=\"middle\" x=\"418.5\" y=\"-200.8\" font-family=\"Helvetica,sans-Serif\" font-size=\"14.00\">class = virginica</text>\n",
       "</g>\n",
       "<!-- 3&#45;&gt;7 -->\n",
       "<g id=\"edge7\" class=\"edge\"><title>3&#45;&gt;7</title>\n",
       "<path fill=\"none\" stroke=\"black\" d=\"M418.5,-296.884C418.5,-288.778 418.5,-279.982 418.5,-271.472\"/>\n",
       "<polygon fill=\"black\" stroke=\"black\" points=\"422,-271.299 418.5,-261.299 415,-271.299 422,-271.299\"/>\n",
       "</g>\n",
       "<!-- 5 -->\n",
       "<g id=\"node6\" class=\"node\"><title>5</title>\n",
       "<path fill=\"#39e581\" stroke=\"black\" d=\"M109,-149.5C109,-149.5 12,-149.5 12,-149.5 6,-149.5 7.10543e-15,-143.5 7.10543e-15,-137.5 7.10543e-15,-137.5 7.10543e-15,-108.5 7.10543e-15,-108.5 7.10543e-15,-102.5 6,-96.5 12,-96.5 12,-96.5 109,-96.5 109,-96.5 115,-96.5 121,-102.5 121,-108.5 121,-108.5 121,-137.5 121,-137.5 121,-143.5 115,-149.5 109,-149.5\"/>\n",
       "<text text-anchor=\"middle\" x=\"60.5\" y=\"-134.3\" font-family=\"Helvetica,sans-Serif\" font-size=\"14.00\">samples = 46</text>\n",
       "<text text-anchor=\"middle\" x=\"60.5\" y=\"-119.3\" font-family=\"Helvetica,sans-Serif\" font-size=\"14.00\">value = [0, 46, 0]</text>\n",
       "<text text-anchor=\"middle\" x=\"60.5\" y=\"-104.3\" font-family=\"Helvetica,sans-Serif\" font-size=\"14.00\">class = versicolor</text>\n",
       "</g>\n",
       "<!-- 4&#45;&gt;5 -->\n",
       "<g id=\"edge5\" class=\"edge\"><title>4&#45;&gt;5</title>\n",
       "<path fill=\"none\" stroke=\"black\" d=\"M151.669,-192.884C135.803,-180.896 117.94,-167.399 102.257,-155.549\"/>\n",
       "<polygon fill=\"black\" stroke=\"black\" points=\"104.365,-152.756 94.2764,-149.52 100.145,-158.341 104.365,-152.756\"/>\n",
       "</g>\n",
       "<!-- 6 -->\n",
       "<g id=\"node7\" class=\"node\"><title>6</title>\n",
       "<path fill=\"#8139e5\" stroke=\"black\" d=\"M240,-149.5C240,-149.5 151,-149.5 151,-149.5 145,-149.5 139,-143.5 139,-137.5 139,-137.5 139,-108.5 139,-108.5 139,-102.5 145,-96.5 151,-96.5 151,-96.5 240,-96.5 240,-96.5 246,-96.5 252,-102.5 252,-108.5 252,-108.5 252,-137.5 252,-137.5 252,-143.5 246,-149.5 240,-149.5\"/>\n",
       "<text text-anchor=\"middle\" x=\"195.5\" y=\"-134.3\" font-family=\"Helvetica,sans-Serif\" font-size=\"14.00\">samples = 1</text>\n",
       "<text text-anchor=\"middle\" x=\"195.5\" y=\"-119.3\" font-family=\"Helvetica,sans-Serif\" font-size=\"14.00\">value = [0, 0, 1]</text>\n",
       "<text text-anchor=\"middle\" x=\"195.5\" y=\"-104.3\" font-family=\"Helvetica,sans-Serif\" font-size=\"14.00\">class = virginica</text>\n",
       "</g>\n",
       "<!-- 4&#45;&gt;6 -->\n",
       "<g id=\"edge6\" class=\"edge\"><title>4&#45;&gt;6</title>\n",
       "<path fill=\"none\" stroke=\"black\" d=\"M195.5,-192.884C195.5,-182.326 195.5,-170.597 195.5,-159.854\"/>\n",
       "<polygon fill=\"black\" stroke=\"black\" points=\"199,-159.52 195.5,-149.52 192,-159.52 199,-159.52\"/>\n",
       "</g>\n",
       "<!-- 8 -->\n",
       "<g id=\"node9\" class=\"node\"><title>8</title>\n",
       "<path fill=\"#8139e5\" stroke=\"black\" d=\"M371,-149.5C371,-149.5 282,-149.5 282,-149.5 276,-149.5 270,-143.5 270,-137.5 270,-137.5 270,-108.5 270,-108.5 270,-102.5 276,-96.5 282,-96.5 282,-96.5 371,-96.5 371,-96.5 377,-96.5 383,-102.5 383,-108.5 383,-108.5 383,-137.5 383,-137.5 383,-143.5 377,-149.5 371,-149.5\"/>\n",
       "<text text-anchor=\"middle\" x=\"326.5\" y=\"-134.3\" font-family=\"Helvetica,sans-Serif\" font-size=\"14.00\">samples = 3</text>\n",
       "<text text-anchor=\"middle\" x=\"326.5\" y=\"-119.3\" font-family=\"Helvetica,sans-Serif\" font-size=\"14.00\">value = [0, 0, 3]</text>\n",
       "<text text-anchor=\"middle\" x=\"326.5\" y=\"-104.3\" font-family=\"Helvetica,sans-Serif\" font-size=\"14.00\">class = virginica</text>\n",
       "</g>\n",
       "<!-- 7&#45;&gt;8 -->\n",
       "<g id=\"edge8\" class=\"edge\"><title>7&#45;&gt;8</title>\n",
       "<path fill=\"none\" stroke=\"black\" d=\"M388.63,-192.884C378.314,-181.446 366.758,-168.634 356.436,-157.19\"/>\n",
       "<polygon fill=\"black\" stroke=\"black\" points=\"358.815,-154.601 349.518,-149.52 353.617,-159.29 358.815,-154.601\"/>\n",
       "</g>\n",
       "<!-- 9 -->\n",
       "<g id=\"node10\" class=\"node\"><title>9</title>\n",
       "<path fill=\"#39e581\" fill-opacity=\"0.498039\" stroke=\"black\" d=\"M560,-157C560,-157 413,-157 413,-157 407,-157 401,-151 401,-145 401,-145 401,-101 401,-101 401,-95 407,-89 413,-89 413,-89 560,-89 560,-89 566,-89 572,-95 572,-101 572,-101 572,-145 572,-145 572,-151 566,-157 560,-157\"/>\n",
       "<text text-anchor=\"middle\" x=\"486.5\" y=\"-141.8\" font-family=\"Helvetica,sans-Serif\" font-size=\"14.00\">sepal length (cm) &lt;= 6.95</text>\n",
       "<text text-anchor=\"middle\" x=\"486.5\" y=\"-126.8\" font-family=\"Helvetica,sans-Serif\" font-size=\"14.00\">samples = 3</text>\n",
       "<text text-anchor=\"middle\" x=\"486.5\" y=\"-111.8\" font-family=\"Helvetica,sans-Serif\" font-size=\"14.00\">value = [0, 2, 1]</text>\n",
       "<text text-anchor=\"middle\" x=\"486.5\" y=\"-96.8\" font-family=\"Helvetica,sans-Serif\" font-size=\"14.00\">class = versicolor</text>\n",
       "</g>\n",
       "<!-- 7&#45;&gt;9 -->\n",
       "<g id=\"edge9\" class=\"edge\"><title>7&#45;&gt;9</title>\n",
       "<path fill=\"none\" stroke=\"black\" d=\"M440.578,-192.884C446.338,-184.243 452.621,-174.819 458.638,-165.793\"/>\n",
       "<polygon fill=\"black\" stroke=\"black\" points=\"461.666,-167.561 464.3,-157.299 455.841,-163.678 461.666,-167.561\"/>\n",
       "</g>\n",
       "<!-- 10 -->\n",
       "<g id=\"node11\" class=\"node\"><title>10</title>\n",
       "<path fill=\"#39e581\" stroke=\"black\" d=\"M467,-53C467,-53 370,-53 370,-53 364,-53 358,-47 358,-41 358,-41 358,-12 358,-12 358,-6 364,-0 370,-0 370,-0 467,-0 467,-0 473,-0 479,-6 479,-12 479,-12 479,-41 479,-41 479,-47 473,-53 467,-53\"/>\n",
       "<text text-anchor=\"middle\" x=\"418.5\" y=\"-37.8\" font-family=\"Helvetica,sans-Serif\" font-size=\"14.00\">samples = 2</text>\n",
       "<text text-anchor=\"middle\" x=\"418.5\" y=\"-22.8\" font-family=\"Helvetica,sans-Serif\" font-size=\"14.00\">value = [0, 2, 0]</text>\n",
       "<text text-anchor=\"middle\" x=\"418.5\" y=\"-7.8\" font-family=\"Helvetica,sans-Serif\" font-size=\"14.00\">class = versicolor</text>\n",
       "</g>\n",
       "<!-- 9&#45;&gt;10 -->\n",
       "<g id=\"edge10\" class=\"edge\"><title>9&#45;&gt;10</title>\n",
       "<path fill=\"none\" stroke=\"black\" d=\"M462.717,-88.9485C456.332,-80.0749 449.416,-70.4648 442.993,-61.5388\"/>\n",
       "<polygon fill=\"black\" stroke=\"black\" points=\"445.701,-59.3094 437.02,-53.2367 440.019,-63.398 445.701,-59.3094\"/>\n",
       "</g>\n",
       "<!-- 11 -->\n",
       "<g id=\"node12\" class=\"node\"><title>11</title>\n",
       "<path fill=\"#8139e5\" stroke=\"black\" d=\"M598,-53C598,-53 509,-53 509,-53 503,-53 497,-47 497,-41 497,-41 497,-12 497,-12 497,-6 503,-0 509,-0 509,-0 598,-0 598,-0 604,-0 610,-6 610,-12 610,-12 610,-41 610,-41 610,-47 604,-53 598,-53\"/>\n",
       "<text text-anchor=\"middle\" x=\"553.5\" y=\"-37.8\" font-family=\"Helvetica,sans-Serif\" font-size=\"14.00\">samples = 1</text>\n",
       "<text text-anchor=\"middle\" x=\"553.5\" y=\"-22.8\" font-family=\"Helvetica,sans-Serif\" font-size=\"14.00\">value = [0, 0, 1]</text>\n",
       "<text text-anchor=\"middle\" x=\"553.5\" y=\"-7.8\" font-family=\"Helvetica,sans-Serif\" font-size=\"14.00\">class = virginica</text>\n",
       "</g>\n",
       "<!-- 9&#45;&gt;11 -->\n",
       "<g id=\"edge11\" class=\"edge\"><title>9&#45;&gt;11</title>\n",
       "<path fill=\"none\" stroke=\"black\" d=\"M509.933,-88.9485C516.225,-80.0749 523.038,-70.4648 529.367,-61.5388\"/>\n",
       "<polygon fill=\"black\" stroke=\"black\" points=\"532.324,-63.4188 535.253,-53.2367 526.614,-59.3701 532.324,-63.4188\"/>\n",
       "</g>\n",
       "<!-- 13 -->\n",
       "<g id=\"node14\" class=\"node\"><title>13</title>\n",
       "<path fill=\"#8139e5\" fill-opacity=\"0.498039\" stroke=\"black\" d=\"M713.5,-261C713.5,-261 579.5,-261 579.5,-261 573.5,-261 567.5,-255 567.5,-249 567.5,-249 567.5,-205 567.5,-205 567.5,-199 573.5,-193 579.5,-193 579.5,-193 713.5,-193 713.5,-193 719.5,-193 725.5,-199 725.5,-205 725.5,-205 725.5,-249 725.5,-249 725.5,-255 719.5,-261 713.5,-261\"/>\n",
       "<text text-anchor=\"middle\" x=\"646.5\" y=\"-245.8\" font-family=\"Helvetica,sans-Serif\" font-size=\"14.00\">sepal width (cm) &lt;= 3.1</text>\n",
       "<text text-anchor=\"middle\" x=\"646.5\" y=\"-230.8\" font-family=\"Helvetica,sans-Serif\" font-size=\"14.00\">samples = 3</text>\n",
       "<text text-anchor=\"middle\" x=\"646.5\" y=\"-215.8\" font-family=\"Helvetica,sans-Serif\" font-size=\"14.00\">value = [0, 1, 2]</text>\n",
       "<text text-anchor=\"middle\" x=\"646.5\" y=\"-200.8\" font-family=\"Helvetica,sans-Serif\" font-size=\"14.00\">class = virginica</text>\n",
       "</g>\n",
       "<!-- 12&#45;&gt;13 -->\n",
       "<g id=\"edge13\" class=\"edge\"><title>12&#45;&gt;13</title>\n",
       "<path fill=\"none\" stroke=\"black\" d=\"M646.5,-296.884C646.5,-288.778 646.5,-279.982 646.5,-271.472\"/>\n",
       "<polygon fill=\"black\" stroke=\"black\" points=\"650,-271.299 646.5,-261.299 643,-271.299 650,-271.299\"/>\n",
       "</g>\n",
       "<!-- 16 -->\n",
       "<g id=\"node17\" class=\"node\"><title>16</title>\n",
       "<path fill=\"#8139e5\" stroke=\"black\" d=\"M849,-253.5C849,-253.5 756,-253.5 756,-253.5 750,-253.5 744,-247.5 744,-241.5 744,-241.5 744,-212.5 744,-212.5 744,-206.5 750,-200.5 756,-200.5 756,-200.5 849,-200.5 849,-200.5 855,-200.5 861,-206.5 861,-212.5 861,-212.5 861,-241.5 861,-241.5 861,-247.5 855,-253.5 849,-253.5\"/>\n",
       "<text text-anchor=\"middle\" x=\"802.5\" y=\"-238.3\" font-family=\"Helvetica,sans-Serif\" font-size=\"14.00\">samples = 42</text>\n",
       "<text text-anchor=\"middle\" x=\"802.5\" y=\"-223.3\" font-family=\"Helvetica,sans-Serif\" font-size=\"14.00\">value = [0, 0, 42]</text>\n",
       "<text text-anchor=\"middle\" x=\"802.5\" y=\"-208.3\" font-family=\"Helvetica,sans-Serif\" font-size=\"14.00\">class = virginica</text>\n",
       "</g>\n",
       "<!-- 12&#45;&gt;16 -->\n",
       "<g id=\"edge16\" class=\"edge\"><title>12&#45;&gt;16</title>\n",
       "<path fill=\"none\" stroke=\"black\" d=\"M697.149,-296.884C715.651,-284.786 736.504,-271.151 754.746,-259.224\"/>\n",
       "<polygon fill=\"black\" stroke=\"black\" points=\"757.015,-261.922 763.47,-253.52 753.184,-256.063 757.015,-261.922\"/>\n",
       "</g>\n",
       "<!-- 14 -->\n",
       "<g id=\"node15\" class=\"node\"><title>14</title>\n",
       "<path fill=\"#8139e5\" stroke=\"black\" d=\"M691,-149.5C691,-149.5 602,-149.5 602,-149.5 596,-149.5 590,-143.5 590,-137.5 590,-137.5 590,-108.5 590,-108.5 590,-102.5 596,-96.5 602,-96.5 602,-96.5 691,-96.5 691,-96.5 697,-96.5 703,-102.5 703,-108.5 703,-108.5 703,-137.5 703,-137.5 703,-143.5 697,-149.5 691,-149.5\"/>\n",
       "<text text-anchor=\"middle\" x=\"646.5\" y=\"-134.3\" font-family=\"Helvetica,sans-Serif\" font-size=\"14.00\">samples = 2</text>\n",
       "<text text-anchor=\"middle\" x=\"646.5\" y=\"-119.3\" font-family=\"Helvetica,sans-Serif\" font-size=\"14.00\">value = [0, 0, 2]</text>\n",
       "<text text-anchor=\"middle\" x=\"646.5\" y=\"-104.3\" font-family=\"Helvetica,sans-Serif\" font-size=\"14.00\">class = virginica</text>\n",
       "</g>\n",
       "<!-- 13&#45;&gt;14 -->\n",
       "<g id=\"edge14\" class=\"edge\"><title>13&#45;&gt;14</title>\n",
       "<path fill=\"none\" stroke=\"black\" d=\"M646.5,-192.884C646.5,-182.326 646.5,-170.597 646.5,-159.854\"/>\n",
       "<polygon fill=\"black\" stroke=\"black\" points=\"650,-159.52 646.5,-149.52 643,-159.52 650,-159.52\"/>\n",
       "</g>\n",
       "<!-- 15 -->\n",
       "<g id=\"node16\" class=\"node\"><title>15</title>\n",
       "<path fill=\"#39e581\" stroke=\"black\" d=\"M830,-149.5C830,-149.5 733,-149.5 733,-149.5 727,-149.5 721,-143.5 721,-137.5 721,-137.5 721,-108.5 721,-108.5 721,-102.5 727,-96.5 733,-96.5 733,-96.5 830,-96.5 830,-96.5 836,-96.5 842,-102.5 842,-108.5 842,-108.5 842,-137.5 842,-137.5 842,-143.5 836,-149.5 830,-149.5\"/>\n",
       "<text text-anchor=\"middle\" x=\"781.5\" y=\"-134.3\" font-family=\"Helvetica,sans-Serif\" font-size=\"14.00\">samples = 1</text>\n",
       "<text text-anchor=\"middle\" x=\"781.5\" y=\"-119.3\" font-family=\"Helvetica,sans-Serif\" font-size=\"14.00\">value = [0, 1, 0]</text>\n",
       "<text text-anchor=\"middle\" x=\"781.5\" y=\"-104.3\" font-family=\"Helvetica,sans-Serif\" font-size=\"14.00\">class = versicolor</text>\n",
       "</g>\n",
       "<!-- 13&#45;&gt;15 -->\n",
       "<g id=\"edge15\" class=\"edge\"><title>13&#45;&gt;15</title>\n",
       "<path fill=\"none\" stroke=\"black\" d=\"M690.331,-192.884C706.197,-180.896 724.06,-167.399 739.743,-155.549\"/>\n",
       "<polygon fill=\"black\" stroke=\"black\" points=\"741.855,-158.341 747.724,-149.52 737.635,-152.756 741.855,-158.341\"/>\n",
       "</g>\n",
       "</g>\n",
       "</svg>\n"
      ],
      "text/plain": [
       "<graphviz.files.Source at 0x7f8868bb7358>"
      ]
     },
     "execution_count": 11,
     "metadata": {},
     "output_type": "execute_result"
    }
   ],
   "source": [
    "from sklearn.tree import export_graphviz\n",
    "import graphviz\n",
    "\n",
    "export_graphviz(clf, \n",
    "                out_file=\"decisiontree.dot\",\n",
    "                feature_names=iris.feature_names,\n",
    "                class_names=iris.target_names,\n",
    "                filled=True,\n",
    "                rounded=True,\n",
    "                impurity=False )\n",
    "with open(\"decisiontree.dot\") as f:\n",
    "    dot_graph = f.read()\n",
    "graphviz.Source(dot_graph)"
   ]
  },
  {
   "cell_type": "code",
   "execution_count": null,
   "metadata": {
    "collapsed": true
   },
   "outputs": [],
   "source": []
  },
  {
   "cell_type": "markdown",
   "metadata": {
    "collapsed": true,
    "deletable": true,
    "editable": true
   },
   "source": [
    "That is all folks!!!"
   ]
  }
 ],
 "metadata": {
  "anaconda-cloud": {},
  "kernelspec": {
   "display_name": "Python 3",
   "language": "python",
   "name": "python3"
  },
  "language_info": {
   "codemirror_mode": {
    "name": "ipython",
    "version": 3
   },
   "file_extension": ".py",
   "mimetype": "text/x-python",
   "name": "python",
   "nbconvert_exporter": "python",
   "pygments_lexer": "ipython3",
   "version": "3.5.3"
  }
 },
 "nbformat": 4,
 "nbformat_minor": 1
}
