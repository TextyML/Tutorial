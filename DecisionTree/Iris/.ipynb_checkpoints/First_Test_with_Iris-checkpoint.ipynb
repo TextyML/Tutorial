{
 "cells": [
  {
   "cell_type": "markdown",
   "metadata": {},
   "source": [
    "# How-To-Guide für machinelearning mit Scikit-learn"
   ]
  },
  {
   "cell_type": "markdown",
   "metadata": {},
   "source": [
    "In diesem Beispiel benutzen wir den weltbekannten Iris Testsatz um anhand von anatomischen Eigenschaften 3 Pflanzenarten voneinander zu unterscheiden. Dazu laden wir zuerst alle Abhängikeiten und Datensätze in unser Notebook."
   ]
  },
  {
   "cell_type": "code",
   "execution_count": 3,
   "metadata": {
    "collapsed": true
   },
   "outputs": [],
   "source": [
    "import numpy as np\n",
    "from sklearn.datasets import load_iris\n",
    "from sklearn import tree"
   ]
  },
  {
   "cell_type": "code",
   "execution_count": 4,
   "metadata": {
    "collapsed": false
   },
   "outputs": [
    {
     "name": "stdout",
     "output_type": "stream",
     "text": [
      "Anzahl der Rohdaten:  150\n",
      "Anzahl der Labels:  150\n"
     ]
    }
   ],
   "source": [
    "iris = load_iris()\n",
    "print(\"Anzahl der Rohdaten: \",len(iris.data))\n",
    "print(\"Anzahl der Labels: \",len(iris.target))"
   ]
  },
  {
   "cell_type": "markdown",
   "metadata": {},
   "source": [
    "Wie man sieht besitzt unser Datensatz nun genau 150 Elemente. Dabei sind 3 Features jeweils einem Label (Pflanzenart) zugerodnet. Für eine besser Aufschlüsselung der Feature siehe Beispiel unten:"
   ]
  },
  {
   "cell_type": "code",
   "execution_count": 5,
   "metadata": {
    "collapsed": false
   },
   "outputs": [
    {
     "name": "stdout",
     "output_type": "stream",
     "text": [
      "['sepal length (cm)', 'sepal width (cm)', 'petal length (cm)', 'petal width (cm)']\n",
      "['setosa' 'versicolor' 'virginica']\n"
     ]
    }
   ],
   "source": [
    "print(iris.feature_names)\n",
    "print(iris.target_names)"
   ]
  },
  {
   "cell_type": "markdown",
   "metadata": {},
   "source": [
    "Als nächstes geben wir den ersten Datensatz aus."
   ]
  },
  {
   "cell_type": "code",
   "execution_count": 6,
   "metadata": {
    "collapsed": false
   },
   "outputs": [
    {
     "name": "stdout",
     "output_type": "stream",
     "text": [
      "[ 5.1  3.5  1.4  0.2]\n",
      "0\n"
     ]
    }
   ],
   "source": [
    "print(iris.data[0])\n",
    "print(iris.target[0])"
   ]
  },
  {
   "cell_type": "markdown",
   "metadata": {},
   "source": [
    "Um nun den Algorithmen an unbekannten Werten zu testen, werden 3 Werte aus unserer Wertetabelle zum Trainieren gelöscht und dienen später als Testdaten. "
   ]
  },
  {
   "cell_type": "code",
   "execution_count": 7,
   "metadata": {
    "collapsed": false
   },
   "outputs": [],
   "source": [
    "test_idx = [0,50,100]\n",
    "# training data\n",
    "train_target = np.delete(iris.target, test_idx)\n",
    "train_data = np.delete(iris.data, test_idx, axis=0)\n",
    "\n",
    "# testing data\n",
    "test_target = iris.target[test_idx]\n",
    "test_data = iris.data[test_idx]"
   ]
  },
  {
   "cell_type": "markdown",
   "metadata": {},
   "source": [
    "Als Learnalgorithmus kommt der DecisionTreeClassifier zum Einsatz.\n",
    "Der Algorithmus wird nun mit den Testdaten trainiert."
   ]
  },
  {
   "cell_type": "code",
   "execution_count": 8,
   "metadata": {
    "collapsed": false
   },
   "outputs": [
    {
     "data": {
      "text/plain": [
       "DecisionTreeClassifier(class_weight=None, criterion='gini', max_depth=None,\n",
       "            max_features=None, max_leaf_nodes=None,\n",
       "            min_impurity_split=1e-07, min_samples_leaf=1,\n",
       "            min_samples_split=2, min_weight_fraction_leaf=0.0,\n",
       "            presort=False, random_state=None, splitter='best')"
      ]
     },
     "execution_count": 8,
     "metadata": {},
     "output_type": "execute_result"
    }
   ],
   "source": [
    "clf = tree.DecisionTreeClassifier()\n",
    "clf.fit(train_data, train_target)"
   ]
  },
  {
   "cell_type": "markdown",
   "metadata": {},
   "source": [
    "Anschließend soll eine Vorhersage über die Testdaten gefällt werden. Wie zusehen ist, hat er das Ergebnis gefunden. Wichtig hierbei ist der Score. Dieser liegt bei 1.0, was bedeutet, dass unser Testsatz sehr genau ist und eine Identifizierung eindeutig stattfinden kann."
   ]
  },
  {
   "cell_type": "code",
   "execution_count": 9,
   "metadata": {
    "collapsed": false
   },
   "outputs": [
    {
     "name": "stdout",
     "output_type": "stream",
     "text": [
      "Gegebene Label:  [0 1 2]\n",
      "Vorhersehung:  [0 1 2]\n",
      "Genauigkeit (Score):  1.0\n"
     ]
    }
   ],
   "source": [
    "print(\"Gegebene Label: \",test_target)\n",
    "print(\"Vorhersehung: \",clf.predict(test_data))\n",
    "print(\"Genauigkeit (Score): \",clf.score(train_data,train_target))"
   ]
  },
  {
   "cell_type": "markdown",
   "metadata": {},
   "source": [
    "Anschließend wird der Algorithmus an einer Messung geprüft, welche nicht in der Standardtabelle enthalten ist."
   ]
  },
  {
   "cell_type": "code",
   "execution_count": 10,
   "metadata": {
    "collapsed": false
   },
   "outputs": [
    {
     "name": "stdout",
     "output_type": "stream",
     "text": [
      "['setosa']\n"
     ]
    }
   ],
   "source": [
    "neuerMesswert = np.array([5.0, 3.3, 1.4, 0.3]).reshape(1,-1)\n",
    "print(iris.target_names[clf.predict(neuerMesswert)])"
   ]
  },
  {
   "cell_type": "markdown",
   "metadata": {},
   "source": [
    "Die Pflanze konnte ohne Probleme identifieziert werden."
   ]
  },
  {
   "cell_type": "code",
   "execution_count": 12,
   "metadata": {
    "collapsed": false
   },
   "outputs": [
    {
     "data": {
      "image/svg+xml": [
       "<?xml version=\"1.0\" encoding=\"UTF-8\" standalone=\"no\"?>\n",
       "<!DOCTYPE svg PUBLIC \"-//W3C//DTD SVG 1.1//EN\"\n",
       " \"http://www.w3.org/Graphics/SVG/1.1/DTD/svg11.dtd\">\n",
       "<!-- Generated by graphviz version 2.38.0 (20140413.2041)\n",
       " -->\n",
       "<!-- Title: Tree Pages: 1 -->\n",
       "<svg width=\"881pt\" height=\"622pt\"\n",
       " viewBox=\"0.00 0.00 880.81 622.40\" xmlns=\"http://www.w3.org/2000/svg\" xmlns:xlink=\"http://www.w3.org/1999/xlink\">\n",
       "<g id=\"graph0\" class=\"graph\" transform=\"scale(1 1) rotate(0) translate(4 618.4)\">\n",
       "<title>Tree</title>\n",
       "<polygon fill=\"white\" stroke=\"none\" points=\"-4,4 -4,-618.4 876.806,-618.4 876.806,4 -4,4\"/>\n",
       "<!-- 0 -->\n",
       "<g id=\"node1\" class=\"node\"><title>0</title>\n",
       "<path fill=\"none\" stroke=\"black\" d=\"M525.227,-614.5C525.227,-614.5 390.5,-614.5 390.5,-614.5 384.5,-614.5 378.5,-608.5 378.5,-602.5 378.5,-602.5 378.5,-551.1 378.5,-551.1 378.5,-545.1 384.5,-539.1 390.5,-539.1 390.5,-539.1 525.227,-539.1 525.227,-539.1 531.227,-539.1 537.227,-545.1 537.227,-551.1 537.227,-551.1 537.227,-602.5 537.227,-602.5 537.227,-608.5 531.227,-614.5 525.227,-614.5\"/>\n",
       "<text text-anchor=\"middle\" x=\"457.864\" y=\"-597.8\" font-family=\"Helvetica,sans-Serif\" font-size=\"14.00\">petal width (cm) &lt;= 0.8</text>\n",
       "<text text-anchor=\"middle\" x=\"457.864\" y=\"-581\" font-family=\"Helvetica,sans-Serif\" font-size=\"14.00\">samples = 147</text>\n",
       "<text text-anchor=\"middle\" x=\"457.864\" y=\"-564.2\" font-family=\"Helvetica,sans-Serif\" font-size=\"14.00\">value = [49, 49, 49]</text>\n",
       "<text text-anchor=\"middle\" x=\"457.864\" y=\"-547.4\" font-family=\"Helvetica,sans-Serif\" font-size=\"14.00\">class = setosa</text>\n",
       "</g>\n",
       "<!-- 1 -->\n",
       "<g id=\"node2\" class=\"node\"><title>1</title>\n",
       "<path fill=\"#e58139\" stroke=\"black\" d=\"M425.748,-495.001C425.748,-495.001 329.979,-495.001 329.979,-495.001 323.979,-495.001 317.979,-489.001 317.979,-483.001 317.979,-483.001 317.979,-448.199 317.979,-448.199 317.979,-442.199 323.979,-436.199 329.979,-436.199 329.979,-436.199 425.748,-436.199 425.748,-436.199 431.748,-436.199 437.748,-442.199 437.748,-448.199 437.748,-448.199 437.748,-483.001 437.748,-483.001 437.748,-489.001 431.748,-495.001 425.748,-495.001\"/>\n",
       "<text text-anchor=\"middle\" x=\"377.864\" y=\"-478.2\" font-family=\"Helvetica,sans-Serif\" font-size=\"14.00\">samples = 49</text>\n",
       "<text text-anchor=\"middle\" x=\"377.864\" y=\"-461.4\" font-family=\"Helvetica,sans-Serif\" font-size=\"14.00\">value = [49, 0, 0]</text>\n",
       "<text text-anchor=\"middle\" x=\"377.864\" y=\"-444.6\" font-family=\"Helvetica,sans-Serif\" font-size=\"14.00\">class = setosa</text>\n",
       "</g>\n",
       "<!-- 0&#45;&gt;1 -->\n",
       "<g id=\"edge1\" class=\"edge\"><title>0&#45;&gt;1</title>\n",
       "<path fill=\"none\" stroke=\"black\" d=\"M431.002,-539.134C422.528,-527.567 413.169,-514.792 404.697,-503.227\"/>\n",
       "<polygon fill=\"black\" stroke=\"black\" points=\"407.443,-501.053 398.71,-495.055 401.796,-505.19 407.443,-501.053\"/>\n",
       "<text text-anchor=\"middle\" x=\"394.896\" y=\"-515.562\" font-family=\"Helvetica,sans-Serif\" font-size=\"14.00\">True</text>\n",
       "</g>\n",
       "<!-- 2 -->\n",
       "<g id=\"node3\" class=\"node\"><title>2</title>\n",
       "<path fill=\"none\" stroke=\"black\" d=\"M610.009,-503.3C610.009,-503.3 467.718,-503.3 467.718,-503.3 461.718,-503.3 455.718,-497.3 455.718,-491.3 455.718,-491.3 455.718,-439.9 455.718,-439.9 455.718,-433.9 461.718,-427.9 467.718,-427.9 467.718,-427.9 610.009,-427.9 610.009,-427.9 616.009,-427.9 622.009,-433.9 622.009,-439.9 622.009,-439.9 622.009,-491.3 622.009,-491.3 622.009,-497.3 616.009,-503.3 610.009,-503.3\"/>\n",
       "<text text-anchor=\"middle\" x=\"538.864\" y=\"-486.6\" font-family=\"Helvetica,sans-Serif\" font-size=\"14.00\">petal width (cm) &lt;= 1.75</text>\n",
       "<text text-anchor=\"middle\" x=\"538.864\" y=\"-469.8\" font-family=\"Helvetica,sans-Serif\" font-size=\"14.00\">samples = 98</text>\n",
       "<text text-anchor=\"middle\" x=\"538.864\" y=\"-453\" font-family=\"Helvetica,sans-Serif\" font-size=\"14.00\">value = [0, 49, 49]</text>\n",
       "<text text-anchor=\"middle\" x=\"538.864\" y=\"-436.2\" font-family=\"Helvetica,sans-Serif\" font-size=\"14.00\">class = versicolor</text>\n",
       "</g>\n",
       "<!-- 0&#45;&gt;2 -->\n",
       "<g id=\"edge2\" class=\"edge\"><title>0&#45;&gt;2</title>\n",
       "<path fill=\"none\" stroke=\"black\" d=\"M485.061,-539.134C491.606,-530.311 498.672,-520.784 505.463,-511.628\"/>\n",
       "<polygon fill=\"black\" stroke=\"black\" points=\"508.454,-513.472 511.6,-503.355 502.832,-509.301 508.454,-513.472\"/>\n",
       "<text text-anchor=\"middle\" x=\"515.267\" y=\"-523.885\" font-family=\"Helvetica,sans-Serif\" font-size=\"14.00\">False</text>\n",
       "</g>\n",
       "<!-- 3 -->\n",
       "<g id=\"node4\" class=\"node\"><title>3</title>\n",
       "<path fill=\"#39e581\" fill-opacity=\"0.894118\" stroke=\"black\" d=\"M497.468,-392.1C497.468,-392.1 350.259,-392.1 350.259,-392.1 344.259,-392.1 338.259,-386.1 338.259,-380.1 338.259,-380.1 338.259,-328.7 338.259,-328.7 338.259,-322.7 344.259,-316.7 350.259,-316.7 350.259,-316.7 497.468,-316.7 497.468,-316.7 503.468,-316.7 509.468,-322.7 509.468,-328.7 509.468,-328.7 509.468,-380.1 509.468,-380.1 509.468,-386.1 503.468,-392.1 497.468,-392.1\"/>\n",
       "<text text-anchor=\"middle\" x=\"423.864\" y=\"-375.4\" font-family=\"Helvetica,sans-Serif\" font-size=\"14.00\">petal length (cm) &lt;= 4.95</text>\n",
       "<text text-anchor=\"middle\" x=\"423.864\" y=\"-358.6\" font-family=\"Helvetica,sans-Serif\" font-size=\"14.00\">samples = 53</text>\n",
       "<text text-anchor=\"middle\" x=\"423.864\" y=\"-341.8\" font-family=\"Helvetica,sans-Serif\" font-size=\"14.00\">value = [0, 48, 5]</text>\n",
       "<text text-anchor=\"middle\" x=\"423.864\" y=\"-325\" font-family=\"Helvetica,sans-Serif\" font-size=\"14.00\">class = versicolor</text>\n",
       "</g>\n",
       "<!-- 2&#45;&gt;3 -->\n",
       "<g id=\"edge3\" class=\"edge\"><title>2&#45;&gt;3</title>\n",
       "<path fill=\"none\" stroke=\"black\" d=\"M500.25,-427.934C490.579,-418.75 480.105,-408.805 470.105,-399.309\"/>\n",
       "<polygon fill=\"black\" stroke=\"black\" points=\"472.232,-396.503 462.571,-392.155 467.412,-401.579 472.232,-396.503\"/>\n",
       "</g>\n",
       "<!-- 12 -->\n",
       "<g id=\"node13\" class=\"node\"><title>12</title>\n",
       "<path fill=\"#8139e5\" fill-opacity=\"0.976471\" stroke=\"black\" d=\"M727.468,-392.1C727.468,-392.1 580.259,-392.1 580.259,-392.1 574.259,-392.1 568.259,-386.1 568.259,-380.1 568.259,-380.1 568.259,-328.7 568.259,-328.7 568.259,-322.7 574.259,-316.7 580.259,-316.7 580.259,-316.7 727.468,-316.7 727.468,-316.7 733.468,-316.7 739.468,-322.7 739.468,-328.7 739.468,-328.7 739.468,-380.1 739.468,-380.1 739.468,-386.1 733.468,-392.1 727.468,-392.1\"/>\n",
       "<text text-anchor=\"middle\" x=\"653.864\" y=\"-375.4\" font-family=\"Helvetica,sans-Serif\" font-size=\"14.00\">petal length (cm) &lt;= 4.85</text>\n",
       "<text text-anchor=\"middle\" x=\"653.864\" y=\"-358.6\" font-family=\"Helvetica,sans-Serif\" font-size=\"14.00\">samples = 45</text>\n",
       "<text text-anchor=\"middle\" x=\"653.864\" y=\"-341.8\" font-family=\"Helvetica,sans-Serif\" font-size=\"14.00\">value = [0, 1, 44]</text>\n",
       "<text text-anchor=\"middle\" x=\"653.864\" y=\"-325\" font-family=\"Helvetica,sans-Serif\" font-size=\"14.00\">class = virginica</text>\n",
       "</g>\n",
       "<!-- 2&#45;&gt;12 -->\n",
       "<g id=\"edge12\" class=\"edge\"><title>2&#45;&gt;12</title>\n",
       "<path fill=\"none\" stroke=\"black\" d=\"M577.477,-427.934C587.148,-418.75 597.622,-408.805 607.622,-399.309\"/>\n",
       "<polygon fill=\"black\" stroke=\"black\" points=\"610.315,-401.579 615.157,-392.155 605.495,-396.503 610.315,-401.579\"/>\n",
       "</g>\n",
       "<!-- 4 -->\n",
       "<g id=\"node5\" class=\"node\"><title>4</title>\n",
       "<path fill=\"#39e581\" fill-opacity=\"0.976471\" stroke=\"black\" d=\"M270.009,-280.9C270.009,-280.9 127.718,-280.9 127.718,-280.9 121.718,-280.9 115.718,-274.9 115.718,-268.9 115.718,-268.9 115.718,-217.5 115.718,-217.5 115.718,-211.5 121.718,-205.5 127.718,-205.5 127.718,-205.5 270.009,-205.5 270.009,-205.5 276.009,-205.5 282.009,-211.5 282.009,-217.5 282.009,-217.5 282.009,-268.9 282.009,-268.9 282.009,-274.9 276.009,-280.9 270.009,-280.9\"/>\n",
       "<text text-anchor=\"middle\" x=\"198.864\" y=\"-264.2\" font-family=\"Helvetica,sans-Serif\" font-size=\"14.00\">petal width (cm) &lt;= 1.65</text>\n",
       "<text text-anchor=\"middle\" x=\"198.864\" y=\"-247.4\" font-family=\"Helvetica,sans-Serif\" font-size=\"14.00\">samples = 47</text>\n",
       "<text text-anchor=\"middle\" x=\"198.864\" y=\"-230.6\" font-family=\"Helvetica,sans-Serif\" font-size=\"14.00\">value = [0, 46, 1]</text>\n",
       "<text text-anchor=\"middle\" x=\"198.864\" y=\"-213.8\" font-family=\"Helvetica,sans-Serif\" font-size=\"14.00\">class = versicolor</text>\n",
       "</g>\n",
       "<!-- 3&#45;&gt;4 -->\n",
       "<g id=\"edge4\" class=\"edge\"><title>3&#45;&gt;4</title>\n",
       "<path fill=\"none\" stroke=\"black\" d=\"M348.316,-316.734C327.538,-306.65 304.869,-295.648 283.61,-285.33\"/>\n",
       "<polygon fill=\"black\" stroke=\"black\" points=\"285.12,-282.172 274.595,-280.955 282.063,-288.47 285.12,-282.172\"/>\n",
       "</g>\n",
       "<!-- 7 -->\n",
       "<g id=\"node8\" class=\"node\"><title>7</title>\n",
       "<path fill=\"#8139e5\" fill-opacity=\"0.498039\" stroke=\"black\" d=\"M495.009,-280.9C495.009,-280.9 352.718,-280.9 352.718,-280.9 346.718,-280.9 340.718,-274.9 340.718,-268.9 340.718,-268.9 340.718,-217.5 340.718,-217.5 340.718,-211.5 346.718,-205.5 352.718,-205.5 352.718,-205.5 495.009,-205.5 495.009,-205.5 501.009,-205.5 507.009,-211.5 507.009,-217.5 507.009,-217.5 507.009,-268.9 507.009,-268.9 507.009,-274.9 501.009,-280.9 495.009,-280.9\"/>\n",
       "<text text-anchor=\"middle\" x=\"423.864\" y=\"-264.2\" font-family=\"Helvetica,sans-Serif\" font-size=\"14.00\">petal width (cm) &lt;= 1.55</text>\n",
       "<text text-anchor=\"middle\" x=\"423.864\" y=\"-247.4\" font-family=\"Helvetica,sans-Serif\" font-size=\"14.00\">samples = 6</text>\n",
       "<text text-anchor=\"middle\" x=\"423.864\" y=\"-230.6\" font-family=\"Helvetica,sans-Serif\" font-size=\"14.00\">value = [0, 2, 4]</text>\n",
       "<text text-anchor=\"middle\" x=\"423.864\" y=\"-213.8\" font-family=\"Helvetica,sans-Serif\" font-size=\"14.00\">class = virginica</text>\n",
       "</g>\n",
       "<!-- 3&#45;&gt;7 -->\n",
       "<g id=\"edge7\" class=\"edge\"><title>3&#45;&gt;7</title>\n",
       "<path fill=\"none\" stroke=\"black\" d=\"M423.864,-316.734C423.864,-308.541 423.864,-299.741 423.864,-291.196\"/>\n",
       "<polygon fill=\"black\" stroke=\"black\" points=\"427.364,-290.955 423.864,-280.955 420.364,-290.955 427.364,-290.955\"/>\n",
       "</g>\n",
       "<!-- 5 -->\n",
       "<g id=\"node6\" class=\"node\"><title>5</title>\n",
       "<path fill=\"#39e581\" stroke=\"black\" d=\"M111.591,-161.401C111.591,-161.401 12.1361,-161.401 12.1361,-161.401 6.1361,-161.401 0.1361,-155.401 0.1361,-149.401 0.1361,-149.401 0.1361,-114.599 0.1361,-114.599 0.1361,-108.599 6.1361,-102.599 12.1361,-102.599 12.1361,-102.599 111.591,-102.599 111.591,-102.599 117.591,-102.599 123.591,-108.599 123.591,-114.599 123.591,-114.599 123.591,-149.401 123.591,-149.401 123.591,-155.401 117.591,-161.401 111.591,-161.401\"/>\n",
       "<text text-anchor=\"middle\" x=\"61.8636\" y=\"-144.6\" font-family=\"Helvetica,sans-Serif\" font-size=\"14.00\">samples = 46</text>\n",
       "<text text-anchor=\"middle\" x=\"61.8636\" y=\"-127.8\" font-family=\"Helvetica,sans-Serif\" font-size=\"14.00\">value = [0, 46, 0]</text>\n",
       "<text text-anchor=\"middle\" x=\"61.8636\" y=\"-111\" font-family=\"Helvetica,sans-Serif\" font-size=\"14.00\">class = versicolor</text>\n",
       "</g>\n",
       "<!-- 4&#45;&gt;5 -->\n",
       "<g id=\"edge5\" class=\"edge\"><title>4&#45;&gt;5</title>\n",
       "<path fill=\"none\" stroke=\"black\" d=\"M152.863,-205.534C137.647,-193.405 120.764,-179.948 105.713,-167.952\"/>\n",
       "<polygon fill=\"black\" stroke=\"black\" points=\"107.564,-164.951 97.5625,-161.455 103.201,-170.425 107.564,-164.951\"/>\n",
       "</g>\n",
       "<!-- 6 -->\n",
       "<g id=\"node7\" class=\"node\"><title>6</title>\n",
       "<path fill=\"#8139e5\" stroke=\"black\" d=\"M244.537,-161.401C244.537,-161.401 153.19,-161.401 153.19,-161.401 147.19,-161.401 141.19,-155.401 141.19,-149.401 141.19,-149.401 141.19,-114.599 141.19,-114.599 141.19,-108.599 147.19,-102.599 153.19,-102.599 153.19,-102.599 244.537,-102.599 244.537,-102.599 250.537,-102.599 256.537,-108.599 256.537,-114.599 256.537,-114.599 256.537,-149.401 256.537,-149.401 256.537,-155.401 250.537,-161.401 244.537,-161.401\"/>\n",
       "<text text-anchor=\"middle\" x=\"198.864\" y=\"-144.6\" font-family=\"Helvetica,sans-Serif\" font-size=\"14.00\">samples = 1</text>\n",
       "<text text-anchor=\"middle\" x=\"198.864\" y=\"-127.8\" font-family=\"Helvetica,sans-Serif\" font-size=\"14.00\">value = [0, 0, 1]</text>\n",
       "<text text-anchor=\"middle\" x=\"198.864\" y=\"-111\" font-family=\"Helvetica,sans-Serif\" font-size=\"14.00\">class = virginica</text>\n",
       "</g>\n",
       "<!-- 4&#45;&gt;6 -->\n",
       "<g id=\"edge6\" class=\"edge\"><title>4&#45;&gt;6</title>\n",
       "<path fill=\"none\" stroke=\"black\" d=\"M198.864,-205.534C198.864,-194.641 198.864,-182.676 198.864,-171.66\"/>\n",
       "<polygon fill=\"black\" stroke=\"black\" points=\"202.364,-171.455 198.864,-161.455 195.364,-171.455 202.364,-171.455\"/>\n",
       "</g>\n",
       "<!-- 8 -->\n",
       "<g id=\"node9\" class=\"node\"><title>8</title>\n",
       "<path fill=\"#8139e5\" stroke=\"black\" d=\"M377.537,-161.401C377.537,-161.401 286.19,-161.401 286.19,-161.401 280.19,-161.401 274.19,-155.401 274.19,-149.401 274.19,-149.401 274.19,-114.599 274.19,-114.599 274.19,-108.599 280.19,-102.599 286.19,-102.599 286.19,-102.599 377.537,-102.599 377.537,-102.599 383.537,-102.599 389.537,-108.599 389.537,-114.599 389.537,-114.599 389.537,-149.401 389.537,-149.401 389.537,-155.401 383.537,-161.401 377.537,-161.401\"/>\n",
       "<text text-anchor=\"middle\" x=\"331.864\" y=\"-144.6\" font-family=\"Helvetica,sans-Serif\" font-size=\"14.00\">samples = 3</text>\n",
       "<text text-anchor=\"middle\" x=\"331.864\" y=\"-127.8\" font-family=\"Helvetica,sans-Serif\" font-size=\"14.00\">value = [0, 0, 3]</text>\n",
       "<text text-anchor=\"middle\" x=\"331.864\" y=\"-111\" font-family=\"Helvetica,sans-Serif\" font-size=\"14.00\">class = virginica</text>\n",
       "</g>\n",
       "<!-- 7&#45;&gt;8 -->\n",
       "<g id=\"edge8\" class=\"edge\"><title>7&#45;&gt;8</title>\n",
       "<path fill=\"none\" stroke=\"black\" d=\"M392.973,-205.534C383.133,-193.855 372.256,-180.943 362.438,-169.291\"/>\n",
       "<polygon fill=\"black\" stroke=\"black\" points=\"364.956,-166.847 355.837,-161.455 359.603,-171.358 364.956,-166.847\"/>\n",
       "</g>\n",
       "<!-- 9 -->\n",
       "<g id=\"node10\" class=\"node\"><title>9</title>\n",
       "<path fill=\"#39e581\" fill-opacity=\"0.498039\" stroke=\"black\" d=\"M566.468,-169.7C566.468,-169.7 419.259,-169.7 419.259,-169.7 413.259,-169.7 407.259,-163.7 407.259,-157.7 407.259,-157.7 407.259,-106.3 407.259,-106.3 407.259,-100.3 413.259,-94.2997 419.259,-94.2997 419.259,-94.2997 566.468,-94.2997 566.468,-94.2997 572.468,-94.2997 578.468,-100.3 578.468,-106.3 578.468,-106.3 578.468,-157.7 578.468,-157.7 578.468,-163.7 572.468,-169.7 566.468,-169.7\"/>\n",
       "<text text-anchor=\"middle\" x=\"492.864\" y=\"-153\" font-family=\"Helvetica,sans-Serif\" font-size=\"14.00\">petal length (cm) &lt;= 5.45</text>\n",
       "<text text-anchor=\"middle\" x=\"492.864\" y=\"-136.2\" font-family=\"Helvetica,sans-Serif\" font-size=\"14.00\">samples = 3</text>\n",
       "<text text-anchor=\"middle\" x=\"492.864\" y=\"-119.4\" font-family=\"Helvetica,sans-Serif\" font-size=\"14.00\">value = [0, 2, 1]</text>\n",
       "<text text-anchor=\"middle\" x=\"492.864\" y=\"-102.6\" font-family=\"Helvetica,sans-Serif\" font-size=\"14.00\">class = versicolor</text>\n",
       "</g>\n",
       "<!-- 7&#45;&gt;9 -->\n",
       "<g id=\"edge9\" class=\"edge\"><title>7&#45;&gt;9</title>\n",
       "<path fill=\"none\" stroke=\"black\" d=\"M447.032,-205.534C452.55,-196.801 458.504,-187.378 464.234,-178.309\"/>\n",
       "<polygon fill=\"black\" stroke=\"black\" points=\"467.256,-180.078 469.639,-169.755 461.339,-176.339 467.256,-180.078\"/>\n",
       "</g>\n",
       "<!-- 10 -->\n",
       "<g id=\"node11\" class=\"node\"><title>10</title>\n",
       "<path fill=\"#39e581\" stroke=\"black\" d=\"M473.591,-58.6014C473.591,-58.6014 374.136,-58.6014 374.136,-58.6014 368.136,-58.6014 362.136,-52.6014 362.136,-46.6014 362.136,-46.6014 362.136,-11.7986 362.136,-11.7986 362.136,-5.79862 368.136,0.201379 374.136,0.201379 374.136,0.201379 473.591,0.201379 473.591,0.201379 479.591,0.201379 485.591,-5.79862 485.591,-11.7986 485.591,-11.7986 485.591,-46.6014 485.591,-46.6014 485.591,-52.6014 479.591,-58.6014 473.591,-58.6014\"/>\n",
       "<text text-anchor=\"middle\" x=\"423.864\" y=\"-41.8\" font-family=\"Helvetica,sans-Serif\" font-size=\"14.00\">samples = 2</text>\n",
       "<text text-anchor=\"middle\" x=\"423.864\" y=\"-25\" font-family=\"Helvetica,sans-Serif\" font-size=\"14.00\">value = [0, 2, 0]</text>\n",
       "<text text-anchor=\"middle\" x=\"423.864\" y=\"-8.2\" font-family=\"Helvetica,sans-Serif\" font-size=\"14.00\">class = versicolor</text>\n",
       "</g>\n",
       "<!-- 9&#45;&gt;10 -->\n",
       "<g id=\"edge10\" class=\"edge\"><title>9&#45;&gt;10</title>\n",
       "<path fill=\"none\" stroke=\"black\" d=\"M467.758,-94.3237C461.626,-85.3655 455.065,-75.7811 448.934,-66.8252\"/>\n",
       "<polygon fill=\"black\" stroke=\"black\" points=\"451.753,-64.7471 443.217,-58.4722 445.977,-68.7011 451.753,-64.7471\"/>\n",
       "</g>\n",
       "<!-- 11 -->\n",
       "<g id=\"node12\" class=\"node\"><title>11</title>\n",
       "<path fill=\"#8139e5\" stroke=\"black\" d=\"M606.537,-58.6014C606.537,-58.6014 515.19,-58.6014 515.19,-58.6014 509.19,-58.6014 503.19,-52.6014 503.19,-46.6014 503.19,-46.6014 503.19,-11.7986 503.19,-11.7986 503.19,-5.79862 509.19,0.201379 515.19,0.201379 515.19,0.201379 606.537,0.201379 606.537,0.201379 612.537,0.201379 618.537,-5.79862 618.537,-11.7986 618.537,-11.7986 618.537,-46.6014 618.537,-46.6014 618.537,-52.6014 612.537,-58.6014 606.537,-58.6014\"/>\n",
       "<text text-anchor=\"middle\" x=\"560.864\" y=\"-41.8\" font-family=\"Helvetica,sans-Serif\" font-size=\"14.00\">samples = 1</text>\n",
       "<text text-anchor=\"middle\" x=\"560.864\" y=\"-25\" font-family=\"Helvetica,sans-Serif\" font-size=\"14.00\">value = [0, 0, 1]</text>\n",
       "<text text-anchor=\"middle\" x=\"560.864\" y=\"-8.2\" font-family=\"Helvetica,sans-Serif\" font-size=\"14.00\">class = virginica</text>\n",
       "</g>\n",
       "<!-- 9&#45;&gt;11 -->\n",
       "<g id=\"edge11\" class=\"edge\"><title>9&#45;&gt;11</title>\n",
       "<path fill=\"none\" stroke=\"black\" d=\"M517.606,-94.3237C523.649,-85.3655 530.114,-75.7811 536.156,-66.8252\"/>\n",
       "<polygon fill=\"black\" stroke=\"black\" points=\"539.1,-68.7196 541.791,-58.4722 533.297,-64.8048 539.1,-68.7196\"/>\n",
       "</g>\n",
       "<!-- 13 -->\n",
       "<g id=\"node14\" class=\"node\"><title>13</title>\n",
       "<path fill=\"#8139e5\" fill-opacity=\"0.498039\" stroke=\"black\" d=\"M722.837,-280.9C722.837,-280.9 584.89,-280.9 584.89,-280.9 578.89,-280.9 572.89,-274.9 572.89,-268.9 572.89,-268.9 572.89,-217.5 572.89,-217.5 572.89,-211.5 578.89,-205.5 584.89,-205.5 584.89,-205.5 722.837,-205.5 722.837,-205.5 728.837,-205.5 734.837,-211.5 734.837,-217.5 734.837,-217.5 734.837,-268.9 734.837,-268.9 734.837,-274.9 728.837,-280.9 722.837,-280.9\"/>\n",
       "<text text-anchor=\"middle\" x=\"653.864\" y=\"-264.2\" font-family=\"Helvetica,sans-Serif\" font-size=\"14.00\">sepal width (cm) &lt;= 3.1</text>\n",
       "<text text-anchor=\"middle\" x=\"653.864\" y=\"-247.4\" font-family=\"Helvetica,sans-Serif\" font-size=\"14.00\">samples = 3</text>\n",
       "<text text-anchor=\"middle\" x=\"653.864\" y=\"-230.6\" font-family=\"Helvetica,sans-Serif\" font-size=\"14.00\">value = [0, 1, 2]</text>\n",
       "<text text-anchor=\"middle\" x=\"653.864\" y=\"-213.8\" font-family=\"Helvetica,sans-Serif\" font-size=\"14.00\">class = virginica</text>\n",
       "</g>\n",
       "<!-- 12&#45;&gt;13 -->\n",
       "<g id=\"edge13\" class=\"edge\"><title>12&#45;&gt;13</title>\n",
       "<path fill=\"none\" stroke=\"black\" d=\"M653.864,-316.734C653.864,-308.541 653.864,-299.741 653.864,-291.196\"/>\n",
       "<polygon fill=\"black\" stroke=\"black\" points=\"657.364,-290.955 653.864,-280.955 650.364,-290.955 657.364,-290.955\"/>\n",
       "</g>\n",
       "<!-- 16 -->\n",
       "<g id=\"node17\" class=\"node\"><title>16</title>\n",
       "<path fill=\"#8139e5\" stroke=\"black\" d=\"M860.748,-272.601C860.748,-272.601 764.979,-272.601 764.979,-272.601 758.979,-272.601 752.979,-266.601 752.979,-260.601 752.979,-260.601 752.979,-225.799 752.979,-225.799 752.979,-219.799 758.979,-213.799 764.979,-213.799 764.979,-213.799 860.748,-213.799 860.748,-213.799 866.748,-213.799 872.748,-219.799 872.748,-225.799 872.748,-225.799 872.748,-260.601 872.748,-260.601 872.748,-266.601 866.748,-272.601 860.748,-272.601\"/>\n",
       "<text text-anchor=\"middle\" x=\"812.864\" y=\"-255.8\" font-family=\"Helvetica,sans-Serif\" font-size=\"14.00\">samples = 42</text>\n",
       "<text text-anchor=\"middle\" x=\"812.864\" y=\"-239\" font-family=\"Helvetica,sans-Serif\" font-size=\"14.00\">value = [0, 0, 42]</text>\n",
       "<text text-anchor=\"middle\" x=\"812.864\" y=\"-222.2\" font-family=\"Helvetica,sans-Serif\" font-size=\"14.00\">class = virginica</text>\n",
       "</g>\n",
       "<!-- 12&#45;&gt;16 -->\n",
       "<g id=\"edge16\" class=\"edge\"><title>12&#45;&gt;16</title>\n",
       "<path fill=\"none\" stroke=\"black\" d=\"M707.251,-316.734C725.315,-304.328 745.403,-290.531 763.169,-278.33\"/>\n",
       "<polygon fill=\"black\" stroke=\"black\" points=\"765.424,-281.027 771.685,-272.481 761.461,-275.257 765.424,-281.027\"/>\n",
       "</g>\n",
       "<!-- 14 -->\n",
       "<g id=\"node15\" class=\"node\"><title>14</title>\n",
       "<path fill=\"#8139e5\" stroke=\"black\" d=\"M699.537,-161.401C699.537,-161.401 608.19,-161.401 608.19,-161.401 602.19,-161.401 596.19,-155.401 596.19,-149.401 596.19,-149.401 596.19,-114.599 596.19,-114.599 596.19,-108.599 602.19,-102.599 608.19,-102.599 608.19,-102.599 699.537,-102.599 699.537,-102.599 705.537,-102.599 711.537,-108.599 711.537,-114.599 711.537,-114.599 711.537,-149.401 711.537,-149.401 711.537,-155.401 705.537,-161.401 699.537,-161.401\"/>\n",
       "<text text-anchor=\"middle\" x=\"653.864\" y=\"-144.6\" font-family=\"Helvetica,sans-Serif\" font-size=\"14.00\">samples = 2</text>\n",
       "<text text-anchor=\"middle\" x=\"653.864\" y=\"-127.8\" font-family=\"Helvetica,sans-Serif\" font-size=\"14.00\">value = [0, 0, 2]</text>\n",
       "<text text-anchor=\"middle\" x=\"653.864\" y=\"-111\" font-family=\"Helvetica,sans-Serif\" font-size=\"14.00\">class = virginica</text>\n",
       "</g>\n",
       "<!-- 13&#45;&gt;14 -->\n",
       "<g id=\"edge14\" class=\"edge\"><title>13&#45;&gt;14</title>\n",
       "<path fill=\"none\" stroke=\"black\" d=\"M653.864,-205.534C653.864,-194.641 653.864,-182.676 653.864,-171.66\"/>\n",
       "<polygon fill=\"black\" stroke=\"black\" points=\"657.364,-171.455 653.864,-161.455 650.364,-171.455 657.364,-171.455\"/>\n",
       "</g>\n",
       "<!-- 15 -->\n",
       "<g id=\"node16\" class=\"node\"><title>15</title>\n",
       "<path fill=\"#39e581\" stroke=\"black\" d=\"M840.591,-161.401C840.591,-161.401 741.136,-161.401 741.136,-161.401 735.136,-161.401 729.136,-155.401 729.136,-149.401 729.136,-149.401 729.136,-114.599 729.136,-114.599 729.136,-108.599 735.136,-102.599 741.136,-102.599 741.136,-102.599 840.591,-102.599 840.591,-102.599 846.591,-102.599 852.591,-108.599 852.591,-114.599 852.591,-114.599 852.591,-149.401 852.591,-149.401 852.591,-155.401 846.591,-161.401 840.591,-161.401\"/>\n",
       "<text text-anchor=\"middle\" x=\"790.864\" y=\"-144.6\" font-family=\"Helvetica,sans-Serif\" font-size=\"14.00\">samples = 1</text>\n",
       "<text text-anchor=\"middle\" x=\"790.864\" y=\"-127.8\" font-family=\"Helvetica,sans-Serif\" font-size=\"14.00\">value = [0, 1, 0]</text>\n",
       "<text text-anchor=\"middle\" x=\"790.864\" y=\"-111\" font-family=\"Helvetica,sans-Serif\" font-size=\"14.00\">class = versicolor</text>\n",
       "</g>\n",
       "<!-- 13&#45;&gt;15 -->\n",
       "<g id=\"edge15\" class=\"edge\"><title>13&#45;&gt;15</title>\n",
       "<path fill=\"none\" stroke=\"black\" d=\"M699.864,-205.534C715.08,-193.405 731.963,-179.948 747.014,-167.952\"/>\n",
       "<polygon fill=\"black\" stroke=\"black\" points=\"749.526,-170.425 755.165,-161.455 745.163,-164.951 749.526,-170.425\"/>\n",
       "</g>\n",
       "</g>\n",
       "</svg>\n"
      ],
      "text/plain": [
       "<graphviz.files.Source at 0x7f2c830a0b38>"
      ]
     },
     "execution_count": 12,
     "metadata": {},
     "output_type": "execute_result"
    }
   ],
   "source": [
    "from sklearn.tree import export_graphviz\n",
    "import graphviz\n",
    "\n",
    "export_graphviz(clf, \n",
    "                out_file=\"decisiontree.dot\",\n",
    "                feature_names=iris.feature_names,\n",
    "                class_names=iris.target_names,\n",
    "                filled=True,\n",
    "                rounded=True,\n",
    "                impurity=False )\n",
    "with open(\"decisiontree.dot\") as f:\n",
    "    dot_graph = f.read()\n",
    "graphviz.Source(dot_graph)"
   ]
  },
  {
   "cell_type": "markdown",
   "metadata": {
    "collapsed": true
   },
   "source": [
    "That is all folks!!!"
   ]
  }
 ],
 "metadata": {
  "anaconda-cloud": {},
  "kernelspec": {
   "display_name": "Python [default]",
   "language": "python",
   "name": "python3"
  },
  "language_info": {
   "codemirror_mode": {
    "name": "ipython",
    "version": 3
   },
   "file_extension": ".py",
   "mimetype": "text/x-python",
   "name": "python",
   "nbconvert_exporter": "python",
   "pygments_lexer": "ipython3",
   "version": "3.5.2"
  }
 },
 "nbformat": 4,
 "nbformat_minor": 1
}
