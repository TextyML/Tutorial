{
 "cells": [
  {
   "cell_type": "code",
   "execution_count": 57,
   "metadata": {
    "collapsed": false
   },
   "outputs": [
    {
     "name": "stdout",
     "output_type": "stream",
     "text": [
      "Facebook\n"
     ]
    }
   ],
   "source": [
    "from nltk import word_tokenize, pos_tag, ne_chunk\n",
    " \n",
    "sentence = \"Donald Trump and John are working at Facebook.\"\n",
    " \n",
    "tagged = ne_chunk(pos_tag(word_tokenize(sentence)))\n",
    "\n",
    "print(tagged.pos()[7][0][0])"
   ]
  },
  {
   "cell_type": "code",
   "execution_count": 61,
   "metadata": {
    "collapsed": false
   },
   "outputs": [
    {
     "name": "stdout",
     "output_type": "stream",
     "text": [
      "[['PERSON', 'Donald'], ['ORGANIZATION', 'Trump'], ['S', 'and'], ['PERSON', 'John'], ['S', 'are'], ['S', 'working'], ['S', 'at'], ['ORGANIZATION', 'Facebook'], ['S', '.']]\n"
     ]
    }
   ],
   "source": [
    "print([[tag[1],tag[0][0]] for tag in tagged.pos() ])"
   ]
  },
  {
   "cell_type": "code",
   "execution_count": 60,
   "metadata": {
    "collapsed": false
   },
   "outputs": [
    {
     "name": "stdout",
     "output_type": "stream",
     "text": [
      "[['PERSON', 'Donald'], ['ORGANIZATION', 'Trump'], ['PERSON', 'John'], ['ORGANIZATION', 'Facebook']]\n"
     ]
    }
   ],
   "source": [
    "def _nltk_tagger(doc):\n",
    "    tagged = ne_chunk(pos_tag(word_tokenize(sentence)))\n",
    "    tagList = []\n",
    "    tempTag = None\n",
    "    for tag_index, nltk_tag in enumerate(tagged.pos()):\n",
    "        tag = [nltk_tag[1], nltk_tag[0][0]]\n",
    "        if tag[0] != \"S\":\n",
    "            if tempTag is None:\n",
    "                tempTag = tag\n",
    "            elif tempTag[0] == tag[0]:\n",
    "                tempTag = [tempTag[0], tempTag[1] + \" \"+ tag[1]]\n",
    "            else:\n",
    "                tagList.append(tempTag)\n",
    "                tempTag = tag\n",
    "        elif tempTag is not None:\n",
    "            tagList.append(tempTag)\n",
    "            tempTag = None\n",
    "\n",
    "    return(tagList)\n",
    "    \n",
    "\n",
    "print(_nltk_tagger(sentence))"
   ]
  }
 ],
 "metadata": {
  "kernelspec": {
   "display_name": "Python 3",
   "language": "python",
   "name": "python3"
  },
  "language_info": {
   "codemirror_mode": {
    "name": "ipython",
    "version": 3
   },
   "file_extension": ".py",
   "mimetype": "text/x-python",
   "name": "python",
   "nbconvert_exporter": "python",
   "pygments_lexer": "ipython3",
   "version": "3.5.3"
  }
 },
 "nbformat": 4,
 "nbformat_minor": 2
}
