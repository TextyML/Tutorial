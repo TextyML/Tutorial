{
 "cells": [
  {
   "cell_type": "code",
   "execution_count": 1,
   "metadata": {
    "collapsed": true,
    "deletable": true,
    "editable": true
   },
   "outputs": [],
   "source": [
    "import numpy as np"
   ]
  },
  {
   "cell_type": "markdown",
   "metadata": {
    "deletable": true,
    "editable": true
   },
   "source": [
    "# observed feature frequencies, per class, i.e. the contingency table\n",
    "\n",
    "Labels = $\\left[K_0 \\quad \\dots \\quad K_n \\right] $ mit n = Anzahl der Daten\n",
    "\n",
    "Y = $\\left(\\begin{array}{Y} 1 - Labels \\\\ Labels \\end{array}\\right) $\n",
    "\n",
    "$O_{cf}$\n",
    "\n",
    "c - Labels index\n",
    "\n",
    "f - Feature index\n",
    "\n",
    "X = \\begin{bmatrix}\n",
    " O_{11}      & \\cdots & O_{1n}  \\\\\n",
    " O_{21}      & \\cdots &  O_{2n} \\\\\n",
    "\\end{bmatrix}\n",
    "\n",
    "B = $Y \\cdot X$\n",
    "\n",
    "$L_{M}$ = Anzahl der Merkmale\n",
    "\n",
    "$M_{c}$ = $\\left [ \\sum_{n=1}^2O_{n1} \\quad \\dots \\quad \\sum_{n=1}^{2}O_{nL_{M}}  \\right ]$\n",
    "\n",
    "$C_{p}$ = $\\left [ \\frac{1}{L_{M}}\\sum_{n=1}^{L_{M}}O_{1n} \\qquad \\frac{1}{L_{M}}\\sum_{n=1}^{L_{M}}O_{2n}   \\right ] $   Durchschnitt von Labels auf y-Achse\n",
    "\n",
    "E = $ (M_{c} \\cdot C_{p})^T$"
   ]
  },
  {
   "cell_type": "code",
   "execution_count": 43,
   "metadata": {
    "collapsed": false,
    "deletable": true,
    "editable": true
   },
   "outputs": [
    {
     "name": "stdout",
     "output_type": "stream",
     "text": [
      "[[2]\n",
      " [1]\n",
      " [6]\n",
      " [1]\n",
      " [2]]\n",
      "\n",
      "[[ 0.5  0.5]]\n",
      "\n",
      "[[ 1.   1. ]\n",
      " [ 0.5  0.5]\n",
      " [ 3.   3. ]\n",
      " [ 0.5  0.5]\n",
      " [ 1.   1. ]]\n"
     ]
    }
   ],
   "source": [
    "print(feature_count.reshape(-1, 1))\n",
    "print()\n",
    "print(class_prob.reshape(1, -1))\n",
    "print()\n",
    "print(np.dot(feature_count.reshape(-1, 1), class_prob.reshape(1, -1)))"
   ]
  },
  {
   "cell_type": "code",
   "execution_count": 174,
   "metadata": {
    "collapsed": false,
    "deletable": true,
    "editable": true
   },
   "outputs": [],
   "source": [
    "y = np.array([1, 0, 1])\n",
    "X = np.array([[1, 0, 2, 0, 1], [1, 1, 4, 1, 1], [1, 0, 2, 0, 1]])"
   ]
  },
  {
   "cell_type": "code",
   "execution_count": 175,
   "metadata": {
    "collapsed": false,
    "deletable": true,
    "editable": true
   },
   "outputs": [
    {
     "name": "stdout",
     "output_type": "stream",
     "text": [
      "[[0 1 0]\n",
      " [1 0 1]]\n"
     ]
    }
   ],
   "source": [
    "Y = np.vstack([1 - y, y])\n",
    "print(Y)"
   ]
  },
  {
   "cell_type": "code",
   "execution_count": 176,
   "metadata": {
    "collapsed": false,
    "deletable": true,
    "editable": true
   },
   "outputs": [
    {
     "name": "stdout",
     "output_type": "stream",
     "text": [
      "[[1 1 4 1 1]\n",
      " [2 0 4 0 2]]\n"
     ]
    }
   ],
   "source": [
    "observed = np.dot(Y, X) # Skalarprodukt\n",
    "print(observed)"
   ]
  },
  {
   "cell_type": "markdown",
   "metadata": {
    "deletable": true,
    "editable": true
   },
   "source": [
    "# Expected value"
   ]
  },
  {
   "cell_type": "code",
   "execution_count": 177,
   "metadata": {
    "collapsed": true,
    "deletable": true,
    "editable": true
   },
   "outputs": [],
   "source": [
    "feature_count = X.sum(axis=0)\n",
    "class_prob = Y.mean(axis=1)\n",
    "expected = np.dot(feature_count.reshape(-1, 1), class_prob.reshape(1, -1)).T"
   ]
  },
  {
   "cell_type": "code",
   "execution_count": 178,
   "metadata": {
    "collapsed": false,
    "deletable": true,
    "editable": true
   },
   "outputs": [
    {
     "name": "stdout",
     "output_type": "stream",
     "text": [
      "[0 1 0]\n",
      "[1 0 1]\n",
      "[ 0.33333333  0.66666667]\n"
     ]
    }
   ],
   "source": [
    "print(Y[0])\n",
    "print(Y[1])\n",
    "\n",
    "print(Y.mean(axis=1))"
   ]
  },
  {
   "cell_type": "code",
   "execution_count": 179,
   "metadata": {
    "collapsed": false,
    "deletable": true,
    "editable": true
   },
   "outputs": [
    {
     "name": "stdout",
     "output_type": "stream",
     "text": [
      "[3 1 8 1 3]\n"
     ]
    }
   ],
   "source": [
    "print(feature_count)"
   ]
  },
  {
   "cell_type": "code",
   "execution_count": 180,
   "metadata": {
    "collapsed": false,
    "deletable": true,
    "editable": true
   },
   "outputs": [
    {
     "name": "stdout",
     "output_type": "stream",
     "text": [
      "[ 0.33333333  0.66666667]\n"
     ]
    }
   ],
   "source": [
    "print(class_prob)"
   ]
  },
  {
   "cell_type": "code",
   "execution_count": 181,
   "metadata": {
    "collapsed": false,
    "deletable": true,
    "editable": true
   },
   "outputs": [
    {
     "name": "stdout",
     "output_type": "stream",
     "text": [
      "[[ 1.          0.33333333  2.66666667  0.33333333  1.        ]\n",
      " [ 2.          0.66666667  5.33333333  0.66666667  2.        ]]\n"
     ]
    }
   ],
   "source": [
    "print(expected)"
   ]
  },
  {
   "cell_type": "markdown",
   "metadata": {
    "deletable": true,
    "editable": true
   },
   "source": [
    "# X-square"
   ]
  },
  {
   "cell_type": "code",
   "execution_count": 186,
   "metadata": {
    "collapsed": false,
    "deletable": true,
    "editable": true
   },
   "outputs": [
    {
     "name": "stdout",
     "output_type": "stream",
     "text": [
      "Observed [[1 1 4 1 1]\n",
      " [2 0 4 0 2]]\n",
      "\n",
      "Expected: [[ 1.          0.33333333  2.66666667  0.33333333  1.        ]\n",
      " [ 2.          0.66666667  5.33333333  0.66666667  2.        ]]\n",
      "\n",
      "[ 0.  2.  1.  2.  0.]\n",
      "[ 1.          0.15729921  0.31731051  0.15729921  1.        ]\n"
     ]
    }
   ],
   "source": [
    "from scipy.stats import chisquare\n",
    "print(\"Observed\", observed)\n",
    "print()\n",
    "print(\"Expected:\", expected)\n",
    "print()\n",
    "score, pval = chisquare(observed, expected)\n",
    "print(score)\n",
    "print(pval)"
   ]
  },
  {
   "cell_type": "code",
   "execution_count": null,
   "metadata": {
    "collapsed": true,
    "deletable": true,
    "editable": true
   },
   "outputs": [],
   "source": []
  }
 ],
 "metadata": {
  "kernelspec": {
   "display_name": "Python 3",
   "language": "python",
   "name": "python3"
  },
  "language_info": {
   "codemirror_mode": {
    "name": "ipython",
    "version": 3
   },
   "file_extension": ".py",
   "mimetype": "text/x-python",
   "name": "python",
   "nbconvert_exporter": "python",
   "pygments_lexer": "ipython3",
   "version": "3.5.3"
  }
 },
 "nbformat": 4,
 "nbformat_minor": 2
}
