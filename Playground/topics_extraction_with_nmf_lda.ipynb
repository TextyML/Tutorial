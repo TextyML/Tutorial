{
 "cells": [
  {
   "cell_type": "code",
   "execution_count": null,
   "metadata": {
    "collapsed": false
   },
   "outputs": [],
   "source": [
    "%matplotlib inline"
   ]
  },
  {
   "cell_type": "markdown",
   "metadata": {},
   "source": [
    "\n",
    "# Topic extraction with Non-negative Matrix Factorization and Latent Dirichlet Allocation\n",
    "\n",
    "\n",
    "This is an example of applying Non-negative Matrix Factorization\n",
    "and Latent Dirichlet Allocation on a corpus of documents and\n",
    "extract additive models of the topic structure of the corpus.\n",
    "The output is a list of topics, each represented as a list of terms\n",
    "(weights are not shown).\n",
    "\n",
    "The default parameters (n_samples / n_features / n_topics) should make\n",
    "the example runnable in a couple of tens of seconds. You can try to\n",
    "increase the dimensions of the problem, but be aware that the time\n",
    "complexity is polynomial in NMF. In LDA, the time complexity is\n",
    "proportional to (n_samples * iterations).\n"
   ]
  },
  {
   "cell_type": "code",
   "execution_count": 1,
   "metadata": {
    "collapsed": false
   },
   "outputs": [
    {
     "name": "stderr",
     "output_type": "stream",
     "text": [
      "Downloading dataset from http://people.csail.mit.edu/jrennie/20Newsgroups/20news-bydate.tar.gz (14 MB)\n"
     ]
    },
    {
     "name": "stdout",
     "output_type": "stream",
     "text": [
      "Loading dataset...\n",
      "done in 13.203s.\n",
      "Extracting tf-idf features for NMF...\n",
      "done in 0.636s.\n",
      "Extracting tf features for LDA...\n",
      "done in 0.588s.\n",
      "Fitting the NMF model with tf-idf features, n_samples=2000 and n_features=1000...\n",
      "done in 0.462s.\n",
      "\n",
      "Topics in NMF model:\n",
      "Topic #0:\n",
      "just people don think like know time good make way really say right ve want did ll new use years\n",
      "Topic #1:\n",
      "windows use dos using window program os drivers application help software pc running ms screen files version card code work\n",
      "Topic #2:\n",
      "god jesus bible faith christian christ christians does heaven sin believe lord life church mary atheism belief human love religion\n",
      "Topic #3:\n",
      "thanks know does mail advance hi info interested email anybody looking card help like appreciated information send list video need\n",
      "Topic #4:\n",
      "car cars tires miles 00 new engine insurance price condition oil power speed good 000 brake year models used bought\n",
      "Topic #5:\n",
      "edu soon com send university internet mit ftp mail cc pub article information hope program mac email home contact blood\n",
      "Topic #6:\n",
      "file problem files format win sound ftp pub read save site help image available create copy running memory self version\n",
      "Topic #7:\n",
      "game team games year win play season players nhl runs goal hockey toronto division flyers player defense leafs bad teams\n",
      "Topic #8:\n",
      "drive drives hard disk floppy software card mac computer power scsi controller apple mb 00 pc rom sale problem internal\n",
      "Topic #9:\n",
      "key chip clipper keys encryption government public use secure enforcement phone nsa communications law encrypted security clinton used legal standard\n",
      "\n",
      "Fitting LDA models with tf features, n_samples=2000 and n_features=1000...\n",
      "done in 3.668s.\n",
      "\n",
      "Topics in LDA model:\n",
      "Topic #0:\n",
      "edu com mail send graphics ftp pub available contact university list faq ca information cs 1993 program sun uk mit\n",
      "Topic #1:\n",
      "don like just know think ve way use right good going make sure ll point got need really time doesn\n",
      "Topic #2:\n",
      "christian think atheism faith pittsburgh new bible radio games alt lot just religion like book read play time subject believe\n",
      "Topic #3:\n",
      "drive disk windows thanks use card drives hard version pc software file using scsi help does new dos controller 16\n",
      "Topic #4:\n",
      "hiv health aids disease april medical care research 1993 light information study national service test led 10 page new drug\n",
      "Topic #5:\n",
      "god people does just good don jesus say israel way life know true fact time law want believe make think\n",
      "Topic #6:\n",
      "55 10 11 18 15 team game 19 period play 23 12 13 flyers 20 25 22 17 24 16\n",
      "Topic #7:\n",
      "car year just cars new engine like bike good oil insurance better tires 000 thing speed model brake driving performance\n",
      "Topic #8:\n",
      "people said did just didn know time like went think children came come don took years say dead told started\n",
      "Topic #9:\n",
      "key space law government public use encryption earth section security moon probe enforcement keys states lunar military crime surface technology\n",
      "\n"
     ]
    }
   ],
   "source": [
    "# Author: Olivier Grisel <olivier.grisel@ensta.org>\n",
    "#         Lars Buitinck\n",
    "#         Chyi-Kwei Yau <chyikwei.yau@gmail.com>\n",
    "# License: BSD 3 clause\n",
    "\n",
    "from __future__ import print_function\n",
    "from time import time\n",
    "\n",
    "from sklearn.feature_extraction.text import TfidfVectorizer, CountVectorizer\n",
    "from sklearn.decomposition import NMF, LatentDirichletAllocation\n",
    "from sklearn.datasets import fetch_20newsgroups\n",
    "\n",
    "n_samples = 2000\n",
    "n_features = 1000\n",
    "n_topics = 10\n",
    "n_top_words = 20\n",
    "\n",
    "\n",
    "def print_top_words(model, feature_names, n_top_words):\n",
    "    for topic_idx, topic in enumerate(model.components_):\n",
    "        print(\"Topic #%d:\" % topic_idx)\n",
    "        print(\" \".join([feature_names[i]\n",
    "                        for i in topic.argsort()[:-n_top_words - 1:-1]]))\n",
    "    print()\n",
    "\n",
    "\n",
    "# Load the 20 newsgroups dataset and vectorize it. We use a few heuristics\n",
    "# to filter out useless terms early on: the posts are stripped of headers,\n",
    "# footers and quoted replies, and common English words, words occurring in\n",
    "# only one document or in at least 95% of the documents are removed.\n",
    "\n",
    "print(\"Loading dataset...\")\n",
    "t0 = time()\n",
    "dataset = fetch_20newsgroups(shuffle=True, random_state=1,\n",
    "                             remove=('headers', 'footers', 'quotes'))\n",
    "data_samples = dataset.data[:n_samples]\n",
    "print(\"done in %0.3fs.\" % (time() - t0))\n",
    "\n",
    "# Use tf-idf features for NMF.\n",
    "print(\"Extracting tf-idf features for NMF...\")\n",
    "tfidf_vectorizer = TfidfVectorizer(max_df=0.95, min_df=2,\n",
    "                                   max_features=n_features,\n",
    "                                   stop_words='english')\n",
    "t0 = time()\n",
    "tfidf = tfidf_vectorizer.fit_transform(data_samples)\n",
    "print(\"done in %0.3fs.\" % (time() - t0))\n",
    "\n",
    "# Use tf (raw term count) features for LDA.\n",
    "print(\"Extracting tf features for LDA...\")\n",
    "tf_vectorizer = CountVectorizer(max_df=0.95, min_df=2,\n",
    "                                max_features=n_features,\n",
    "                                stop_words='english')\n",
    "t0 = time()\n",
    "tf = tf_vectorizer.fit_transform(data_samples)\n",
    "print(\"done in %0.3fs.\" % (time() - t0))\n",
    "\n",
    "# Fit the NMF model\n",
    "print(\"Fitting the NMF model with tf-idf features, \"\n",
    "      \"n_samples=%d and n_features=%d...\"\n",
    "      % (n_samples, n_features))\n",
    "t0 = time()\n",
    "nmf = NMF(n_components=n_topics, random_state=1,\n",
    "          alpha=.1, l1_ratio=.5).fit(tfidf)\n",
    "print(\"done in %0.3fs.\" % (time() - t0))\n",
    "\n",
    "print(\"\\nTopics in NMF model:\")\n",
    "tfidf_feature_names = tfidf_vectorizer.get_feature_names()\n",
    "print_top_words(nmf, tfidf_feature_names, n_top_words)\n",
    "\n",
    "print(\"Fitting LDA models with tf features, \"\n",
    "      \"n_samples=%d and n_features=%d...\"\n",
    "      % (n_samples, n_features))\n",
    "lda = LatentDirichletAllocation(n_topics=n_topics, max_iter=5,\n",
    "                                learning_method='online',\n",
    "                                learning_offset=50.,\n",
    "                                random_state=0)\n",
    "t0 = time()\n",
    "lda.fit(tf)\n",
    "print(\"done in %0.3fs.\" % (time() - t0))\n",
    "p\n",
    "print(\"\\nTopics in LDA model:\")\n",
    "tf_feature_names = tf_vectorizer.get_feature_names()\n",
    "print_top_words(lda, tf_feature_names, n_top_words)"
   ]
  },
  {
   "cell_type": "code",
   "execution_count": 2,
   "metadata": {
    "collapsed": false
   },
   "outputs": [
    {
     "name": "stdout",
     "output_type": "stream",
     "text": [
      "['00', '000', '10', '100', '11', '12', '128', '13', '130', '14', '15', '16', '17', '18', '19', '1992', '1993', '20', '200', '21', '22', '23', '24', '25', '250', '26', '27', '28', '29', '2nd', '30', '300', '31', '32', '33', '34', '35', '36', '37', '38', '3d', '40', '42', '43', '44', '45', '48', '49', '50', '500', '51', '55', '60', '66', '70', '72', '75', '80', '800', '86', '90', '92', '93', '__', 'able', 'ac', 'accept', 'access', 'according', 'act', 'action', 'actually', 'add', 'added', 'addition', 'address', 'administration', 'advance', 'age', 'ago', 'agree', 'aids', 'air', 'al', 'allow', 'allowed', 'alt', 'america', 'american', 'amiga', 'analysis', 'anonymous', 'answer', 'answers', 'anti', 'anybody', 'apartment', 'appears', 'apple', 'application', 'applications', 'apply', 'appreciated', 'approach', 'appropriate', 'apr', 'april', 'archive', 'area', 'areas', 'aren', 'argument', 'armenia', 'armenian', 'armenians', 'army', 'article', 'ask', 'asked', 'asking', 'assume', 'atheism', 'attack', 'attacks', 'attempt', 'au', 'author', 'authority', 'available', 'average', 'away', 'azerbaijan', 'bad', 'based', 'basic', 'basically', 'begin', 'belief', 'believe', 'best', 'better', 'bible', 'big', 'bike', 'billion', 'bios', 'bit', 'black', 'block', 'blood', 'blue', 'board', 'bob', 'body', 'book', 'books', 'bought', 'box', 'brake', 'break', 'bring', 'btw', 'build', 'building', 'built', 'bus', 'business', 'buy', 'buying', 'ca', 'cable', 'called', 'calls', 'came', 'canada', 'car', 'card', 'cards', 'care', 'carry', 'cars', 'case', 'cases', 'cause', 'cc', 'cd', 'center', 'certain', 'certainly', 'chance', 'change', 'changed', 'changes', 'cheap', 'check', 'children', 'chip', 'choice', 'christ', 'christian', 'christians', 'church', 'citizens', 'city', 'claim', 'clear', 'clearly', 'clinton', 'clipper', 'clock', 'close', 'code', 'cold', 'color', 'com', 'come', 'comes', 'coming', 'command', 'comments', 'commercial', 'common', 'communications', 'community', 'comp', 'company', 'complete', 'completely', 'computer', 'condition', 'conference', 'congress', 'connector', 'consider', 'considered', 'contact', 'containing', 'contains', 'continue', 'control', 'controller', 'copies', 'copy', 'correct', 'cost', 'costs', 'couldn', 'countries', 'country', 'couple', 'course', 'court', 'cover', 'create', 'created', 'crime', 'crowd', 'cs', 'cubs', 'current', 'currently', 'cut', 'dangerous', 'data', 'database', 'date', 'dave', 'david', 'day', 'days', 'dc', 'dead', 'deal', 'death', 'dec', 'decided', 'defense', 'deleted', 'department', 'design', 'designed', 'details', 'developed', 'development', 'device', 'devices', 'did', 'didn', 'die', 'died', 'difference', 'different', 'difficult', 'digital', 'directly', 'directory', 'discussion', 'disease', 'disk', 'display', 'division', 'does', 'doesn', 'dog', 'doing', 'dollars', 'don', 'door', 'dos', 'dot', 'doubt', 'dr', 'drive', 'driver', 'drivers', 'drives', 'driving', 'drug', 'earlier', 'early', 'earth', 'easily', 'easy', 'edu', 'effect', 'effective', 'effort', 'email', 'encrypted', 'encryption', 'end', 'energy', 'enforcement', 'engine', 'entire', 'equipment', 'eric', 'error', 'especially', 'events', 'evidence', 'exactly', 'example', 'excellent', 'exist', 'expect', 'experience', 'explain', 'extra', 'face', 'fact', 'fair', 'fairly', 'faith', 'family', 'faq', 'far', 'fast', 'faster', 'father', 'fax', 'feature', 'features', 'federal', 'feel', 'field', 'figure', 'file', 'files', 'final', 'finally', 'fine', 'firearm', 'fit', 'floppy', 'flyers', 'folks', 'follow', 'following', 'food', 'force', 'forget', 'form', 'format', 'formats', 'free', 'freedom', 'friend', 'ftp', 'function', 'future', 'game', 'games', 'gas', 'gave', 'gay', 'general', 'generally', 'gets', 'getting', 'given', 'gives', 'giving', 'gm', 'goal', 'god', 'goes', 'going', 'gone', 'good', 'got', 'gov', 'government', 'graphics', 'great', 'greek', 'ground', 'group', 'groups', 'guess', 'gun', 'guns', 'guy', 'half', 'hand', 'happen', 'happened', 'happens', 'happy', 'hard', 'hardware', 'haven', 'having', 'head', 'heads', 'health', 'hear', 'heard', 'heart', 'heaven', 'held', 'hell', 'help', 'hi', 'high', 'higher', 'history', 'hit', 'hiv', 'hockey', 'hold', 'home', 'hope', 'hospital', 'hot', 'hours', 'house', 'hp', 'human', 'ibm', 'id', 'idea', 'ii', 'image', 'images', 'imagine', 'important', 'include', 'included', 'includes', 'including', 'increase', 'individual', 'info', 'information', 'input', 'inside', 'instead', 'insurance', 'interested', 'interesting', 'interface', 'internal', 'international', 'internet', 'involved', 'isn', 'israel', 'israeli', 'issue', 'james', 'jesus', 'jewish', 'jews', 'job', 'jobs', 'john', 'just', 'kept', 'key', 'keys', 'kill', 'killed', 'killing', 'kind', 'knew', 'know', 'knowledge', 'known', 'knows', 'lack', 'land', 'language', 'large', 'late', 'later', 'latest', 'launch', 'law', 'laws', 'leafs', 'learn', 'leave', 'led', 'left', 'legal', 'let', 'letter', 'level', 'library', 'license', 'life', 'light', 'like', 'likely', 'limited', 'line', 'lines', 'list', 'listen', 'little', 'live', 'lives', 'living', 'll', 'local', 'long', 'longer', 'look', 'looking', 'looks', 'lord', 'lost', 'lot', 'lots', 'love', 'low', 'luck', 'lunar', 'mac', 'machine', 'machines', 'magi', 'mail', 'main', 'major', 'make', 'makes', 'making', 'mamma', 'man', 'manager', 'manual', 'mark', 'market', 'marriage', 'mars', 'mary', 'mass', 'master', 'math', 'matter', 'maybe', 'mb', 'mean', 'meaning', 'means', 'media', 'medical', 'member', 'members', 'memory', 'men', 'mention', 'mentioned', 'message', 'middle', 'mike', 'mil', 'miles', 'military', 'million', 'mind', 'mission', 'mit', 'mode', 'model', 'models', 'modern', 'money', 'monitor', 'months', 'moon', 'moral', 'mother', 'motif', 'mr', 'ms', 'nasa', 'national', 'nature', 'navy', 'near', 'necessary', 'need', 'needed', 'needs', 'net', 'network', 'new', 'news', 'newsgroup', 'nhl', 'nice', 'night', 'non', 'normal', 'north', 'note', 'nsa', 'number', 'numbers', 'objects', 'obvious', 'offer', 'office', 'oh', 'oil', 'ok', 'old', 'older', 'ones', 'open', 'opinion', 'opinions', 'orbit', 'order', 'org', 'organization', 'original', 'os', 'output', 'outside', 'package', 'page', 'paper', 'papers', 'parents', 'particular', 'parts', 'party', 'pass', 'past', 'paul', 'pay', 'pc', 'people', 'performance', 'period', 'person', 'personal', 'peter', 'phone', 'pick', 'piece', 'pin', 'pittsburgh', 'place', 'places', 'plan', 'play', 'played', 'player', 'players', 'playing', 'plus', 'point', 'points', 'police', 'policy', 'political', 'population', 'port', 'position', 'possible', 'post', 'posted', 'posting', 'power', 'pp', 'present', 'president', 'press', 'pretty', 'price', 'printer', 'private', 'pro', 'probably', 'probe', 'probes', 'problem', 'problems', 'process', 'product', 'program', 'programs', 'project', 'prove', 'provide', 'pub', 'public', 'purpose', 'putting', 'quality', 'question', 'questions', 'quite', 'radio', 'ram', 'range', 'rate', 'rates', 'ray', 'read', 'reading', 'real', 'really', 'reason', 'reasonable', 'received', 'recent', 'recently', 'recommend', 'record', 'red', 'reference', 'regular', 'related', 'release', 'religion', 'religious', 'remember', 'reply', 'report', 'request', 'require', 'required', 'research', 'response', 'rest', 'result', 'results', 'return', 'right', 'rights', 'road', 'robert', 'role', 'rom', 'room', 'rules', 'run', 'running', 'runs', 'safety', 'said', 'sale', 'san', 'save', 'saw', 'say', 'saying', 'says', 'school', 'sci', 'science', 'scientific', 'screen', 'scsi', 'search', 'season', 'second', 'section', 'secure', 'security', 'seen', 'self', 'sell', 'send', 'sense', 'sent', 'serial', 'series', 'seriously', 'server', 'service', 'set', 'sex', 'sgi', 'shall', 'short', 'shot', 'shots', 'shows', 'shuttle', 'signal', 'similar', 'simple', 'simply', 'sin', 'single', 'site', 'situation', 'size', 'slow', 'small', 'society', 'software', 'solar', 'sold', 'soldiers', 'soon', 'sorry', 'sort', 'sound', 'sounds', 'source', 'sources', 'soviet', 'space', 'spacecraft', 'special', 'specific', 'specifically', 'speed', 'st', 'standard', 'start', 'started', 'starting', 'state', 'statement', 'states', 'station', 'stay', 'stop', 'story', 'street', 'strong', 'study', 'stuff', 'stupid', 'subject', 'suggest', 'sun', 'support', 'supported', 'supports', 'suppose', 'supposed', 'sure', 'surface', 'switch', 'systems', 'taken', 'takes', 'taking', 'talk', 'talking', 'tape', 'team', 'teams', 'technical', 'technology', 'tell', 'term', 'test', 'text', 'thank', 'thanks', 'theory', 'thing', 'things', 'think', 'thinking', 'thought', 'time', 'times', 'tires', 'today', 'told', 'took', 'toronto', 'total', 'town', 'traffic', 'transfer', 'tried', 'trouble', 'true', 'trust', 'truth', 'try', 'trying', 'turkish', 'turn', 'turned', 'tv', 'type', 'types', 'uk', 'understand', 'unfortunately', 'united', 'university', 'unix', 'unless', 'use', 'used', 'useful', 'user', 'users', 'uses', 'using', 'usually', 'value', 'van', 'various', 've', 'version', 'vga', 'video', 'view', 'volume', 'vs', 'want', 'wanted', 'wants', 'war', 'washington', 'wasn', 'water', 'way', 'weapon', 'weapons', 'week', 'weeks', 'went', 'western', 'white', 'wife', 'willing', 'win', 'window', 'windows', 'wish', 'woman', 'women', 'won', 'wonder', 'wondering', 'word', 'words', 'work', 'worked', 'working', 'works', 'world', 'worse', 'worth', 'wouldn', 'write', 'written', 'wrong', 'xfree86', 'year', 'years', 'yes', 'young']\n"
     ]
    }
   ],
   "source": [
    "print(tf_vectorizer.get_feature_names())"
   ]
  }
 ],
 "metadata": {
  "anaconda-cloud": {},
  "kernelspec": {
   "display_name": "Python [conda root]",
   "language": "python",
   "name": "conda-root-py"
  },
  "language_info": {
   "codemirror_mode": {
    "name": "ipython",
    "version": 3
   },
   "file_extension": ".py",
   "mimetype": "text/x-python",
   "name": "python",
   "nbconvert_exporter": "python",
   "pygments_lexer": "ipython3",
   "version": "3.5.2"
  }
 },
 "nbformat": 4,
 "nbformat_minor": 0
}
