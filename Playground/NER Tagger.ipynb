{
 "cells": [
  {
   "cell_type": "code",
   "execution_count": 3,
   "metadata": {
    "collapsed": false
   },
   "outputs": [],
   "source": [
    "import nltk\n",
    "import os\n",
    "import numpy as np\n",
    "from nltk import pos_tag\n",
    "from nltk.tag import StanfordNERTagger\n",
    "from nltk.tokenize import word_tokenize"
   ]
  },
  {
   "cell_type": "code",
   "execution_count": 4,
   "metadata": {
    "collapsed": true
   },
   "outputs": [],
   "source": [
    "text = \"BucketFeet has a noble goal: To connect people through art -- or artsy shoes at least.\\\n",
    "Founders Raaja Nemani and Aaron Firestein met as volunteers at a slum outside of Buenos Aires in 2008. \\\n",
    "Firestein, a recent graduate from the University of Oregon, was working as a photographer in Argentina. \\\n",
    "On the side, he would decorate white Converse shoes with his own artwork and sell his wares on Facebook.\"\n",
    "\n",
    "token_text = word_tokenize(text)"
   ]
  },
  {
   "cell_type": "code",
   "execution_count": 24,
   "metadata": {
    "collapsed": true
   },
   "outputs": [],
   "source": [
    "def stanford_tagger(ttext):\n",
    "    #classifiers/english.all.3class.distsim.crf.ser.gz,   # Better for Organizations\n",
    "    #classifiers/english.conll.4class.distsim.crf.ser.gz, # Piece of shit\n",
    "    #classifiers/english.muc.7class.distsim.crf.ser.gz    # Better for Date and hidden Organizations\n",
    "    st_org = StanfordNERTagger('/opt/nltk_data/stanford/classifiers/english.all.3class.distsim.crf.ser.gz',\n",
    "                               '/opt/nltk_data/stanford/stanford-ner.jar', encoding='utf-8')\n",
    "    st_misc = StanfordNERTagger('/opt/nltk_data/stanford/classifiers/english.muc.7class.distsim.crf.ser.gz',\n",
    "                               '/opt/nltk_data/stanford/stanford-ner.jar', encoding='utf-8')   \n",
    "    org_tagged = st_org.tag(ttext)\n",
    "    misc_tagged = st_misc.tag(ttext)\n",
    "    \n",
    "    tagged = []\n",
    "    \n",
    "    for tag_index, tag in enumerate(org_tagged):\n",
    "        if tag[1] == 'O' && misc_tagged[tag_index][1] is not 'O' :\n",
    "            tagged.append(misc_tagged[tag_index])\n",
    "        else\n",
    "            tagged.append(tag)\n",
    "            \n",
    "            \n",
    "    \n",
    "    return(ne_tagged)\n",
    " \n",
    "# NLTK POS and NER taggers   \n",
    "def nltk_tagger(ttext):\n",
    "    tagged_words = nltk.pos_tag(ttext)\n",
    "    ne_tagged = nltk.ne_chunk(tagged_words)\n",
    "    return(ne_tagged)"
   ]
  },
  {
   "cell_type": "code",
   "execution_count": 7,
   "metadata": {
    "collapsed": true
   },
   "outputs": [],
   "source": [
    "def stanford_main():\n",
    "    print(stanford_tagger(token_text))\n",
    "\n",
    "def nltk_main():\n",
    "    print(nltk_tagger(token_text))"
   ]
  },
  {
   "cell_type": "code",
   "execution_count": 8,
   "metadata": {
    "collapsed": false
   },
   "outputs": [
    {
     "name": "stdout",
     "output_type": "stream",
     "text": [
      "(S\n",
      "  (ORGANIZATION BucketFeet/NNP)\n",
      "  has/VBZ\n",
      "  a/DT\n",
      "  noble/JJ\n",
      "  goal/NN\n",
      "  :/:\n",
      "  To/TO\n",
      "  connect/VB\n",
      "  people/NNS\n",
      "  through/IN\n",
      "  art/NN\n",
      "  --/:\n",
      "  or/CC\n",
      "  artsy/VB\n",
      "  shoes/NNS\n",
      "  at/IN\n",
      "  least.Founders/NNS\n",
      "  (PERSON Raaja/NNP Nemani/NNP)\n",
      "  and/CC\n",
      "  (PERSON Aaron/NNP Firestein/NNP)\n",
      "  met/VBD\n",
      "  as/IN\n",
      "  volunteers/NNS\n",
      "  at/IN\n",
      "  a/DT\n",
      "  slum/NN\n",
      "  outside/IN\n",
      "  of/IN\n",
      "  (PERSON Buenos/NNP Aires/NNP)\n",
      "  in/IN\n",
      "  2008/CD\n",
      "  ./.\n",
      "  (PERSON Firestein/NNP)\n",
      "  ,/,\n",
      "  a/DT\n",
      "  recent/JJ\n",
      "  graduate/NN\n",
      "  from/IN\n",
      "  the/DT\n",
      "  (ORGANIZATION University/NNP)\n",
      "  of/IN\n",
      "  (GPE Oregon/NNP)\n",
      "  ,/,\n",
      "  was/VBD\n",
      "  working/VBG\n",
      "  as/IN\n",
      "  a/DT\n",
      "  photographer/NN\n",
      "  in/IN\n",
      "  (GPE Argentina/NNP)\n",
      "  ./.\n",
      "  On/IN\n",
      "  the/DT\n",
      "  side/NN\n",
      "  ,/,\n",
      "  he/PRP\n",
      "  would/MD\n",
      "  decorate/VB\n",
      "  white/JJ\n",
      "  Converse/NNP\n",
      "  shoes/NNS\n",
      "  with/IN\n",
      "  his/PRP$\n",
      "  own/JJ\n",
      "  artwork/NN\n",
      "  and/CC\n",
      "  sell/VB\n",
      "  his/PRP$\n",
      "  wares/NNS\n",
      "  on/IN\n",
      "  (GPE Facebook/NNP)\n",
      "  ./.)\n"
     ]
    }
   ],
   "source": [
    "nltk_main()"
   ]
  },
  {
   "cell_type": "code",
   "execution_count": 25,
   "metadata": {
    "collapsed": false,
    "scrolled": true
   },
   "outputs": [
    {
     "name": "stdout",
     "output_type": "stream",
     "text": [
      "[('BucketFeet', 'ORGANIZATION'), ('has', 'O'), ('a', 'O'), ('noble', 'O'), ('goal', 'O'), (':', 'O'), ('To', 'O'), ('connect', 'O'), ('people', 'O'), ('through', 'O'), ('art', 'O'), ('--', 'O'), ('or', 'O'), ('artsy', 'O'), ('shoes', 'O'), ('at', 'O'), ('least.Founders', 'O'), ('Raaja', 'PERSON'), ('Nemani', 'PERSON'), ('and', 'O'), ('Aaron', 'PERSON'), ('Firestein', 'PERSON'), ('met', 'O'), ('as', 'O'), ('volunteers', 'O'), ('at', 'O'), ('a', 'O'), ('slum', 'O'), ('outside', 'O'), ('of', 'O'), ('Buenos', 'LOCATION'), ('Aires', 'LOCATION'), ('in', 'O'), ('2008', 'O'), ('.', 'O'), ('Firestein', 'PERSON'), (',', 'O'), ('a', 'O'), ('recent', 'O'), ('graduate', 'O'), ('from', 'O'), ('the', 'O'), ('University', 'ORGANIZATION'), ('of', 'ORGANIZATION'), ('Oregon', 'ORGANIZATION'), (',', 'O'), ('was', 'O'), ('working', 'O'), ('as', 'O'), ('a', 'O'), ('photographer', 'O'), ('in', 'O'), ('Argentina', 'LOCATION'), ('.', 'O'), ('On', 'O'), ('the', 'O'), ('side', 'O'), (',', 'O'), ('he', 'O'), ('would', 'O'), ('decorate', 'O'), ('white', 'O'), ('Converse', 'O'), ('shoes', 'O'), ('with', 'O'), ('his', 'O'), ('own', 'O'), ('artwork', 'O'), ('and', 'O'), ('sell', 'O'), ('his', 'O'), ('wares', 'O'), ('on', 'O'), ('Facebook', 'ORGANIZATION'), ('.', 'O')]\n"
     ]
    }
   ],
   "source": [
    "stanford_main()"
   ]
  },
  {
   "cell_type": "code",
   "execution_count": 63,
   "metadata": {
    "collapsed": false
   },
   "outputs": [],
   "source": [
    "st_org = StanfordNERTagger('/opt/nltk_data/stanford/classifiers/english.all.3class.distsim.crf.ser.gz',\n",
    "                           '/opt/nltk_data/stanford/stanford-ner.jar', encoding='utf-8')\n",
    "st_misc = StanfordNERTagger('/opt/nltk_data/stanford/classifiers/english.muc.7class.distsim.crf.ser.gz',\n",
    "                            '/opt/nltk_data/stanford/stanford-ner.jar', encoding='utf-8')\n",
    "st_crap = StanfordNERTagger('/opt/nltk_data/stanford/classifiers/english.conll.4class.distsim.crf.ser.gz',\n",
    "                            '/opt/nltk_data/stanford/stanford-ner.jar', encoding='utf-8')  \n",
    "org_tagged = st_org.tag(token_text)\n",
    "misc_tagged = st_misc.tag(token_text)\n",
    "crap_tagged = st_crap.tag(token_text)"
   ]
  },
  {
   "cell_type": "code",
   "execution_count": 64,
   "metadata": {
    "collapsed": false
   },
   "outputs": [
    {
     "name": "stdout",
     "output_type": "stream",
     "text": [
      "[('BucketFeet', 'ORGANIZATION'), ('Raaja Nemani', 'PERSON'), ('Aaron Firestein', 'PERSON'), ('Buenos Aires', 'LOCATION'), ('2008', 'DATE'), ('Firestein', 'PERSON'), ('University of Oregon', 'ORGANIZATION'), ('Argentina', 'LOCATION'), ('Converse', 'ORGANIZATION'), ('Facebook', 'ORGANIZATION')]\n"
     ]
    }
   ],
   "source": [
    "tagged = []\n",
    "\n",
    "# Build List\n",
    "for tag_index, tag in enumerate(org_tagged):   \n",
    "    if tag[1] == 'O' and misc_tagged[tag_index][1] != 'O' :\n",
    "        temp = misc_tagged[tag_index]\n",
    "    elif tag[1] == 'O' and crap_tagged[tag_index][1] != 'O':\n",
    "        temp = crap_tagged[tag_index]\n",
    "    else:\n",
    "        temp = tag\n",
    "    \n",
    "    tagged.append(temp)\n",
    "tagged.append((None,\"O\"))\n",
    "#print(tagged)    \n",
    "# Concatenate Context and remove uneeded elements\n",
    "tagList = []\n",
    "tempTag = None\n",
    "for tag_index, tag in enumerate(tagged):   \n",
    "    if tag[1] != \"O\":\n",
    "        if tempTag is None:\n",
    "            tempTag = tag\n",
    "        elif tempTag[1] == tag[1]:\n",
    "            tempTag = (tempTag[0] + \" \"+ tag[0], tempTag[1])\n",
    "        else:\n",
    "            tagList.append(tempTag)\n",
    "            tempTag = tag\n",
    "    elif tempTag is not None:\n",
    "        tagList.append(tempTag)\n",
    "        tempTag = None\n",
    "print(tagList)"
   ]
  }
 ],
 "metadata": {
  "anaconda-cloud": {},
  "kernelspec": {
   "display_name": "Python [conda root]",
   "language": "python",
   "name": "conda-root-py"
  },
  "language_info": {
   "codemirror_mode": {
    "name": "ipython",
    "version": 3
   },
   "file_extension": ".py",
   "mimetype": "text/x-python",
   "name": "python",
   "nbconvert_exporter": "python",
   "pygments_lexer": "ipython3",
   "version": "3.5.2"
  }
 },
 "nbformat": 4,
 "nbformat_minor": 1
}
