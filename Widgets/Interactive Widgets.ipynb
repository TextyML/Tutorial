{
 "cells": [
  {
   "cell_type": "markdown",
   "metadata": {},
   "source": [
    "https://nbviewer.jupyter.org/github/quantopian/ipython/blob/master/examples/Interactive%20Widgets/Index.ipynb"
   ]
  },
  {
   "cell_type": "code",
   "execution_count": 15,
   "metadata": {
    "collapsed": true
   },
   "outputs": [],
   "source": [
    "from ipywidgets import widgets, interact, interactive, fixed\n",
    "from IPython.display import display\n"
   ]
  },
  {
   "cell_type": "markdown",
   "metadata": {},
   "source": [
    "Text und Button"
   ]
  },
  {
   "cell_type": "code",
   "execution_count": 18,
   "metadata": {
    "collapsed": false
   },
   "outputs": [],
   "source": [
    "text = widgets.Text()\n",
    "text.value = \"Hallo\"\n",
    "button = widgets.Button(description=\"Print Value\")\n",
    "display(text)\n",
    "display(button)\n",
    "\n",
    "def click(b):\n",
    "    print(text.value)\n",
    "button.on_click(click)"
   ]
  },
  {
   "cell_type": "markdown",
   "metadata": {},
   "source": [
    "Dynamic Interaction"
   ]
  },
  {
   "cell_type": "code",
   "execution_count": 22,
   "metadata": {
    "collapsed": false,
    "scrolled": true
   },
   "outputs": [
    {
     "name": "stdout",
     "output_type": "stream",
     "text": [
      "3\n"
     ]
    }
   ],
   "source": [
    "def p(x):\n",
    "    print(x)\n",
    "    \n",
    "interact(p, x=True)\n",
    "interact(p, x=[2,4])"
   ]
  },
  {
   "cell_type": "code",
   "execution_count": 36,
   "metadata": {
    "collapsed": true
   },
   "outputs": [],
   "source": [
    "#Widgets\n",
    "checkboxes2 = []\n",
    "nameFruits = widgets.Text()\n",
    "selectedFruits = widgets.Label()\n",
    "basket = widgets.HBox()\n",
    "btnFeast = widgets.Button(description=\"Print Feast\")\n",
    "\n",
    "#Functions\n",
    "def addFruit(sender):\n",
    "    checkboxes2.append(widgets.Checkbox(description = nameFruits.value, value=False, width=90))\n",
    "    basket.children=[i for i in checkboxes2]\n",
    "\n",
    "def printFeast(sender):\n",
    "    feast = \"\"\n",
    "    for cb in checkboxes2:\n",
    "        if cb.value :\n",
    "            feast += cb.description+ \" \"\n",
    "    selectedFruits.value = feast\n",
    "\n",
    "#Eventlistener\n",
    "nameFruits.on_submit(addFruit)    \n",
    "btnFeast.on_click(printFeast)\n",
    "\n",
    "#Display\n",
    "display(widgets.Label(value=\"Input a new Fruit into the basket\"))\n",
    "display(nameFruits)\n",
    "display(widgets.Label(value=\"Select Fruit you want to eat\"))\n",
    "display(basket)\n",
    "display(widgets.Label(value=\"You choose to eat:\"))\n",
    "display(selectedFruits)\n",
    "display(btnFeast)"
   ]
  },
  {
   "cell_type": "markdown",
   "metadata": {},
   "source": [
    "Fucked up example that can ping websites and compare the results. Only Advanced users !!!"
   ]
  },
  {
   "cell_type": "code",
   "execution_count": 25,
   "metadata": {
    "collapsed": false
   },
   "outputs": [
    {
     "data": {
      "application/javascript": [
       "/* Put everything inside the global mpl namespace */\n",
       "window.mpl = {};\n",
       "\n",
       "mpl.get_websocket_type = function() {\n",
       "    if (typeof(WebSocket) !== 'undefined') {\n",
       "        return WebSocket;\n",
       "    } else if (typeof(MozWebSocket) !== 'undefined') {\n",
       "        return MozWebSocket;\n",
       "    } else {\n",
       "        alert('Your browser does not have WebSocket support.' +\n",
       "              'Please try Chrome, Safari or Firefox ≥ 6. ' +\n",
       "              'Firefox 4 and 5 are also supported but you ' +\n",
       "              'have to enable WebSockets in about:config.');\n",
       "    };\n",
       "}\n",
       "\n",
       "mpl.figure = function(figure_id, websocket, ondownload, parent_element) {\n",
       "    this.id = figure_id;\n",
       "\n",
       "    this.ws = websocket;\n",
       "\n",
       "    this.supports_binary = (this.ws.binaryType != undefined);\n",
       "\n",
       "    if (!this.supports_binary) {\n",
       "        var warnings = document.getElementById(\"mpl-warnings\");\n",
       "        if (warnings) {\n",
       "            warnings.style.display = 'block';\n",
       "            warnings.textContent = (\n",
       "                \"This browser does not support binary websocket messages. \" +\n",
       "                    \"Performance may be slow.\");\n",
       "        }\n",
       "    }\n",
       "\n",
       "    this.imageObj = new Image();\n",
       "\n",
       "    this.context = undefined;\n",
       "    this.message = undefined;\n",
       "    this.canvas = undefined;\n",
       "    this.rubberband_canvas = undefined;\n",
       "    this.rubberband_context = undefined;\n",
       "    this.format_dropdown = undefined;\n",
       "\n",
       "    this.image_mode = 'full';\n",
       "\n",
       "    this.root = $('<div/>');\n",
       "    this._root_extra_style(this.root)\n",
       "    this.root.attr('style', 'display: inline-block');\n",
       "\n",
       "    $(parent_element).append(this.root);\n",
       "\n",
       "    this._init_header(this);\n",
       "    this._init_canvas(this);\n",
       "    this._init_toolbar(this);\n",
       "\n",
       "    var fig = this;\n",
       "\n",
       "    this.waiting = false;\n",
       "\n",
       "    this.ws.onopen =  function () {\n",
       "            fig.send_message(\"supports_binary\", {value: fig.supports_binary});\n",
       "            fig.send_message(\"send_image_mode\", {});\n",
       "            fig.send_message(\"refresh\", {});\n",
       "        }\n",
       "\n",
       "    this.imageObj.onload = function() {\n",
       "            if (fig.image_mode == 'full') {\n",
       "                // Full images could contain transparency (where diff images\n",
       "                // almost always do), so we need to clear the canvas so that\n",
       "                // there is no ghosting.\n",
       "                fig.context.clearRect(0, 0, fig.canvas.width, fig.canvas.height);\n",
       "            }\n",
       "            fig.context.drawImage(fig.imageObj, 0, 0);\n",
       "        };\n",
       "\n",
       "    this.imageObj.onunload = function() {\n",
       "        this.ws.close();\n",
       "    }\n",
       "\n",
       "    this.ws.onmessage = this._make_on_message_function(this);\n",
       "\n",
       "    this.ondownload = ondownload;\n",
       "}\n",
       "\n",
       "mpl.figure.prototype._init_header = function() {\n",
       "    var titlebar = $(\n",
       "        '<div class=\"ui-dialog-titlebar ui-widget-header ui-corner-all ' +\n",
       "        'ui-helper-clearfix\"/>');\n",
       "    var titletext = $(\n",
       "        '<div class=\"ui-dialog-title\" style=\"width: 100%; ' +\n",
       "        'text-align: center; padding: 3px;\"/>');\n",
       "    titlebar.append(titletext)\n",
       "    this.root.append(titlebar);\n",
       "    this.header = titletext[0];\n",
       "}\n",
       "\n",
       "\n",
       "\n",
       "mpl.figure.prototype._canvas_extra_style = function(canvas_div) {\n",
       "\n",
       "}\n",
       "\n",
       "\n",
       "mpl.figure.prototype._root_extra_style = function(canvas_div) {\n",
       "\n",
       "}\n",
       "\n",
       "mpl.figure.prototype._init_canvas = function() {\n",
       "    var fig = this;\n",
       "\n",
       "    var canvas_div = $('<div/>');\n",
       "\n",
       "    canvas_div.attr('style', 'position: relative; clear: both; outline: 0');\n",
       "\n",
       "    function canvas_keyboard_event(event) {\n",
       "        return fig.key_event(event, event['data']);\n",
       "    }\n",
       "\n",
       "    canvas_div.keydown('key_press', canvas_keyboard_event);\n",
       "    canvas_div.keyup('key_release', canvas_keyboard_event);\n",
       "    this.canvas_div = canvas_div\n",
       "    this._canvas_extra_style(canvas_div)\n",
       "    this.root.append(canvas_div);\n",
       "\n",
       "    var canvas = $('<canvas/>');\n",
       "    canvas.addClass('mpl-canvas');\n",
       "    canvas.attr('style', \"left: 0; top: 0; z-index: 0; outline: 0\")\n",
       "\n",
       "    this.canvas = canvas[0];\n",
       "    this.context = canvas[0].getContext(\"2d\");\n",
       "\n",
       "    var rubberband = $('<canvas/>');\n",
       "    rubberband.attr('style', \"position: absolute; left: 0; top: 0; z-index: 1;\")\n",
       "\n",
       "    var pass_mouse_events = true;\n",
       "\n",
       "    canvas_div.resizable({\n",
       "        start: function(event, ui) {\n",
       "            pass_mouse_events = false;\n",
       "        },\n",
       "        resize: function(event, ui) {\n",
       "            fig.request_resize(ui.size.width, ui.size.height);\n",
       "        },\n",
       "        stop: function(event, ui) {\n",
       "            pass_mouse_events = true;\n",
       "            fig.request_resize(ui.size.width, ui.size.height);\n",
       "        },\n",
       "    });\n",
       "\n",
       "    function mouse_event_fn(event) {\n",
       "        if (pass_mouse_events)\n",
       "            return fig.mouse_event(event, event['data']);\n",
       "    }\n",
       "\n",
       "    rubberband.mousedown('button_press', mouse_event_fn);\n",
       "    rubberband.mouseup('button_release', mouse_event_fn);\n",
       "    // Throttle sequential mouse events to 1 every 20ms.\n",
       "    rubberband.mousemove('motion_notify', mouse_event_fn);\n",
       "\n",
       "    rubberband.mouseenter('figure_enter', mouse_event_fn);\n",
       "    rubberband.mouseleave('figure_leave', mouse_event_fn);\n",
       "\n",
       "    canvas_div.on(\"wheel\", function (event) {\n",
       "        event = event.originalEvent;\n",
       "        event['data'] = 'scroll'\n",
       "        if (event.deltaY < 0) {\n",
       "            event.step = 1;\n",
       "        } else {\n",
       "            event.step = -1;\n",
       "        }\n",
       "        mouse_event_fn(event);\n",
       "    });\n",
       "\n",
       "    canvas_div.append(canvas);\n",
       "    canvas_div.append(rubberband);\n",
       "\n",
       "    this.rubberband = rubberband;\n",
       "    this.rubberband_canvas = rubberband[0];\n",
       "    this.rubberband_context = rubberband[0].getContext(\"2d\");\n",
       "    this.rubberband_context.strokeStyle = \"#000000\";\n",
       "\n",
       "    this._resize_canvas = function(width, height) {\n",
       "        // Keep the size of the canvas, canvas container, and rubber band\n",
       "        // canvas in synch.\n",
       "        canvas_div.css('width', width)\n",
       "        canvas_div.css('height', height)\n",
       "\n",
       "        canvas.attr('width', width);\n",
       "        canvas.attr('height', height);\n",
       "\n",
       "        rubberband.attr('width', width);\n",
       "        rubberband.attr('height', height);\n",
       "    }\n",
       "\n",
       "    // Set the figure to an initial 600x600px, this will subsequently be updated\n",
       "    // upon first draw.\n",
       "    this._resize_canvas(600, 600);\n",
       "\n",
       "    // Disable right mouse context menu.\n",
       "    $(this.rubberband_canvas).bind(\"contextmenu\",function(e){\n",
       "        return false;\n",
       "    });\n",
       "\n",
       "    function set_focus () {\n",
       "        canvas.focus();\n",
       "        canvas_div.focus();\n",
       "    }\n",
       "\n",
       "    window.setTimeout(set_focus, 100);\n",
       "}\n",
       "\n",
       "mpl.figure.prototype._init_toolbar = function() {\n",
       "    var fig = this;\n",
       "\n",
       "    var nav_element = $('<div/>')\n",
       "    nav_element.attr('style', 'width: 100%');\n",
       "    this.root.append(nav_element);\n",
       "\n",
       "    // Define a callback function for later on.\n",
       "    function toolbar_event(event) {\n",
       "        return fig.toolbar_button_onclick(event['data']);\n",
       "    }\n",
       "    function toolbar_mouse_event(event) {\n",
       "        return fig.toolbar_button_onmouseover(event['data']);\n",
       "    }\n",
       "\n",
       "    for(var toolbar_ind in mpl.toolbar_items) {\n",
       "        var name = mpl.toolbar_items[toolbar_ind][0];\n",
       "        var tooltip = mpl.toolbar_items[toolbar_ind][1];\n",
       "        var image = mpl.toolbar_items[toolbar_ind][2];\n",
       "        var method_name = mpl.toolbar_items[toolbar_ind][3];\n",
       "\n",
       "        if (!name) {\n",
       "            // put a spacer in here.\n",
       "            continue;\n",
       "        }\n",
       "        var button = $('<button/>');\n",
       "        button.addClass('ui-button ui-widget ui-state-default ui-corner-all ' +\n",
       "                        'ui-button-icon-only');\n",
       "        button.attr('role', 'button');\n",
       "        button.attr('aria-disabled', 'false');\n",
       "        button.click(method_name, toolbar_event);\n",
       "        button.mouseover(tooltip, toolbar_mouse_event);\n",
       "\n",
       "        var icon_img = $('<span/>');\n",
       "        icon_img.addClass('ui-button-icon-primary ui-icon');\n",
       "        icon_img.addClass(image);\n",
       "        icon_img.addClass('ui-corner-all');\n",
       "\n",
       "        var tooltip_span = $('<span/>');\n",
       "        tooltip_span.addClass('ui-button-text');\n",
       "        tooltip_span.html(tooltip);\n",
       "\n",
       "        button.append(icon_img);\n",
       "        button.append(tooltip_span);\n",
       "\n",
       "        nav_element.append(button);\n",
       "    }\n",
       "\n",
       "    var fmt_picker_span = $('<span/>');\n",
       "\n",
       "    var fmt_picker = $('<select/>');\n",
       "    fmt_picker.addClass('mpl-toolbar-option ui-widget ui-widget-content');\n",
       "    fmt_picker_span.append(fmt_picker);\n",
       "    nav_element.append(fmt_picker_span);\n",
       "    this.format_dropdown = fmt_picker[0];\n",
       "\n",
       "    for (var ind in mpl.extensions) {\n",
       "        var fmt = mpl.extensions[ind];\n",
       "        var option = $(\n",
       "            '<option/>', {selected: fmt === mpl.default_extension}).html(fmt);\n",
       "        fmt_picker.append(option)\n",
       "    }\n",
       "\n",
       "    // Add hover states to the ui-buttons\n",
       "    $( \".ui-button\" ).hover(\n",
       "        function() { $(this).addClass(\"ui-state-hover\");},\n",
       "        function() { $(this).removeClass(\"ui-state-hover\");}\n",
       "    );\n",
       "\n",
       "    var status_bar = $('<span class=\"mpl-message\"/>');\n",
       "    nav_element.append(status_bar);\n",
       "    this.message = status_bar[0];\n",
       "}\n",
       "\n",
       "mpl.figure.prototype.request_resize = function(x_pixels, y_pixels) {\n",
       "    // Request matplotlib to resize the figure. Matplotlib will then trigger a resize in the client,\n",
       "    // which will in turn request a refresh of the image.\n",
       "    this.send_message('resize', {'width': x_pixels, 'height': y_pixels});\n",
       "}\n",
       "\n",
       "mpl.figure.prototype.send_message = function(type, properties) {\n",
       "    properties['type'] = type;\n",
       "    properties['figure_id'] = this.id;\n",
       "    this.ws.send(JSON.stringify(properties));\n",
       "}\n",
       "\n",
       "mpl.figure.prototype.send_draw_message = function() {\n",
       "    if (!this.waiting) {\n",
       "        this.waiting = true;\n",
       "        this.ws.send(JSON.stringify({type: \"draw\", figure_id: this.id}));\n",
       "    }\n",
       "}\n",
       "\n",
       "\n",
       "mpl.figure.prototype.handle_save = function(fig, msg) {\n",
       "    var format_dropdown = fig.format_dropdown;\n",
       "    var format = format_dropdown.options[format_dropdown.selectedIndex].value;\n",
       "    fig.ondownload(fig, format);\n",
       "}\n",
       "\n",
       "\n",
       "mpl.figure.prototype.handle_resize = function(fig, msg) {\n",
       "    var size = msg['size'];\n",
       "    if (size[0] != fig.canvas.width || size[1] != fig.canvas.height) {\n",
       "        fig._resize_canvas(size[0], size[1]);\n",
       "        fig.send_message(\"refresh\", {});\n",
       "    };\n",
       "}\n",
       "\n",
       "mpl.figure.prototype.handle_rubberband = function(fig, msg) {\n",
       "    var x0 = msg['x0'];\n",
       "    var y0 = fig.canvas.height - msg['y0'];\n",
       "    var x1 = msg['x1'];\n",
       "    var y1 = fig.canvas.height - msg['y1'];\n",
       "    x0 = Math.floor(x0) + 0.5;\n",
       "    y0 = Math.floor(y0) + 0.5;\n",
       "    x1 = Math.floor(x1) + 0.5;\n",
       "    y1 = Math.floor(y1) + 0.5;\n",
       "    var min_x = Math.min(x0, x1);\n",
       "    var min_y = Math.min(y0, y1);\n",
       "    var width = Math.abs(x1 - x0);\n",
       "    var height = Math.abs(y1 - y0);\n",
       "\n",
       "    fig.rubberband_context.clearRect(\n",
       "        0, 0, fig.canvas.width, fig.canvas.height);\n",
       "\n",
       "    fig.rubberband_context.strokeRect(min_x, min_y, width, height);\n",
       "}\n",
       "\n",
       "mpl.figure.prototype.handle_figure_label = function(fig, msg) {\n",
       "    // Updates the figure title.\n",
       "    fig.header.textContent = msg['label'];\n",
       "}\n",
       "\n",
       "mpl.figure.prototype.handle_cursor = function(fig, msg) {\n",
       "    var cursor = msg['cursor'];\n",
       "    switch(cursor)\n",
       "    {\n",
       "    case 0:\n",
       "        cursor = 'pointer';\n",
       "        break;\n",
       "    case 1:\n",
       "        cursor = 'default';\n",
       "        break;\n",
       "    case 2:\n",
       "        cursor = 'crosshair';\n",
       "        break;\n",
       "    case 3:\n",
       "        cursor = 'move';\n",
       "        break;\n",
       "    }\n",
       "    fig.rubberband_canvas.style.cursor = cursor;\n",
       "}\n",
       "\n",
       "mpl.figure.prototype.handle_message = function(fig, msg) {\n",
       "    fig.message.textContent = msg['message'];\n",
       "}\n",
       "\n",
       "mpl.figure.prototype.handle_draw = function(fig, msg) {\n",
       "    // Request the server to send over a new figure.\n",
       "    fig.send_draw_message();\n",
       "}\n",
       "\n",
       "mpl.figure.prototype.handle_image_mode = function(fig, msg) {\n",
       "    fig.image_mode = msg['mode'];\n",
       "}\n",
       "\n",
       "mpl.figure.prototype.updated_canvas_event = function() {\n",
       "    // Called whenever the canvas gets updated.\n",
       "    this.send_message(\"ack\", {});\n",
       "}\n",
       "\n",
       "// A function to construct a web socket function for onmessage handling.\n",
       "// Called in the figure constructor.\n",
       "mpl.figure.prototype._make_on_message_function = function(fig) {\n",
       "    return function socket_on_message(evt) {\n",
       "        if (evt.data instanceof Blob) {\n",
       "            /* FIXME: We get \"Resource interpreted as Image but\n",
       "             * transferred with MIME type text/plain:\" errors on\n",
       "             * Chrome.  But how to set the MIME type?  It doesn't seem\n",
       "             * to be part of the websocket stream */\n",
       "            evt.data.type = \"image/png\";\n",
       "\n",
       "            /* Free the memory for the previous frames */\n",
       "            if (fig.imageObj.src) {\n",
       "                (window.URL || window.webkitURL).revokeObjectURL(\n",
       "                    fig.imageObj.src);\n",
       "            }\n",
       "\n",
       "            fig.imageObj.src = (window.URL || window.webkitURL).createObjectURL(\n",
       "                evt.data);\n",
       "            fig.updated_canvas_event();\n",
       "            fig.waiting = false;\n",
       "            return;\n",
       "        }\n",
       "        else if (typeof evt.data === 'string' && evt.data.slice(0, 21) == \"data:image/png;base64\") {\n",
       "            fig.imageObj.src = evt.data;\n",
       "            fig.updated_canvas_event();\n",
       "            fig.waiting = false;\n",
       "            return;\n",
       "        }\n",
       "\n",
       "        var msg = JSON.parse(evt.data);\n",
       "        var msg_type = msg['type'];\n",
       "\n",
       "        // Call the  \"handle_{type}\" callback, which takes\n",
       "        // the figure and JSON message as its only arguments.\n",
       "        try {\n",
       "            var callback = fig[\"handle_\" + msg_type];\n",
       "        } catch (e) {\n",
       "            console.log(\"No handler for the '\" + msg_type + \"' message type: \", msg);\n",
       "            return;\n",
       "        }\n",
       "\n",
       "        if (callback) {\n",
       "            try {\n",
       "                // console.log(\"Handling '\" + msg_type + \"' message: \", msg);\n",
       "                callback(fig, msg);\n",
       "            } catch (e) {\n",
       "                console.log(\"Exception inside the 'handler_\" + msg_type + \"' callback:\", e, e.stack, msg);\n",
       "            }\n",
       "        }\n",
       "    };\n",
       "}\n",
       "\n",
       "// from http://stackoverflow.com/questions/1114465/getting-mouse-location-in-canvas\n",
       "mpl.findpos = function(e) {\n",
       "    //this section is from http://www.quirksmode.org/js/events_properties.html\n",
       "    var targ;\n",
       "    if (!e)\n",
       "        e = window.event;\n",
       "    if (e.target)\n",
       "        targ = e.target;\n",
       "    else if (e.srcElement)\n",
       "        targ = e.srcElement;\n",
       "    if (targ.nodeType == 3) // defeat Safari bug\n",
       "        targ = targ.parentNode;\n",
       "\n",
       "    // jQuery normalizes the pageX and pageY\n",
       "    // pageX,Y are the mouse positions relative to the document\n",
       "    // offset() returns the position of the element relative to the document\n",
       "    var x = e.pageX - $(targ).offset().left;\n",
       "    var y = e.pageY - $(targ).offset().top;\n",
       "\n",
       "    return {\"x\": x, \"y\": y};\n",
       "};\n",
       "\n",
       "/*\n",
       " * return a copy of an object with only non-object keys\n",
       " * we need this to avoid circular references\n",
       " * http://stackoverflow.com/a/24161582/3208463\n",
       " */\n",
       "function simpleKeys (original) {\n",
       "  return Object.keys(original).reduce(function (obj, key) {\n",
       "    if (typeof original[key] !== 'object')\n",
       "        obj[key] = original[key]\n",
       "    return obj;\n",
       "  }, {});\n",
       "}\n",
       "\n",
       "mpl.figure.prototype.mouse_event = function(event, name) {\n",
       "    var canvas_pos = mpl.findpos(event)\n",
       "\n",
       "    if (name === 'button_press')\n",
       "    {\n",
       "        this.canvas.focus();\n",
       "        this.canvas_div.focus();\n",
       "    }\n",
       "\n",
       "    var x = canvas_pos.x;\n",
       "    var y = canvas_pos.y;\n",
       "\n",
       "    this.send_message(name, {x: x, y: y, button: event.button,\n",
       "                             step: event.step,\n",
       "                             guiEvent: simpleKeys(event)});\n",
       "\n",
       "    /* This prevents the web browser from automatically changing to\n",
       "     * the text insertion cursor when the button is pressed.  We want\n",
       "     * to control all of the cursor setting manually through the\n",
       "     * 'cursor' event from matplotlib */\n",
       "    event.preventDefault();\n",
       "    return false;\n",
       "}\n",
       "\n",
       "mpl.figure.prototype._key_event_extra = function(event, name) {\n",
       "    // Handle any extra behaviour associated with a key event\n",
       "}\n",
       "\n",
       "mpl.figure.prototype.key_event = function(event, name) {\n",
       "\n",
       "    // Prevent repeat events\n",
       "    if (name == 'key_press')\n",
       "    {\n",
       "        if (event.which === this._key)\n",
       "            return;\n",
       "        else\n",
       "            this._key = event.which;\n",
       "    }\n",
       "    if (name == 'key_release')\n",
       "        this._key = null;\n",
       "\n",
       "    var value = '';\n",
       "    if (event.ctrlKey && event.which != 17)\n",
       "        value += \"ctrl+\";\n",
       "    if (event.altKey && event.which != 18)\n",
       "        value += \"alt+\";\n",
       "    if (event.shiftKey && event.which != 16)\n",
       "        value += \"shift+\";\n",
       "\n",
       "    value += 'k';\n",
       "    value += event.which.toString();\n",
       "\n",
       "    this._key_event_extra(event, name);\n",
       "\n",
       "    this.send_message(name, {key: value,\n",
       "                             guiEvent: simpleKeys(event)});\n",
       "    return false;\n",
       "}\n",
       "\n",
       "mpl.figure.prototype.toolbar_button_onclick = function(name) {\n",
       "    if (name == 'download') {\n",
       "        this.handle_save(this, null);\n",
       "    } else {\n",
       "        this.send_message(\"toolbar_button\", {name: name});\n",
       "    }\n",
       "};\n",
       "\n",
       "mpl.figure.prototype.toolbar_button_onmouseover = function(tooltip) {\n",
       "    this.message.textContent = tooltip;\n",
       "};\n",
       "mpl.toolbar_items = [[\"Home\", \"Reset original view\", \"fa fa-home icon-home\", \"home\"], [\"Back\", \"Back to  previous view\", \"fa fa-arrow-left icon-arrow-left\", \"back\"], [\"Forward\", \"Forward to next view\", \"fa fa-arrow-right icon-arrow-right\", \"forward\"], [\"\", \"\", \"\", \"\"], [\"Pan\", \"Pan axes with left mouse, zoom with right\", \"fa fa-arrows icon-move\", \"pan\"], [\"Zoom\", \"Zoom to rectangle\", \"fa fa-square-o icon-check-empty\", \"zoom\"], [\"\", \"\", \"\", \"\"], [\"Download\", \"Download plot\", \"fa fa-floppy-o icon-save\", \"download\"]];\n",
       "\n",
       "mpl.extensions = [\"eps\", \"jpeg\", \"pdf\", \"png\", \"ps\", \"raw\", \"svg\", \"tif\"];\n",
       "\n",
       "mpl.default_extension = \"png\";var comm_websocket_adapter = function(comm) {\n",
       "    // Create a \"websocket\"-like object which calls the given IPython comm\n",
       "    // object with the appropriate methods. Currently this is a non binary\n",
       "    // socket, so there is still some room for performance tuning.\n",
       "    var ws = {};\n",
       "\n",
       "    ws.close = function() {\n",
       "        comm.close()\n",
       "    };\n",
       "    ws.send = function(m) {\n",
       "        //console.log('sending', m);\n",
       "        comm.send(m);\n",
       "    };\n",
       "    // Register the callback with on_msg.\n",
       "    comm.on_msg(function(msg) {\n",
       "        //console.log('receiving', msg['content']['data'], msg);\n",
       "        // Pass the mpl event to the overriden (by mpl) onmessage function.\n",
       "        ws.onmessage(msg['content']['data'])\n",
       "    });\n",
       "    return ws;\n",
       "}\n",
       "\n",
       "mpl.mpl_figure_comm = function(comm, msg) {\n",
       "    // This is the function which gets called when the mpl process\n",
       "    // starts-up an IPython Comm through the \"matplotlib\" channel.\n",
       "\n",
       "    var id = msg.content.data.id;\n",
       "    // Get hold of the div created by the display call when the Comm\n",
       "    // socket was opened in Python.\n",
       "    var element = $(\"#\" + id);\n",
       "    var ws_proxy = comm_websocket_adapter(comm)\n",
       "\n",
       "    function ondownload(figure, format) {\n",
       "        window.open(figure.imageObj.src);\n",
       "    }\n",
       "\n",
       "    var fig = new mpl.figure(id, ws_proxy,\n",
       "                           ondownload,\n",
       "                           element.get(0));\n",
       "\n",
       "    // Call onopen now - mpl needs it, as it is assuming we've passed it a real\n",
       "    // web socket which is closed, not our websocket->open comm proxy.\n",
       "    ws_proxy.onopen();\n",
       "\n",
       "    fig.parent_element = element.get(0);\n",
       "    fig.cell_info = mpl.find_output_cell(\"<div id='\" + id + \"'></div>\");\n",
       "    if (!fig.cell_info) {\n",
       "        console.error(\"Failed to find cell for figure\", id, fig);\n",
       "        return;\n",
       "    }\n",
       "\n",
       "    var output_index = fig.cell_info[2]\n",
       "    var cell = fig.cell_info[0];\n",
       "\n",
       "};\n",
       "\n",
       "mpl.figure.prototype.handle_close = function(fig, msg) {\n",
       "    fig.root.unbind('remove')\n",
       "\n",
       "    // Update the output cell to use the data from the current canvas.\n",
       "    fig.push_to_output();\n",
       "    var dataURL = fig.canvas.toDataURL();\n",
       "    // Re-enable the keyboard manager in IPython - without this line, in FF,\n",
       "    // the notebook keyboard shortcuts fail.\n",
       "    IPython.keyboard_manager.enable()\n",
       "    $(fig.parent_element).html('<img src=\"' + dataURL + '\">');\n",
       "    fig.close_ws(fig, msg);\n",
       "}\n",
       "\n",
       "mpl.figure.prototype.close_ws = function(fig, msg){\n",
       "    fig.send_message('closing', msg);\n",
       "    // fig.ws.close()\n",
       "}\n",
       "\n",
       "mpl.figure.prototype.push_to_output = function(remove_interactive) {\n",
       "    // Turn the data on the canvas into data in the output cell.\n",
       "    var dataURL = this.canvas.toDataURL();\n",
       "    this.cell_info[1]['text/html'] = '<img src=\"' + dataURL + '\">';\n",
       "}\n",
       "\n",
       "mpl.figure.prototype.updated_canvas_event = function() {\n",
       "    // Tell IPython that the notebook contents must change.\n",
       "    IPython.notebook.set_dirty(true);\n",
       "    this.send_message(\"ack\", {});\n",
       "    var fig = this;\n",
       "    // Wait a second, then push the new image to the DOM so\n",
       "    // that it is saved nicely (might be nice to debounce this).\n",
       "    setTimeout(function () { fig.push_to_output() }, 1000);\n",
       "}\n",
       "\n",
       "mpl.figure.prototype._init_toolbar = function() {\n",
       "    var fig = this;\n",
       "\n",
       "    var nav_element = $('<div/>')\n",
       "    nav_element.attr('style', 'width: 100%');\n",
       "    this.root.append(nav_element);\n",
       "\n",
       "    // Define a callback function for later on.\n",
       "    function toolbar_event(event) {\n",
       "        return fig.toolbar_button_onclick(event['data']);\n",
       "    }\n",
       "    function toolbar_mouse_event(event) {\n",
       "        return fig.toolbar_button_onmouseover(event['data']);\n",
       "    }\n",
       "\n",
       "    for(var toolbar_ind in mpl.toolbar_items){\n",
       "        var name = mpl.toolbar_items[toolbar_ind][0];\n",
       "        var tooltip = mpl.toolbar_items[toolbar_ind][1];\n",
       "        var image = mpl.toolbar_items[toolbar_ind][2];\n",
       "        var method_name = mpl.toolbar_items[toolbar_ind][3];\n",
       "\n",
       "        if (!name) { continue; };\n",
       "\n",
       "        var button = $('<button class=\"btn btn-default\" href=\"#\" title=\"' + name + '\"><i class=\"fa ' + image + ' fa-lg\"></i></button>');\n",
       "        button.click(method_name, toolbar_event);\n",
       "        button.mouseover(tooltip, toolbar_mouse_event);\n",
       "        nav_element.append(button);\n",
       "    }\n",
       "\n",
       "    // Add the status bar.\n",
       "    var status_bar = $('<span class=\"mpl-message\" style=\"text-align:right; float: right;\"/>');\n",
       "    nav_element.append(status_bar);\n",
       "    this.message = status_bar[0];\n",
       "\n",
       "    // Add the close button to the window.\n",
       "    var buttongrp = $('<div class=\"btn-group inline pull-right\"></div>');\n",
       "    var button = $('<button class=\"btn btn-mini btn-primary\" href=\"#\" title=\"Stop Interaction\"><i class=\"fa fa-power-off icon-remove icon-large\"></i></button>');\n",
       "    button.click(function (evt) { fig.handle_close(fig, {}); } );\n",
       "    button.mouseover('Stop Interaction', toolbar_mouse_event);\n",
       "    buttongrp.append(button);\n",
       "    var titlebar = this.root.find($('.ui-dialog-titlebar'));\n",
       "    titlebar.prepend(buttongrp);\n",
       "}\n",
       "\n",
       "mpl.figure.prototype._root_extra_style = function(el){\n",
       "    var fig = this\n",
       "    el.on(\"remove\", function(){\n",
       "\tfig.close_ws(fig, {});\n",
       "    });\n",
       "}\n",
       "\n",
       "mpl.figure.prototype._canvas_extra_style = function(el){\n",
       "    // this is important to make the div 'focusable\n",
       "    el.attr('tabindex', 0)\n",
       "    // reach out to IPython and tell the keyboard manager to turn it's self\n",
       "    // off when our div gets focus\n",
       "\n",
       "    // location in version 3\n",
       "    if (IPython.notebook.keyboard_manager) {\n",
       "        IPython.notebook.keyboard_manager.register_events(el);\n",
       "    }\n",
       "    else {\n",
       "        // location in version 2\n",
       "        IPython.keyboard_manager.register_events(el);\n",
       "    }\n",
       "\n",
       "}\n",
       "\n",
       "mpl.figure.prototype._key_event_extra = function(event, name) {\n",
       "    var manager = IPython.notebook.keyboard_manager;\n",
       "    if (!manager)\n",
       "        manager = IPython.keyboard_manager;\n",
       "\n",
       "    // Check for shift+enter\n",
       "    if (event.shiftKey && event.which == 13) {\n",
       "        this.canvas_div.blur();\n",
       "        // select the cell after this one\n",
       "        var index = IPython.notebook.find_cell_index(this.cell_info[0]);\n",
       "        IPython.notebook.select(index + 1);\n",
       "    }\n",
       "}\n",
       "\n",
       "mpl.figure.prototype.handle_save = function(fig, msg) {\n",
       "    fig.ondownload(fig, null);\n",
       "}\n",
       "\n",
       "\n",
       "mpl.find_output_cell = function(html_output) {\n",
       "    // Return the cell and output element which can be found *uniquely* in the notebook.\n",
       "    // Note - this is a bit hacky, but it is done because the \"notebook_saving.Notebook\"\n",
       "    // IPython event is triggered only after the cells have been serialised, which for\n",
       "    // our purposes (turning an active figure into a static one), is too late.\n",
       "    var cells = IPython.notebook.get_cells();\n",
       "    var ncells = cells.length;\n",
       "    for (var i=0; i<ncells; i++) {\n",
       "        var cell = cells[i];\n",
       "        if (cell.cell_type === 'code'){\n",
       "            for (var j=0; j<cell.output_area.outputs.length; j++) {\n",
       "                var data = cell.output_area.outputs[j];\n",
       "                if (data.data) {\n",
       "                    // IPython >= 3 moved mimebundle to data attribute of output\n",
       "                    data = data.data;\n",
       "                }\n",
       "                if (data['text/html'] == html_output) {\n",
       "                    return [cell, data, j];\n",
       "                }\n",
       "            }\n",
       "        }\n",
       "    }\n",
       "}\n",
       "\n",
       "// Register the function which deals with the matplotlib target/channel.\n",
       "// The kernel may be null if the page has been refreshed.\n",
       "if (IPython.notebook.kernel != null) {\n",
       "    IPython.notebook.kernel.comm_manager.register_target('matplotlib', mpl.mpl_figure_comm);\n",
       "}\n"
      ],
      "text/plain": [
       "<IPython.core.display.Javascript object>"
      ]
     },
     "metadata": {},
     "output_type": "display_data"
    },
    {
     "data": {
      "text/html": [
       "<img src=\"data:image/png;base64,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\">"
      ],
      "text/plain": [
       "<IPython.core.display.HTML object>"
      ]
     },
     "metadata": {},
     "output_type": "display_data"
    }
   ],
   "source": [
    "%matplotlib notebook\n",
    "import pandas as pd\n",
    "import matplotlib.pyplot as plt\n",
    "from ipywidgets import *\n",
    "from IPython.display import display\n",
    "from ipywidgets import widgets\n",
    "plt.style.use('ggplot')\n",
    "\n",
    "NUMBER_OF_PINGS = 4\n",
    "\n",
    "# displaying the text widget\n",
    "text = widgets.Text(description=\"Domain to ping\", width=200)\n",
    "display(text)\n",
    "\n",
    "# preparing the plot \n",
    "data = pd.DataFrame()\n",
    "x = range(1,NUMBER_OF_PINGS+1)\n",
    "plots = dict()\n",
    "fig, ax = plt.subplots()\n",
    "plt.xlabel('iterations')\n",
    "plt.ylabel('ms')\n",
    "plt.xticks(x)\n",
    "plt.show()\n",
    "\n",
    "# preparing a container to put in created checkbox per domain\n",
    "checkboxes = []\n",
    "cb_container = widgets.HBox()\n",
    "display(cb_container)\n",
    "\n",
    "# add button that updates the graph based on the checkboxes\n",
    "button = widgets.Button(description=\"Update the graph\")\n",
    "\n",
    "# function to deal with the added domain name\n",
    "def handle_submit(sender):\n",
    "    # a part of the magic inside python : pinging\n",
    "    res = !ping -c {NUMBER_OF_PINGS} {text.value}\n",
    "    hits = res.grep('64 bytes').fields(-2).s.replace(\"time=\",\"\").split()\n",
    "    if len(hits) == 0:\n",
    "        print(\"Domain gave error on pinging\")\n",
    "    else:\n",
    "         # rebuild plot based on ping result\n",
    "        data[text.value] = hits\n",
    "        data[text.value] = data[text.value].astype(float)\n",
    "        plots[text.value], = ax.plot(x, data[text.value], label=text.value)\n",
    "        plt.legend()\n",
    "        plt.draw()\n",
    "        # add a new checkbox for the new domain\n",
    "        checkboxes.append(widgets.Checkbox(description = text.value, value=True, width=90))\n",
    "        cb_container.children=[i for i in checkboxes]\n",
    "        if len(checkboxes) == 1:\n",
    "            display(button)\n",
    "\n",
    "# function to deal with the checkbox update button       \n",
    "def on_button_clicked(b):\n",
    "    for c in cb_container.children:\n",
    "        if not c.value:\n",
    "            plots[c.description].set_visible(False)\n",
    "        else:\n",
    "            plots[c.description].set_visible(True)\n",
    "    plt.legend()\n",
    "    plt.draw()\n",
    "\n",
    "button.on_click(on_button_clicked)\n",
    "text.on_submit(handle_submit)\n",
    "plt.show()"
   ]
  }
 ],
 "metadata": {
  "anaconda-cloud": {},
  "kernelspec": {
   "display_name": "Python [conda root]",
   "language": "python",
   "name": "conda-root-py"
  },
  "language_info": {
   "codemirror_mode": {
    "name": "ipython",
    "version": 3
   },
   "file_extension": ".py",
   "mimetype": "text/x-python",
   "name": "python",
   "nbconvert_exporter": "python",
   "pygments_lexer": "ipython3",
   "version": "3.5.2"
  },
  "widgets": {
   "state": {
    "0c5b8a12ece04013ae104962c835aee2": {
     "views": [
      {
       "cell_index": 2
      }
     ]
    },
    "15c0503264514237a83fd32b4ce2d376": {
     "views": [
      {
       "cell_index": 5
      }
     ]
    },
    "25a120bbc2f4427aa15bb38a3b20b2af": {
     "views": [
      {
       "cell_index": 2
      }
     ]
    },
    "2f2a2bfe988f4d5ab373859b0e7eafff": {
     "views": [
      {
       "cell_index": 6
      }
     ]
    },
    "2f2c151fb9294dd3bbd7668bb53b7bb9": {
     "views": [
      {
       "cell_index": 4
      }
     ]
    },
    "2feaf1d75a564f2c9eb0e4017187aeb9": {
     "views": [
      {
       "cell_index": 2
      }
     ]
    },
    "3236e3ee0e8841d7bb69072ca2a1e0a7": {
     "views": [
      {
       "cell_index": 6
      }
     ]
    },
    "3514bac13a7c4db1b2097fae6c5beef8": {
     "views": [
      {
       "cell_index": 6
      }
     ]
    },
    "3859bf274cad43a599ad3ef2cb3947cc": {
     "views": [
      {
       "cell_index": 2
      }
     ]
    },
    "3ce326608c674c5fb5a5e133e7069960": {
     "views": [
      {
       "cell_index": 2
      }
     ]
    },
    "3eb5ee2c7d994172a1df1f90cce1d762": {
     "views": [
      {
       "cell_index": 5
      }
     ]
    },
    "434a7ba6833e4b88bbabff425d8f96b8": {
     "views": [
      {
       "cell_index": 5
      }
     ]
    },
    "560ce6e9de0c4a0bb1cf120a51b8aef7": {
     "views": [
      {
       "cell_index": 5
      }
     ]
    },
    "60a5d971c4654d1596c0a7d419bae421": {
     "views": [
      {
       "cell_index": 6
      }
     ]
    },
    "612fce8b11064023ba540ca0bc429c61": {
     "views": [
      {
       "cell_index": 5
      }
     ]
    },
    "61aed1bf47c4446785f212b529e8c170": {
     "views": [
      {
       "cell_index": 6
      }
     ]
    },
    "6c8106c0a15c47ec9f1041b376794ed0": {
     "views": [
      {
       "cell_index": 5
      }
     ]
    },
    "71c4c5a9c6e742d08d3533d383f7c72e": {
     "views": [
      {
       "cell_index": 5
      }
     ]
    },
    "75c356ee9aef44d9907676eb9852949b": {
     "views": [
      {
       "cell_index": 6
      }
     ]
    },
    "7d8d7e7ff3314ec49fb18fe23ea84060": {
     "views": [
      {
       "cell_index": 6
      }
     ]
    },
    "7ed912563c574f7c96c5d900ad53365f": {
     "views": [
      {
       "cell_index": 2
      }
     ]
    },
    "7ef427e993e146feabe488270a719c71": {
     "views": [
      {
       "cell_index": 5
      }
     ]
    },
    "8450752e77464907ab891d85dfb2e8ec": {
     "views": [
      {
       "cell_index": 5
      }
     ]
    },
    "86c3d472490646bb817ccfe8c812efbd": {
     "views": [
      {
       "cell_index": 2
      }
     ]
    },
    "8a4ebee36a5442158247fcc8c0f7c73a": {
     "views": [
      {
       "cell_index": 2
      }
     ]
    },
    "8e9072fe82f04812917e10f9e93c2b4e": {
     "views": [
      {
       "cell_index": 2
      }
     ]
    },
    "9cdb6659c3ec48bb99a7f2640e246320": {
     "views": [
      {
       "cell_index": 5
      }
     ]
    },
    "b035685a6dc5498a97712cf075962569": {
     "views": [
      {
       "cell_index": 5
      }
     ]
    },
    "b2108721e8a044a1b10c468888f09091": {
     "views": [
      {
       "cell_index": 6
      }
     ]
    },
    "b7d8053b38db4aac9d9f55f247d7c61f": {
     "views": [
      {
       "cell_index": 6
      }
     ]
    },
    "db91963035374b0ab49e64904575d80f": {
     "views": [
      {
       "cell_index": 5
      }
     ]
    },
    "dbc50ae1663e488b945d46b38788ba7c": {
     "views": [
      {
       "cell_index": 4
      }
     ]
    },
    "dca153de43f94d13a1da16e2ff0820c4": {
     "views": [
      {
       "cell_index": 6
      }
     ]
    },
    "dd1d807d1d0e45fd8d7d933230072761": {
     "views": [
      {
       "cell_index": 2
      }
     ]
    },
    "e9b5b73d10354d7982a18727a90232b9": {
     "views": [
      {
       "cell_index": 5
      }
     ]
    },
    "ec0abbbd19ac4c238ea62f6cea3ad0df": {
     "views": [
      {
       "cell_index": 2
      }
     ]
    },
    "ef683c8fa21f4e8abd6d245b90b0524d": {
     "views": [
      {
       "cell_index": 5
      }
     ]
    },
    "f1a6580b43a8494e93bccdfac09e5bf6": {
     "views": [
      {
       "cell_index": 2
      }
     ]
    },
    "f71992a0694845869729c3b6bb860f6f": {
     "views": [
      {
       "cell_index": 5
      }
     ]
    }
   },
   "version": "1.2.0"
  }
 },
 "nbformat": 4,
 "nbformat_minor": 1
}
