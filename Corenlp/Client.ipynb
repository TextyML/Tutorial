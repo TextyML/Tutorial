{
 "cells": [
  {
   "cell_type": "markdown",
   "metadata": {
    "deletable": true,
    "editable": true
   },
   "source": [
    "Access Docker Gateway : 172.17.0.1\n",
    "\n",
    "https://stanfordnlp.github.io/CoreNLP/annotators.html\n",
    "\n",
    "https://github.com/stanfordnlp/stanza"
   ]
  },
  {
   "cell_type": "code",
   "execution_count": 12,
   "metadata": {
    "collapsed": true,
    "deletable": true,
    "editable": true
   },
   "outputs": [],
   "source": [
    "from pycorenlp import StanfordCoreNLP\n",
    "nlp = StanfordCoreNLP('http://172.17.0.1:9000')"
   ]
  },
  {
   "cell_type": "code",
   "execution_count": 13,
   "metadata": {
    "collapsed": false,
    "deletable": true,
    "editable": true
   },
   "outputs": [],
   "source": [
    "text = (\n",
    "  'Trump lives in New York at 8 o\\'clock')\n",
    "output = nlp.annotate(text, properties={\n",
    "  'annotators': 'ner',\n",
    "  'outputFormat': 'json'\n",
    "  })"
   ]
  },
  {
   "cell_type": "code",
   "execution_count": 14,
   "metadata": {
    "collapsed": false,
    "deletable": true,
    "editable": true
   },
   "outputs": [
    {
     "name": "stdout",
     "output_type": "stream",
     "text": [
      "[{'tokens': [{'word': 'Trump', 'originalText': 'Trump', 'characterOffsetBegin': 0, 'lemma': 'Trump', 'pos': 'NNP', 'ner': 'PERSON', 'characterOffsetEnd': 5, 'after': ' ', 'before': '', 'index': 1}, {'word': 'lives', 'originalText': 'lives', 'characterOffsetBegin': 6, 'lemma': 'live', 'pos': 'VBZ', 'ner': 'O', 'characterOffsetEnd': 11, 'after': ' ', 'before': ' ', 'index': 2}, {'word': 'in', 'originalText': 'in', 'characterOffsetBegin': 12, 'lemma': 'in', 'pos': 'IN', 'ner': 'O', 'characterOffsetEnd': 14, 'after': ' ', 'before': ' ', 'index': 3}, {'word': 'New', 'originalText': 'New', 'characterOffsetBegin': 15, 'lemma': 'New', 'pos': 'NNP', 'ner': 'LOCATION', 'characterOffsetEnd': 18, 'after': ' ', 'before': ' ', 'index': 4}, {'word': 'York', 'originalText': 'York', 'characterOffsetBegin': 19, 'lemma': 'York', 'pos': 'NNP', 'ner': 'LOCATION', 'characterOffsetEnd': 23, 'after': ' ', 'before': ' ', 'index': 5}, {'word': 'at', 'originalText': 'at', 'characterOffsetBegin': 24, 'lemma': 'at', 'pos': 'IN', 'ner': 'O', 'characterOffsetEnd': 26, 'after': ' ', 'before': ' ', 'index': 6}, {'word': '8', 'characterOffsetBegin': 27, 'lemma': '8', 'timex': {'tid': 't1', 'type': 'TIME', 'value': 'T08:00'}, 'ner': 'TIME', 'after': ' ', 'before': ' ', 'originalText': '8', 'normalizedNER': 'T08:00', 'pos': 'CD', 'characterOffsetEnd': 28, 'index': 7}, {'word': \"o'clock\", 'characterOffsetBegin': 29, 'lemma': \"o'clock\", 'timex': {'tid': 't1', 'type': 'TIME', 'value': 'T08:00'}, 'ner': 'TIME', 'after': '', 'before': ' ', 'originalText': \"o'clock\", 'normalizedNER': 'T08:00', 'pos': 'RB', 'characterOffsetEnd': 36, 'index': 8}], 'index': 0}]\n"
     ]
    }
   ],
   "source": [
    "print(output['sentences'])"
   ]
  },
  {
   "cell_type": "code",
   "execution_count": 15,
   "metadata": {
    "collapsed": true,
    "deletable": true,
    "editable": true
   },
   "outputs": [],
   "source": [
    "import json"
   ]
  },
  {
   "cell_type": "code",
   "execution_count": 17,
   "metadata": {
    "collapsed": false,
    "deletable": true,
    "editable": true
   },
   "outputs": [],
   "source": [
    "data = output['sentences'][0]['tokens']"
   ]
  },
  {
   "cell_type": "code",
   "execution_count": 19,
   "metadata": {
    "collapsed": false,
    "deletable": true,
    "editable": true
   },
   "outputs": [
    {
     "name": "stdout",
     "output_type": "stream",
     "text": [
      "[['PERSON', 'Trump'], ['O', 'lives'], ['O', 'in'], ['LOCATION', 'New'], ['LOCATION', 'York'], ['O', 'at'], ['TIME', '8'], ['TIME', \"o'clock\"]]\n"
     ]
    }
   ],
   "source": [
    "output = []\n",
    "for word in data:\n",
    "    output.append([word['ner'],word['word']])\n",
    "print(output)"
   ]
  },
  {
   "cell_type": "code",
   "execution_count": 36,
   "metadata": {
    "collapsed": false,
    "deletable": true,
    "editable": true
   },
   "outputs": [],
   "source": [
    "text = (\n",
    "  'Trump lives in New York at 8 o\\'clock. Donald Trump likes music. Hillary doesn\\'t like him.')\n",
    "ref_output = nlp.annotate(text, properties={\n",
    "  'annotators': 'mention',\n",
    "  'outputFormat': 'json'\n",
    "  })"
   ]
  },
  {
   "cell_type": "code",
   "execution_count": 38,
   "metadata": {
    "collapsed": false,
    "deletable": true,
    "editable": true
   },
   "outputs": [
    {
     "name": "stdout",
     "output_type": "stream",
     "text": [
      "[{'enhancedPlusPlusDependencies': [{'dep': 'ROOT', 'dependent': 2, 'dependentGloss': 'lives', 'governorGloss': 'ROOT', 'governor': 0}, {'dep': 'nsubj', 'dependent': 1, 'dependentGloss': 'Trump', 'governorGloss': 'lives', 'governor': 2}, {'dep': 'case', 'dependent': 3, 'dependentGloss': 'in', 'governorGloss': 'York', 'governor': 5}, {'dep': 'compound', 'dependent': 4, 'dependentGloss': 'New', 'governorGloss': 'York', 'governor': 5}, {'dep': 'nmod:in', 'dependent': 5, 'dependentGloss': 'York', 'governorGloss': 'lives', 'governor': 2}, {'dep': 'case', 'dependent': 6, 'dependentGloss': 'at', 'governorGloss': \"o'clock\", 'governor': 8}, {'dep': 'nummod', 'dependent': 7, 'dependentGloss': '8', 'governorGloss': \"o'clock\", 'governor': 8}, {'dep': 'nmod:at', 'dependent': 8, 'dependentGloss': \"o'clock\", 'governorGloss': 'lives', 'governor': 2}, {'dep': 'punct', 'dependent': 9, 'dependentGloss': '.', 'governorGloss': 'lives', 'governor': 2}], 'basicDependencies': [{'dep': 'ROOT', 'dependent': 2, 'dependentGloss': 'lives', 'governorGloss': 'ROOT', 'governor': 0}, {'dep': 'nsubj', 'dependent': 1, 'dependentGloss': 'Trump', 'governorGloss': 'lives', 'governor': 2}, {'dep': 'case', 'dependent': 3, 'dependentGloss': 'in', 'governorGloss': 'York', 'governor': 5}, {'dep': 'compound', 'dependent': 4, 'dependentGloss': 'New', 'governorGloss': 'York', 'governor': 5}, {'dep': 'nmod', 'dependent': 5, 'dependentGloss': 'York', 'governorGloss': 'lives', 'governor': 2}, {'dep': 'case', 'dependent': 6, 'dependentGloss': 'at', 'governorGloss': \"o'clock\", 'governor': 8}, {'dep': 'nummod', 'dependent': 7, 'dependentGloss': '8', 'governorGloss': \"o'clock\", 'governor': 8}, {'dep': 'nmod', 'dependent': 8, 'dependentGloss': \"o'clock\", 'governorGloss': 'lives', 'governor': 2}, {'dep': 'punct', 'dependent': 9, 'dependentGloss': '.', 'governorGloss': 'lives', 'governor': 2}], 'tokens': [{'characterOffsetEnd': 5, 'ner': 'PERSON', 'word': 'Trump', 'pos': 'NNP', 'lemma': 'Trump', 'characterOffsetBegin': 0, 'before': '', 'originalText': 'Trump', 'index': 1, 'after': ' '}, {'characterOffsetEnd': 11, 'ner': 'O', 'word': 'lives', 'pos': 'VBZ', 'lemma': 'live', 'characterOffsetBegin': 6, 'before': ' ', 'originalText': 'lives', 'index': 2, 'after': ' '}, {'characterOffsetEnd': 14, 'ner': 'O', 'word': 'in', 'pos': 'IN', 'lemma': 'in', 'characterOffsetBegin': 12, 'before': ' ', 'originalText': 'in', 'index': 3, 'after': ' '}, {'characterOffsetEnd': 18, 'ner': 'LOCATION', 'word': 'New', 'pos': 'NNP', 'lemma': 'New', 'characterOffsetBegin': 15, 'before': ' ', 'originalText': 'New', 'index': 4, 'after': ' '}, {'characterOffsetEnd': 23, 'ner': 'LOCATION', 'word': 'York', 'pos': 'NNP', 'lemma': 'York', 'characterOffsetBegin': 19, 'before': ' ', 'originalText': 'York', 'index': 5, 'after': ' '}, {'characterOffsetEnd': 26, 'ner': 'O', 'word': 'at', 'pos': 'IN', 'lemma': 'at', 'characterOffsetBegin': 24, 'before': ' ', 'originalText': 'at', 'index': 6, 'after': ' '}, {'characterOffsetEnd': 28, 'pos': 'CD', 'lemma': '8', 'before': ' ', 'originalText': '8', 'index': 7, 'after': ' ', 'ner': 'TIME', 'word': '8', 'characterOffsetBegin': 27, 'normalizedNER': 'T08:00', 'timex': {'tid': 't1', 'value': 'T08:00', 'type': 'TIME'}}, {'characterOffsetEnd': 36, 'pos': 'RB', 'lemma': \"o'clock\", 'before': ' ', 'originalText': \"o'clock\", 'index': 8, 'after': '', 'ner': 'TIME', 'word': \"o'clock\", 'characterOffsetBegin': 29, 'normalizedNER': 'T08:00', 'timex': {'tid': 't1', 'value': 'T08:00', 'type': 'TIME'}}, {'characterOffsetEnd': 37, 'ner': 'O', 'word': '.', 'pos': '.', 'lemma': '.', 'characterOffsetBegin': 36, 'before': '', 'originalText': '.', 'index': 9, 'after': ' '}], 'index': 0, 'enhancedDependencies': [{'dep': 'ROOT', 'dependent': 2, 'dependentGloss': 'lives', 'governorGloss': 'ROOT', 'governor': 0}, {'dep': 'nsubj', 'dependent': 1, 'dependentGloss': 'Trump', 'governorGloss': 'lives', 'governor': 2}, {'dep': 'case', 'dependent': 3, 'dependentGloss': 'in', 'governorGloss': 'York', 'governor': 5}, {'dep': 'compound', 'dependent': 4, 'dependentGloss': 'New', 'governorGloss': 'York', 'governor': 5}, {'dep': 'nmod:in', 'dependent': 5, 'dependentGloss': 'York', 'governorGloss': 'lives', 'governor': 2}, {'dep': 'case', 'dependent': 6, 'dependentGloss': 'at', 'governorGloss': \"o'clock\", 'governor': 8}, {'dep': 'nummod', 'dependent': 7, 'dependentGloss': '8', 'governorGloss': \"o'clock\", 'governor': 8}, {'dep': 'nmod:at', 'dependent': 8, 'dependentGloss': \"o'clock\", 'governorGloss': 'lives', 'governor': 2}, {'dep': 'punct', 'dependent': 9, 'dependentGloss': '.', 'governorGloss': 'lives', 'governor': 2}]}, {'enhancedPlusPlusDependencies': [{'dep': 'ROOT', 'dependent': 3, 'dependentGloss': 'likes', 'governorGloss': 'ROOT', 'governor': 0}, {'dep': 'compound', 'dependent': 1, 'dependentGloss': 'Donald', 'governorGloss': 'Trump', 'governor': 2}, {'dep': 'nsubj', 'dependent': 2, 'dependentGloss': 'Trump', 'governorGloss': 'likes', 'governor': 3}, {'dep': 'dobj', 'dependent': 4, 'dependentGloss': 'music', 'governorGloss': 'likes', 'governor': 3}, {'dep': 'punct', 'dependent': 5, 'dependentGloss': '.', 'governorGloss': 'likes', 'governor': 3}], 'basicDependencies': [{'dep': 'ROOT', 'dependent': 3, 'dependentGloss': 'likes', 'governorGloss': 'ROOT', 'governor': 0}, {'dep': 'compound', 'dependent': 1, 'dependentGloss': 'Donald', 'governorGloss': 'Trump', 'governor': 2}, {'dep': 'nsubj', 'dependent': 2, 'dependentGloss': 'Trump', 'governorGloss': 'likes', 'governor': 3}, {'dep': 'dobj', 'dependent': 4, 'dependentGloss': 'music', 'governorGloss': 'likes', 'governor': 3}, {'dep': 'punct', 'dependent': 5, 'dependentGloss': '.', 'governorGloss': 'likes', 'governor': 3}], 'tokens': [{'characterOffsetEnd': 44, 'ner': 'PERSON', 'word': 'Donald', 'pos': 'NNP', 'lemma': 'Donald', 'characterOffsetBegin': 38, 'before': ' ', 'originalText': 'Donald', 'index': 1, 'after': ' '}, {'characterOffsetEnd': 50, 'ner': 'PERSON', 'word': 'Trump', 'pos': 'NNP', 'lemma': 'Trump', 'characterOffsetBegin': 45, 'before': ' ', 'originalText': 'Trump', 'index': 2, 'after': ' '}, {'characterOffsetEnd': 56, 'ner': 'O', 'word': 'likes', 'pos': 'VBZ', 'lemma': 'like', 'characterOffsetBegin': 51, 'before': ' ', 'originalText': 'likes', 'index': 3, 'after': ' '}, {'characterOffsetEnd': 62, 'ner': 'O', 'word': 'music', 'pos': 'NN', 'lemma': 'music', 'characterOffsetBegin': 57, 'before': ' ', 'originalText': 'music', 'index': 4, 'after': ''}, {'characterOffsetEnd': 63, 'ner': 'O', 'word': '.', 'pos': '.', 'lemma': '.', 'characterOffsetBegin': 62, 'before': '', 'originalText': '.', 'index': 5, 'after': ' '}], 'index': 1, 'enhancedDependencies': [{'dep': 'ROOT', 'dependent': 3, 'dependentGloss': 'likes', 'governorGloss': 'ROOT', 'governor': 0}, {'dep': 'compound', 'dependent': 1, 'dependentGloss': 'Donald', 'governorGloss': 'Trump', 'governor': 2}, {'dep': 'nsubj', 'dependent': 2, 'dependentGloss': 'Trump', 'governorGloss': 'likes', 'governor': 3}, {'dep': 'dobj', 'dependent': 4, 'dependentGloss': 'music', 'governorGloss': 'likes', 'governor': 3}, {'dep': 'punct', 'dependent': 5, 'dependentGloss': '.', 'governorGloss': 'likes', 'governor': 3}]}, {'enhancedPlusPlusDependencies': [{'dep': 'ROOT', 'dependent': 4, 'dependentGloss': 'like', 'governorGloss': 'ROOT', 'governor': 0}, {'dep': 'nsubj', 'dependent': 1, 'dependentGloss': 'Hillary', 'governorGloss': 'like', 'governor': 4}, {'dep': 'aux', 'dependent': 2, 'dependentGloss': 'does', 'governorGloss': 'like', 'governor': 4}, {'dep': 'neg', 'dependent': 3, 'dependentGloss': \"n't\", 'governorGloss': 'like', 'governor': 4}, {'dep': 'dobj', 'dependent': 5, 'dependentGloss': 'him', 'governorGloss': 'like', 'governor': 4}, {'dep': 'punct', 'dependent': 6, 'dependentGloss': '.', 'governorGloss': 'like', 'governor': 4}], 'basicDependencies': [{'dep': 'ROOT', 'dependent': 4, 'dependentGloss': 'like', 'governorGloss': 'ROOT', 'governor': 0}, {'dep': 'nsubj', 'dependent': 1, 'dependentGloss': 'Hillary', 'governorGloss': 'like', 'governor': 4}, {'dep': 'aux', 'dependent': 2, 'dependentGloss': 'does', 'governorGloss': 'like', 'governor': 4}, {'dep': 'neg', 'dependent': 3, 'dependentGloss': \"n't\", 'governorGloss': 'like', 'governor': 4}, {'dep': 'dobj', 'dependent': 5, 'dependentGloss': 'him', 'governorGloss': 'like', 'governor': 4}, {'dep': 'punct', 'dependent': 6, 'dependentGloss': '.', 'governorGloss': 'like', 'governor': 4}], 'tokens': [{'characterOffsetEnd': 71, 'ner': 'PERSON', 'word': 'Hillary', 'pos': 'NNP', 'lemma': 'Hillary', 'characterOffsetBegin': 64, 'before': ' ', 'originalText': 'Hillary', 'index': 1, 'after': ' '}, {'characterOffsetEnd': 76, 'ner': 'O', 'word': 'does', 'pos': 'VBZ', 'lemma': 'do', 'characterOffsetBegin': 72, 'before': ' ', 'originalText': 'does', 'index': 2, 'after': ''}, {'characterOffsetEnd': 79, 'ner': 'O', 'word': \"n't\", 'pos': 'RB', 'lemma': 'not', 'characterOffsetBegin': 76, 'before': '', 'originalText': \"n't\", 'index': 3, 'after': ' '}, {'characterOffsetEnd': 84, 'ner': 'O', 'word': 'like', 'pos': 'VB', 'lemma': 'like', 'characterOffsetBegin': 80, 'before': ' ', 'originalText': 'like', 'index': 4, 'after': ' '}, {'characterOffsetEnd': 88, 'ner': 'O', 'word': 'him', 'pos': 'PRP', 'lemma': 'he', 'characterOffsetBegin': 85, 'before': ' ', 'originalText': 'him', 'index': 5, 'after': ''}, {'characterOffsetEnd': 89, 'ner': 'O', 'word': '.', 'pos': '.', 'lemma': '.', 'characterOffsetBegin': 88, 'before': '', 'originalText': '.', 'index': 6, 'after': ''}], 'index': 2, 'enhancedDependencies': [{'dep': 'ROOT', 'dependent': 4, 'dependentGloss': 'like', 'governorGloss': 'ROOT', 'governor': 0}, {'dep': 'nsubj', 'dependent': 1, 'dependentGloss': 'Hillary', 'governorGloss': 'like', 'governor': 4}, {'dep': 'aux', 'dependent': 2, 'dependentGloss': 'does', 'governorGloss': 'like', 'governor': 4}, {'dep': 'neg', 'dependent': 3, 'dependentGloss': \"n't\", 'governorGloss': 'like', 'governor': 4}, {'dep': 'dobj', 'dependent': 5, 'dependentGloss': 'him', 'governorGloss': 'like', 'governor': 4}, {'dep': 'punct', 'dependent': 6, 'dependentGloss': '.', 'governorGloss': 'like', 'governor': 4}]}]\n"
     ]
    }
   ],
   "source": [
    "print(ref_output['sentences'])"
   ]
  },
  {
   "cell_type": "code",
   "execution_count": 7,
   "metadata": {
    "collapsed": false,
    "deletable": true,
    "editable": true
   },
   "outputs": [],
   "source": [
    "from stanza.nlp.corenlp import CoreNLPClient\n",
    "client = CoreNLPClient(server='http://172.17.0.1:9000', default_annotators=['tokenize,ssplit,pos,lemma,ner,parse,mention,coref'])\n",
    "annotated = client.annotate('Trump lives in New York at 8 o\\'clock. Donald Trump likes music. Hillary doesn\\'t like him.')"
   ]
  },
  {
   "cell_type": "code",
   "execution_count": 10,
   "metadata": {
    "collapsed": false,
    "deletable": true,
    "editable": true
   },
   "outputs": [
    {
     "name": "stdout",
     "output_type": "stream",
     "text": [
      "[[Entity: Trump], [Entity: New York], [Entity: 8 o'clock], [Entity: Donald Trump], [Entity: Hillary], [Entity: him]]\n",
      "[{'representative': 1, 'mention': [{'mentionType': 'PROPER', 'animacy': 'ANIMATE', 'beginIndex': 0, 'mentionID': 0, 'position': 1, 'endIndex': 1, 'number': 'SINGULAR', 'headIndex': 0, 'sentenceIndex': 0, 'gender': 'MALE'}, {'mentionType': 'PROPER', 'animacy': 'ANIMATE', 'beginIndex': 0, 'mentionID': 3, 'position': 1, 'endIndex': 2, 'number': 'SINGULAR', 'headIndex': 1, 'sentenceIndex': 1, 'gender': 'MALE'}, {'mentionType': 'PRONOMINAL', 'animacy': 'ANIMATE', 'beginIndex': 4, 'mentionID': 6, 'position': 2, 'endIndex': 5, 'number': 'SINGULAR', 'headIndex': 4, 'sentenceIndex': 2, 'gender': 'MALE'}], 'chainID': 6}]\n",
      "sentence Trump lives in New York at 8 o'clock.\n",
      "Trump Trump NNP PERSON\n",
      "lives live VBZ O\n",
      "in in IN O\n",
      "New New NNP LOCATION\n",
      "York York NNP LOCATION\n",
      "at at IN O\n",
      "8 8 CD TIME\n",
      "o'clock o'clock RB TIME\n",
      ". . . O\n",
      "sentence Donald Trump likes music.\n",
      "Donald Donald NNP PERSON\n",
      "Trump Trump NNP PERSON\n",
      "likes like VBZ O\n",
      "music music NN O\n",
      ". . . O\n",
      "sentence Hillary doesn't like him.\n",
      "Hillary Hillary NNP PERSON\n",
      "does do VBZ O\n",
      "n't not RB O\n",
      "like like VB O\n",
      "him he PRP O\n",
      ". . . O\n"
     ]
    }
   ],
   "source": [
    "print(annotated.mentions)\n",
    "print(annotated.to_json()['corefChain'])\n",
    "for sentence in annotated.sentences:\n",
    "    print('sentence', sentence)\n",
    "    for token in sentence:\n",
    "        print(token.word, token.lemma, token.pos, token.ner)"
   ]
  },
  {
   "cell_type": "code",
   "execution_count": 11,
   "metadata": {
    "collapsed": false,
    "deletable": true,
    "editable": true
   },
   "outputs": [
    {
     "name": "stdout",
     "output_type": "stream",
     "text": [
      "{'corefChain': [{'representative': 1, 'mention': [{'mentionType': 'PROPER', 'animacy': 'ANIMATE', 'beginIndex': 0, 'mentionID': 0, 'position': 1, 'endIndex': 1, 'number': 'SINGULAR', 'headIndex': 0, 'sentenceIndex': 0, 'gender': 'MALE'}, {'mentionType': 'PROPER', 'animacy': 'ANIMATE', 'beginIndex': 0, 'mentionID': 3, 'position': 1, 'endIndex': 2, 'number': 'SINGULAR', 'headIndex': 1, 'sentenceIndex': 1, 'gender': 'MALE'}, {'mentionType': 'PRONOMINAL', 'animacy': 'ANIMATE', 'beginIndex': 4, 'mentionID': 6, 'position': 2, 'endIndex': 5, 'number': 'SINGULAR', 'headIndex': 4, 'sentenceIndex': 2, 'gender': 'MALE'}], 'chainID': 6}], 'text': \"Trump lives in New York at 8 o'clock. Donald Trump likes music. Hillary doesn't like him.\", 'sentence': [{'tokenOffsetBegin': 0, 'characterOffsetBegin': 0, 'parseTree': {'child': [{'child': [{'child': [{'child': [{'value': 'Trump'}], 'score': -7.829644680023193, 'value': 'NNP'}], 'score': -10.479257583618164, 'value': 'NP'}, {'child': [{'child': [{'value': 'lives'}], 'score': -6.5135955810546875, 'value': 'VBZ'}, {'child': [{'child': [{'value': 'in'}], 'score': -1.5555275678634644, 'value': 'IN'}, {'child': [{'child': [{'child': [{'value': 'New'}], 'score': -4.394900321960449, 'value': 'NNP'}, {'child': [{'value': 'York'}], 'score': -4.614431858062744, 'value': 'NNP'}], 'score': -11.720961570739746, 'value': 'NP'}, {'child': [{'child': [{'value': 'at'}], 'score': -3.5076887607574463, 'value': 'IN'}, {'child': [{'child': [{'value': '8'}], 'score': -5.112991809844971, 'value': 'CD'}, {'child': [{'value': \"o'clock\"}], 'score': -7.729385852813721, 'value': 'RB'}], 'score': -20.737140655517578, 'value': 'NP'}], 'score': -24.64371681213379, 'value': 'PP'}], 'score': -36.90657043457031, 'value': 'NP'}], 'score': -40.128517150878906, 'value': 'PP'}], 'score': -51.676979064941406, 'value': 'VP'}, {'child': [{'value': '.'}], 'score': -0.003481106134131551, 'value': '.'}], 'score': -63.292205810546875, 'value': 'S'}], 'score': -63.44341278076172, 'value': 'ROOT'}, 'hasNumerizedTokensAnnotation': True, 'hasRelationAnnotations': False, 'characterOffsetEnd': 37, 'sentenceIndex': 0, 'mentionsForCoref': [{'headWord': {'sentenceNum': 4294967295, 'tokenIndex': 0}, 'sentenceWords': [{'sentenceNum': 4294967295, 'tokenIndex': 0}, {'sentenceNum': 4294967295, 'tokenIndex': 1}, {'sentenceNum': 4294967295, 'tokenIndex': 2}, {'sentenceNum': 4294967295, 'tokenIndex': 3}, {'sentenceNum': 4294967295, 'tokenIndex': 4}, {'sentenceNum': 4294967295, 'tokenIndex': 5}, {'sentenceNum': 4294967295, 'tokenIndex': 6}, {'sentenceNum': 4294967295, 'tokenIndex': 7}, {'sentenceNum': 4294967295, 'tokenIndex': 8}], 'goldCorefClusterID': -1, 'hasCollapsedDependency': True, 'person': 'UNKNOWN', 'headIndex': 0, 'mentionNum': 0, 'sentNum': 0, 'mentionType': 'PROPER', 'animacy': 'ANIMATE', 'dependingVerb': {'sentenceNum': 4294967295, 'copyCount': 0, 'tokenIndex': 1}, 'originalRef': 4294967295, 'startIndex': 0, 'mentionID': 0, 'isIndirectObject': False, 'paragraph': 1, 'corefClusterID': 6, 'headString': 'trump', 'headIndexedWord': {'sentenceNum': 4294967295, 'copyCount': 0, 'tokenIndex': 0}, 'isSubject': True, 'endIndex': 1, 'hasTwin': False, 'hasContextParseTree': True, 'utter': 0, 'nerString': 'PERSON', 'hasBasicDependency': True, 'isSingleton': False, 'isPrepositionObject': False, 'isDirectObject': False, 'number': 'SINGULAR', 'generic': False, 'originalSpan': [{'sentenceNum': 4294967295, 'tokenIndex': 0}], 'gender': 'MALE'}, {'headWord': {'sentenceNum': 4294967295, 'tokenIndex': 4}, 'sentenceWords': [{'sentenceNum': 4294967295, 'tokenIndex': 0}, {'sentenceNum': 4294967295, 'tokenIndex': 1}, {'sentenceNum': 4294967295, 'tokenIndex': 2}, {'sentenceNum': 4294967295, 'tokenIndex': 3}, {'sentenceNum': 4294967295, 'tokenIndex': 4}, {'sentenceNum': 4294967295, 'tokenIndex': 5}, {'sentenceNum': 4294967295, 'tokenIndex': 6}, {'sentenceNum': 4294967295, 'tokenIndex': 7}, {'sentenceNum': 4294967295, 'tokenIndex': 8}], 'goldCorefClusterID': -1, 'hasCollapsedDependency': True, 'person': 'UNKNOWN', 'headIndex': 4, 'mentionNum': 1, 'sentNum': 0, 'mentionType': 'PROPER', 'animacy': 'INANIMATE', 'dependingVerb': {'sentenceNum': 4294967295, 'copyCount': 0, 'tokenIndex': 1}, 'originalRef': 4294967295, 'startIndex': 3, 'mentionID': 1, 'isIndirectObject': False, 'paragraph': 1, 'corefClusterID': 1, 'headString': 'york', 'headIndexedWord': {'sentenceNum': 4294967295, 'copyCount': 0, 'tokenIndex': 4}, 'isSubject': False, 'endIndex': 5, 'hasTwin': False, 'hasContextParseTree': True, 'utter': 0, 'nerString': 'LOCATION', 'hasBasicDependency': True, 'isSingleton': False, 'isPrepositionObject': True, 'isDirectObject': False, 'number': 'SINGULAR', 'generic': False, 'originalSpan': [{'sentenceNum': 4294967295, 'tokenIndex': 3}, {'sentenceNum': 4294967295, 'tokenIndex': 4}], 'gender': 'MALE'}, {'headWord': {'sentenceNum': 4294967295, 'tokenIndex': 6}, 'sentenceWords': [{'sentenceNum': 4294967295, 'tokenIndex': 0}, {'sentenceNum': 4294967295, 'tokenIndex': 1}, {'sentenceNum': 4294967295, 'tokenIndex': 2}, {'sentenceNum': 4294967295, 'tokenIndex': 3}, {'sentenceNum': 4294967295, 'tokenIndex': 4}, {'sentenceNum': 4294967295, 'tokenIndex': 5}, {'sentenceNum': 4294967295, 'tokenIndex': 6}, {'sentenceNum': 4294967295, 'tokenIndex': 7}, {'sentenceNum': 4294967295, 'tokenIndex': 8}], 'goldCorefClusterID': -1, 'hasCollapsedDependency': True, 'person': 'UNKNOWN', 'headIndex': 6, 'mentionNum': 2, 'sentNum': 0, 'mentionType': 'PROPER', 'animacy': 'INANIMATE', 'dependingVerb': {'sentenceNum': 4294967295, 'copyCount': 0, 'tokenIndex': 1}, 'originalRef': 4294967295, 'startIndex': 6, 'mentionID': 2, 'isIndirectObject': False, 'paragraph': 1, 'corefClusterID': 2, 'headString': '8', 'headIndexedWord': {'sentenceNum': 4294967295, 'copyCount': 0, 'tokenIndex': 6}, 'isSubject': False, 'endIndex': 8, 'hasTwin': False, 'hasContextParseTree': True, 'utter': 0, 'nerString': 'TIME', 'hasBasicDependency': True, 'isSingleton': False, 'isPrepositionObject': True, 'isDirectObject': False, 'number': 'SINGULAR', 'generic': False, 'originalSpan': [{'sentenceNum': 4294967295, 'tokenIndex': 6}, {'sentenceNum': 4294967295, 'tokenIndex': 7}], 'gender': 'UNKNOWN'}], 'paragraph': 1, 'tokenOffsetEnd': 9, 'hasCorefMentionsAnnotation': True, 'enhancedDependencies': {'root': [2], 'node': [{'sentenceIndex': 0, 'index': 1}, {'sentenceIndex': 0, 'index': 2}, {'sentenceIndex': 0, 'index': 3}, {'sentenceIndex': 0, 'index': 4}, {'sentenceIndex': 0, 'index': 5}, {'sentenceIndex': 0, 'index': 6}, {'sentenceIndex': 0, 'index': 7}, {'sentenceIndex': 0, 'index': 8}, {'sentenceIndex': 0, 'index': 9}], 'edge': [{'isExtra': False, 'target': 1, 'sourceCopy': 0, 'targetCopy': 0, 'language': 9, 'source': 2, 'dep': 'nsubj'}, {'isExtra': False, 'target': 5, 'sourceCopy': 0, 'targetCopy': 0, 'language': 9, 'source': 2, 'dep': 'nmod:in'}, {'isExtra': False, 'target': 9, 'sourceCopy': 0, 'targetCopy': 0, 'language': 9, 'source': 2, 'dep': 'punct'}, {'isExtra': False, 'target': 3, 'sourceCopy': 0, 'targetCopy': 0, 'language': 9, 'source': 5, 'dep': 'case'}, {'isExtra': False, 'target': 4, 'sourceCopy': 0, 'targetCopy': 0, 'language': 9, 'source': 5, 'dep': 'compound'}, {'isExtra': False, 'target': 7, 'sourceCopy': 0, 'targetCopy': 0, 'language': 9, 'source': 5, 'dep': 'nmod:at'}, {'isExtra': False, 'target': 6, 'sourceCopy': 0, 'targetCopy': 0, 'language': 9, 'source': 7, 'dep': 'case'}, {'isExtra': False, 'target': 8, 'sourceCopy': 0, 'targetCopy': 0, 'language': 9, 'source': 7, 'dep': 'advmod'}]}, 'token': [{'word': 'Trump', 'utterance': 0, 'lemma': 'Trump', 'speaker': 'PER0', 'ner': 'PERSON', 'corefClusterID': 6, 'before': '', 'pos': 'NNP', 'beginChar': 0, 'beginIndex': 0, 'hasXmlContext': False, 'tokenEndIndex': 1, 'endIndex': 1, 'endChar': 5, 'tokenBeginIndex': 0, 'after': ' ', 'value': 'Trump', 'originalText': 'Trump'}, {'word': 'lives', 'utterance': 0, 'lemma': 'live', 'speaker': 'PER0', 'ner': 'O', 'before': ' ', 'pos': 'VBZ', 'beginChar': 6, 'beginIndex': 1, 'hasXmlContext': False, 'tokenEndIndex': 2, 'endIndex': 2, 'endChar': 11, 'tokenBeginIndex': 1, 'after': ' ', 'value': 'lives', 'originalText': 'lives'}, {'word': 'in', 'utterance': 0, 'lemma': 'in', 'speaker': 'PER0', 'ner': 'O', 'before': ' ', 'pos': 'IN', 'beginChar': 12, 'beginIndex': 2, 'hasXmlContext': False, 'tokenEndIndex': 3, 'endIndex': 3, 'endChar': 14, 'tokenBeginIndex': 2, 'after': ' ', 'value': 'in', 'originalText': 'in'}, {'word': 'New', 'utterance': 0, 'lemma': 'New', 'speaker': 'PER0', 'ner': 'LOCATION', 'before': ' ', 'pos': 'NNP', 'beginChar': 15, 'beginIndex': 3, 'hasXmlContext': False, 'tokenEndIndex': 4, 'endIndex': 4, 'endChar': 18, 'tokenBeginIndex': 3, 'after': ' ', 'value': 'New', 'originalText': 'New'}, {'word': 'York', 'utterance': 0, 'lemma': 'York', 'speaker': 'PER0', 'ner': 'LOCATION', 'before': ' ', 'pos': 'NNP', 'beginChar': 19, 'beginIndex': 4, 'hasXmlContext': False, 'tokenEndIndex': 5, 'endIndex': 5, 'endChar': 23, 'tokenBeginIndex': 4, 'after': ' ', 'value': 'York', 'originalText': 'York'}, {'word': 'at', 'utterance': 0, 'lemma': 'at', 'speaker': 'PER0', 'ner': 'O', 'before': ' ', 'pos': 'IN', 'beginChar': 24, 'beginIndex': 5, 'hasXmlContext': False, 'tokenEndIndex': 6, 'endIndex': 6, 'endChar': 26, 'tokenBeginIndex': 5, 'after': ' ', 'value': 'at', 'originalText': 'at'}, {'word': '8', 'originalText': '8', 'normalizedNER': 'T08:00', 'speaker': 'PER0', 'utterance': 0, 'ner': 'TIME', 'before': ' ', 'pos': 'CD', 'beginChar': 27, 'beginIndex': 6, 'lemma': '8', 'hasXmlContext': False, 'tokenEndIndex': 7, 'endIndex': 7, 'endChar': 28, 'tokenBeginIndex': 6, 'after': ' ', 'value': '8', 'timexValue': {'text': \"8 o'clock\", 'tid': 't1', 'type': 'TIME', 'value': 'T08:00'}}, {'word': \"o'clock\", 'originalText': \"o'clock\", 'normalizedNER': 'T08:00', 'speaker': 'PER0', 'utterance': 0, 'ner': 'TIME', 'before': ' ', 'pos': 'RB', 'beginChar': 29, 'beginIndex': 7, 'lemma': \"o'clock\", 'hasXmlContext': False, 'tokenEndIndex': 8, 'endIndex': 8, 'endChar': 36, 'tokenBeginIndex': 7, 'after': '', 'value': \"o'clock\", 'timexValue': {'text': \"8 o'clock\", 'tid': 't1', 'type': 'TIME', 'value': 'T08:00'}}, {'word': '.', 'utterance': 0, 'lemma': '.', 'speaker': 'PER0', 'ner': 'O', 'before': '', 'pos': '.', 'beginChar': 36, 'beginIndex': 8, 'hasXmlContext': False, 'tokenEndIndex': 9, 'endIndex': 9, 'endChar': 37, 'tokenBeginIndex': 8, 'after': ' ', 'value': '.', 'originalText': '.'}], 'collapsedDependencies': {'root': [2], 'node': [{'sentenceIndex': 0, 'index': 1}, {'sentenceIndex': 0, 'index': 2}, {'sentenceIndex': 0, 'index': 3}, {'sentenceIndex': 0, 'index': 4}, {'sentenceIndex': 0, 'index': 5}, {'sentenceIndex': 0, 'index': 6}, {'sentenceIndex': 0, 'index': 7}, {'sentenceIndex': 0, 'index': 8}, {'sentenceIndex': 0, 'index': 9}], 'edge': [{'isExtra': False, 'target': 1, 'sourceCopy': 0, 'targetCopy': 0, 'language': 9, 'source': 2, 'dep': 'nsubj'}, {'isExtra': False, 'target': 5, 'sourceCopy': 0, 'targetCopy': 0, 'language': 9, 'source': 2, 'dep': 'nmod:in'}, {'isExtra': False, 'target': 9, 'sourceCopy': 0, 'targetCopy': 0, 'language': 9, 'source': 2, 'dep': 'punct'}, {'isExtra': False, 'target': 3, 'sourceCopy': 0, 'targetCopy': 0, 'language': 9, 'source': 5, 'dep': 'case'}, {'isExtra': False, 'target': 4, 'sourceCopy': 0, 'targetCopy': 0, 'language': 9, 'source': 5, 'dep': 'compound'}, {'isExtra': False, 'target': 7, 'sourceCopy': 0, 'targetCopy': 0, 'language': 9, 'source': 5, 'dep': 'nmod:at'}, {'isExtra': False, 'target': 6, 'sourceCopy': 0, 'targetCopy': 0, 'language': 9, 'source': 7, 'dep': 'case'}, {'isExtra': False, 'target': 8, 'sourceCopy': 0, 'targetCopy': 0, 'language': 9, 'source': 7, 'dep': 'advmod'}]}, 'binarizedParseTree': {'child': [{'child': [{'child': [{'child': [{'value': 'Trump'}], 'value': 'NNP'}], 'value': 'NP'}, {'child': [{'child': [{'child': [{'value': 'lives'}], 'value': 'VBZ'}, {'child': [{'child': [{'value': 'in'}], 'value': 'IN'}, {'child': [{'child': [{'child': [{'value': 'New'}], 'value': 'NNP'}, {'child': [{'value': 'York'}], 'value': 'NNP'}], 'value': 'NP'}, {'child': [{'child': [{'value': 'at'}], 'value': 'IN'}, {'child': [{'child': [{'value': '8'}], 'value': 'CD'}, {'child': [{'value': \"o'clock\"}], 'value': 'RB'}], 'value': 'NP'}], 'value': 'PP'}], 'value': 'NP'}], 'value': 'PP'}], 'value': 'VP'}, {'child': [{'value': '.'}], 'value': '.'}], 'value': '@S'}], 'value': 'S'}], 'value': 'ROOT'}, 'enhancedPlusPlusDependencies': {'root': [2], 'node': [{'sentenceIndex': 0, 'index': 1}, {'sentenceIndex': 0, 'index': 2}, {'sentenceIndex': 0, 'index': 3}, {'sentenceIndex': 0, 'index': 4}, {'sentenceIndex': 0, 'index': 5}, {'sentenceIndex': 0, 'index': 6}, {'sentenceIndex': 0, 'index': 7}, {'sentenceIndex': 0, 'index': 8}, {'sentenceIndex': 0, 'index': 9}], 'edge': [{'isExtra': False, 'target': 1, 'sourceCopy': 0, 'targetCopy': 0, 'language': 9, 'source': 2, 'dep': 'nsubj'}, {'isExtra': False, 'target': 5, 'sourceCopy': 0, 'targetCopy': 0, 'language': 9, 'source': 2, 'dep': 'nmod:in'}, {'isExtra': False, 'target': 9, 'sourceCopy': 0, 'targetCopy': 0, 'language': 9, 'source': 2, 'dep': 'punct'}, {'isExtra': False, 'target': 3, 'sourceCopy': 0, 'targetCopy': 0, 'language': 9, 'source': 5, 'dep': 'case'}, {'isExtra': False, 'target': 4, 'sourceCopy': 0, 'targetCopy': 0, 'language': 9, 'source': 5, 'dep': 'compound'}, {'isExtra': False, 'target': 7, 'sourceCopy': 0, 'targetCopy': 0, 'language': 9, 'source': 5, 'dep': 'nmod:at'}, {'isExtra': False, 'target': 6, 'sourceCopy': 0, 'targetCopy': 0, 'language': 9, 'source': 7, 'dep': 'case'}, {'isExtra': False, 'target': 8, 'sourceCopy': 0, 'targetCopy': 0, 'language': 9, 'source': 7, 'dep': 'advmod'}]}, 'collapsedCCProcessedDependencies': {'root': [2], 'node': [{'sentenceIndex': 0, 'index': 1}, {'sentenceIndex': 0, 'index': 2}, {'sentenceIndex': 0, 'index': 3}, {'sentenceIndex': 0, 'index': 4}, {'sentenceIndex': 0, 'index': 5}, {'sentenceIndex': 0, 'index': 6}, {'sentenceIndex': 0, 'index': 7}, {'sentenceIndex': 0, 'index': 8}, {'sentenceIndex': 0, 'index': 9}], 'edge': [{'isExtra': False, 'target': 1, 'sourceCopy': 0, 'targetCopy': 0, 'language': 9, 'source': 2, 'dep': 'nsubj'}, {'isExtra': False, 'target': 5, 'sourceCopy': 0, 'targetCopy': 0, 'language': 9, 'source': 2, 'dep': 'nmod:in'}, {'isExtra': False, 'target': 9, 'sourceCopy': 0, 'targetCopy': 0, 'language': 9, 'source': 2, 'dep': 'punct'}, {'isExtra': False, 'target': 3, 'sourceCopy': 0, 'targetCopy': 0, 'language': 9, 'source': 5, 'dep': 'case'}, {'isExtra': False, 'target': 4, 'sourceCopy': 0, 'targetCopy': 0, 'language': 9, 'source': 5, 'dep': 'compound'}, {'isExtra': False, 'target': 7, 'sourceCopy': 0, 'targetCopy': 0, 'language': 9, 'source': 5, 'dep': 'nmod:at'}, {'isExtra': False, 'target': 6, 'sourceCopy': 0, 'targetCopy': 0, 'language': 9, 'source': 7, 'dep': 'case'}, {'isExtra': False, 'target': 8, 'sourceCopy': 0, 'targetCopy': 0, 'language': 9, 'source': 7, 'dep': 'advmod'}]}, 'basicDependencies': {'root': [2], 'node': [{'sentenceIndex': 0, 'index': 1}, {'sentenceIndex': 0, 'index': 2}, {'sentenceIndex': 0, 'index': 3}, {'sentenceIndex': 0, 'index': 4}, {'sentenceIndex': 0, 'index': 5}, {'sentenceIndex': 0, 'index': 6}, {'sentenceIndex': 0, 'index': 7}, {'sentenceIndex': 0, 'index': 8}, {'sentenceIndex': 0, 'index': 9}], 'edge': [{'isExtra': False, 'target': 1, 'sourceCopy': 0, 'targetCopy': 0, 'language': 9, 'source': 2, 'dep': 'nsubj'}, {'isExtra': False, 'target': 5, 'sourceCopy': 0, 'targetCopy': 0, 'language': 9, 'source': 2, 'dep': 'nmod'}, {'isExtra': False, 'target': 9, 'sourceCopy': 0, 'targetCopy': 0, 'language': 9, 'source': 2, 'dep': 'punct'}, {'isExtra': False, 'target': 3, 'sourceCopy': 0, 'targetCopy': 0, 'language': 9, 'source': 5, 'dep': 'case'}, {'isExtra': False, 'target': 4, 'sourceCopy': 0, 'targetCopy': 0, 'language': 9, 'source': 5, 'dep': 'compound'}, {'isExtra': False, 'target': 7, 'sourceCopy': 0, 'targetCopy': 0, 'language': 9, 'source': 5, 'dep': 'nmod'}, {'isExtra': False, 'target': 6, 'sourceCopy': 0, 'targetCopy': 0, 'language': 9, 'source': 7, 'dep': 'case'}, {'isExtra': False, 'target': 8, 'sourceCopy': 0, 'targetCopy': 0, 'language': 9, 'source': 7, 'dep': 'advmod'}]}}, {'tokenOffsetBegin': 9, 'characterOffsetBegin': 38, 'parseTree': {'child': [{'child': [{'child': [{'child': [{'value': 'Donald'}], 'score': -7.753271102905273, 'value': 'NNP'}, {'child': [{'value': 'Trump'}], 'score': -7.829644680023193, 'value': 'NNP'}], 'score': -18.074695587158203, 'value': 'NP'}, {'child': [{'child': [{'value': 'likes'}], 'score': -6.6196770668029785, 'value': 'VBZ'}, {'child': [{'child': [{'value': 'music'}], 'score': -7.643800735473633, 'value': 'NN'}], 'score': -10.226461410522461, 'value': 'NP'}], 'score': -21.629215240478516, 'value': 'VP'}, {'child': [{'value': '.'}], 'score': -0.003481106134131551, 'value': '.'}], 'score': -40.839874267578125, 'value': 'S'}], 'score': -40.99108123779297, 'value': 'ROOT'}, 'hasNumerizedTokensAnnotation': True, 'hasRelationAnnotations': False, 'characterOffsetEnd': 63, 'sentenceIndex': 1, 'mentionsForCoref': [{'headWord': {'sentenceNum': 0, 'tokenIndex': 1}, 'sentenceWords': [{'sentenceNum': 0, 'tokenIndex': 0}, {'sentenceNum': 0, 'tokenIndex': 1}, {'sentenceNum': 0, 'tokenIndex': 2}, {'sentenceNum': 0, 'tokenIndex': 3}, {'sentenceNum': 0, 'tokenIndex': 4}], 'goldCorefClusterID': -1, 'hasCollapsedDependency': True, 'person': 'UNKNOWN', 'headIndex': 1, 'mentionNum': 3, 'sentNum': 1, 'mentionType': 'PROPER', 'animacy': 'ANIMATE', 'dependingVerb': {'sentenceNum': 0, 'copyCount': 0, 'tokenIndex': 2}, 'originalRef': 4294967295, 'startIndex': 0, 'mentionID': 3, 'isIndirectObject': False, 'paragraph': 1, 'corefClusterID': 6, 'headString': 'trump', 'headIndexedWord': {'sentenceNum': 0, 'copyCount': 0, 'tokenIndex': 1}, 'isSubject': True, 'endIndex': 2, 'hasTwin': False, 'hasContextParseTree': True, 'utter': 0, 'nerString': 'PERSON', 'hasBasicDependency': True, 'isSingleton': False, 'isPrepositionObject': False, 'isDirectObject': False, 'number': 'SINGULAR', 'generic': False, 'originalSpan': [{'sentenceNum': 0, 'tokenIndex': 0}, {'sentenceNum': 0, 'tokenIndex': 1}], 'gender': 'MALE'}, {'headWord': {'sentenceNum': 0, 'tokenIndex': 3}, 'sentenceWords': [{'sentenceNum': 0, 'tokenIndex': 0}, {'sentenceNum': 0, 'tokenIndex': 1}, {'sentenceNum': 0, 'tokenIndex': 2}, {'sentenceNum': 0, 'tokenIndex': 3}, {'sentenceNum': 0, 'tokenIndex': 4}], 'goldCorefClusterID': -1, 'hasCollapsedDependency': True, 'person': 'UNKNOWN', 'headIndex': 3, 'mentionNum': 4, 'sentNum': 1, 'mentionType': 'NOMINAL', 'animacy': 'INANIMATE', 'dependingVerb': {'sentenceNum': 0, 'copyCount': 0, 'tokenIndex': 2}, 'originalRef': 4294967295, 'startIndex': 3, 'mentionID': 4, 'isIndirectObject': False, 'paragraph': 1, 'corefClusterID': 4, 'headString': 'music', 'headIndexedWord': {'sentenceNum': 0, 'copyCount': 0, 'tokenIndex': 3}, 'isSubject': False, 'endIndex': 4, 'hasTwin': False, 'hasContextParseTree': True, 'utter': 0, 'nerString': 'O', 'hasBasicDependency': True, 'isSingleton': False, 'isPrepositionObject': False, 'isDirectObject': True, 'number': 'SINGULAR', 'generic': False, 'originalSpan': [{'sentenceNum': 0, 'tokenIndex': 3}], 'gender': 'NEUTRAL'}], 'paragraph': 1, 'tokenOffsetEnd': 14, 'hasCorefMentionsAnnotation': True, 'enhancedDependencies': {'root': [3], 'node': [{'sentenceIndex': 1, 'index': 3}, {'sentenceIndex': 1, 'index': 4}, {'sentenceIndex': 1, 'index': 5}, {'sentenceIndex': 1, 'index': 1}, {'sentenceIndex': 1, 'index': 2}], 'edge': [{'isExtra': False, 'target': 4, 'sourceCopy': 0, 'targetCopy': 0, 'language': 9, 'source': 3, 'dep': 'dobj'}, {'isExtra': False, 'target': 5, 'sourceCopy': 0, 'targetCopy': 0, 'language': 9, 'source': 3, 'dep': 'punct'}, {'isExtra': False, 'target': 2, 'sourceCopy': 0, 'targetCopy': 0, 'language': 9, 'source': 3, 'dep': 'nsubj'}, {'isExtra': False, 'target': 1, 'sourceCopy': 0, 'targetCopy': 0, 'language': 9, 'source': 2, 'dep': 'compound'}]}, 'token': [{'word': 'Donald', 'utterance': 0, 'lemma': 'Donald', 'speaker': 'PER0', 'ner': 'PERSON', 'before': ' ', 'pos': 'NNP', 'beginChar': 38, 'beginIndex': 0, 'hasXmlContext': False, 'tokenEndIndex': 10, 'endIndex': 1, 'endChar': 44, 'tokenBeginIndex': 9, 'after': ' ', 'value': 'Donald', 'originalText': 'Donald'}, {'word': 'Trump', 'utterance': 0, 'lemma': 'Trump', 'speaker': 'PER0', 'ner': 'PERSON', 'corefClusterID': 6, 'before': ' ', 'pos': 'NNP', 'beginChar': 45, 'beginIndex': 1, 'hasXmlContext': False, 'tokenEndIndex': 11, 'endIndex': 2, 'endChar': 50, 'tokenBeginIndex': 10, 'after': ' ', 'value': 'Trump', 'originalText': 'Trump'}, {'word': 'likes', 'utterance': 0, 'lemma': 'like', 'speaker': 'PER0', 'ner': 'O', 'before': ' ', 'pos': 'VBZ', 'beginChar': 51, 'beginIndex': 2, 'hasXmlContext': False, 'tokenEndIndex': 12, 'endIndex': 3, 'endChar': 56, 'tokenBeginIndex': 11, 'after': ' ', 'value': 'likes', 'originalText': 'likes'}, {'word': 'music', 'utterance': 0, 'lemma': 'music', 'speaker': 'PER0', 'ner': 'O', 'before': ' ', 'pos': 'NN', 'beginChar': 57, 'beginIndex': 3, 'hasXmlContext': False, 'tokenEndIndex': 13, 'endIndex': 4, 'endChar': 62, 'tokenBeginIndex': 12, 'after': '', 'value': 'music', 'originalText': 'music'}, {'word': '.', 'utterance': 0, 'lemma': '.', 'speaker': 'PER0', 'ner': 'O', 'before': '', 'pos': '.', 'beginChar': 62, 'beginIndex': 4, 'hasXmlContext': False, 'tokenEndIndex': 14, 'endIndex': 5, 'endChar': 63, 'tokenBeginIndex': 13, 'after': ' ', 'value': '.', 'originalText': '.'}], 'collapsedDependencies': {'root': [3], 'node': [{'sentenceIndex': 1, 'index': 3}, {'sentenceIndex': 1, 'index': 4}, {'sentenceIndex': 1, 'index': 5}, {'sentenceIndex': 1, 'index': 1}, {'sentenceIndex': 1, 'index': 2}], 'edge': [{'isExtra': False, 'target': 4, 'sourceCopy': 0, 'targetCopy': 0, 'language': 9, 'source': 3, 'dep': 'dobj'}, {'isExtra': False, 'target': 5, 'sourceCopy': 0, 'targetCopy': 0, 'language': 9, 'source': 3, 'dep': 'punct'}, {'isExtra': False, 'target': 2, 'sourceCopy': 0, 'targetCopy': 0, 'language': 9, 'source': 3, 'dep': 'nsubj'}, {'isExtra': False, 'target': 1, 'sourceCopy': 0, 'targetCopy': 0, 'language': 9, 'source': 2, 'dep': 'compound'}]}, 'binarizedParseTree': {'child': [{'child': [{'child': [{'child': [{'value': 'Donald'}], 'value': 'NNP'}, {'child': [{'value': 'Trump'}], 'value': 'NNP'}], 'value': 'NP'}, {'child': [{'child': [{'child': [{'value': 'likes'}], 'value': 'VBZ'}, {'child': [{'child': [{'value': 'music'}], 'value': 'NN'}], 'value': 'NP'}], 'value': 'VP'}, {'child': [{'value': '.'}], 'value': '.'}], 'value': '@S'}], 'value': 'S'}], 'value': 'ROOT'}, 'enhancedPlusPlusDependencies': {'root': [3], 'node': [{'sentenceIndex': 1, 'index': 3}, {'sentenceIndex': 1, 'index': 4}, {'sentenceIndex': 1, 'index': 5}, {'sentenceIndex': 1, 'index': 1}, {'sentenceIndex': 1, 'index': 2}], 'edge': [{'isExtra': False, 'target': 4, 'sourceCopy': 0, 'targetCopy': 0, 'language': 9, 'source': 3, 'dep': 'dobj'}, {'isExtra': False, 'target': 5, 'sourceCopy': 0, 'targetCopy': 0, 'language': 9, 'source': 3, 'dep': 'punct'}, {'isExtra': False, 'target': 2, 'sourceCopy': 0, 'targetCopy': 0, 'language': 9, 'source': 3, 'dep': 'nsubj'}, {'isExtra': False, 'target': 1, 'sourceCopy': 0, 'targetCopy': 0, 'language': 9, 'source': 2, 'dep': 'compound'}]}, 'collapsedCCProcessedDependencies': {'root': [3], 'node': [{'sentenceIndex': 1, 'index': 3}, {'sentenceIndex': 1, 'index': 4}, {'sentenceIndex': 1, 'index': 5}, {'sentenceIndex': 1, 'index': 1}, {'sentenceIndex': 1, 'index': 2}], 'edge': [{'isExtra': False, 'target': 4, 'sourceCopy': 0, 'targetCopy': 0, 'language': 9, 'source': 3, 'dep': 'dobj'}, {'isExtra': False, 'target': 5, 'sourceCopy': 0, 'targetCopy': 0, 'language': 9, 'source': 3, 'dep': 'punct'}, {'isExtra': False, 'target': 2, 'sourceCopy': 0, 'targetCopy': 0, 'language': 9, 'source': 3, 'dep': 'nsubj'}, {'isExtra': False, 'target': 1, 'sourceCopy': 0, 'targetCopy': 0, 'language': 9, 'source': 2, 'dep': 'compound'}]}, 'basicDependencies': {'root': [3], 'node': [{'sentenceIndex': 1, 'index': 3}, {'sentenceIndex': 1, 'index': 4}, {'sentenceIndex': 1, 'index': 5}, {'sentenceIndex': 1, 'index': 1}, {'sentenceIndex': 1, 'index': 2}], 'edge': [{'isExtra': False, 'target': 4, 'sourceCopy': 0, 'targetCopy': 0, 'language': 9, 'source': 3, 'dep': 'dobj'}, {'isExtra': False, 'target': 5, 'sourceCopy': 0, 'targetCopy': 0, 'language': 9, 'source': 3, 'dep': 'punct'}, {'isExtra': False, 'target': 2, 'sourceCopy': 0, 'targetCopy': 0, 'language': 9, 'source': 3, 'dep': 'nsubj'}, {'isExtra': False, 'target': 1, 'sourceCopy': 0, 'targetCopy': 0, 'language': 9, 'source': 2, 'dep': 'compound'}]}}, {'tokenOffsetBegin': 14, 'characterOffsetBegin': 64, 'parseTree': {'child': [{'child': [{'child': [{'child': [{'value': 'Hillary'}], 'score': -10.410379409790039, 'value': 'NNP'}], 'score': -13.059992790222168, 'value': 'NP'}, {'child': [{'child': [{'value': 'does'}], 'score': -3.106236696243286, 'value': 'VBZ'}, {'child': [{'value': \"n't\"}], 'score': -0.2561119794845581, 'value': 'RB'}, {'child': [{'child': [{'value': 'like'}], 'score': -5.9027628898620605, 'value': 'VB'}, {'child': [{'child': [{'value': 'him'}], 'score': -3.9363746643066406, 'value': 'PRP'}], 'score': -6.5796074867248535, 'value': 'NP'}], 'score': -14.516129493713379, 'value': 'VP'}], 'score': -23.34078598022461, 'value': 'VP'}, {'child': [{'value': '.'}], 'score': -0.003481106134131551, 'value': '.'}], 'score': -37.5367431640625, 'value': 'S'}], 'score': -37.687950134277344, 'value': 'ROOT'}, 'hasNumerizedTokensAnnotation': True, 'hasRelationAnnotations': False, 'characterOffsetEnd': 89, 'sentenceIndex': 2, 'mentionsForCoref': [{'headWord': {'sentenceNum': 1, 'tokenIndex': 0}, 'sentenceWords': [{'sentenceNum': 1, 'tokenIndex': 0}, {'sentenceNum': 1, 'tokenIndex': 1}, {'sentenceNum': 1, 'tokenIndex': 2}, {'sentenceNum': 1, 'tokenIndex': 3}, {'sentenceNum': 1, 'tokenIndex': 4}, {'sentenceNum': 1, 'tokenIndex': 5}], 'goldCorefClusterID': -1, 'hasCollapsedDependency': True, 'person': 'UNKNOWN', 'headIndex': 0, 'mentionNum': 5, 'sentNum': 2, 'mentionType': 'PROPER', 'animacy': 'ANIMATE', 'dependingVerb': {'sentenceNum': 1, 'copyCount': 0, 'tokenIndex': 3}, 'originalRef': 4294967295, 'startIndex': 0, 'mentionID': 5, 'isIndirectObject': False, 'paragraph': 1, 'corefClusterID': 5, 'headString': 'hillary', 'headIndexedWord': {'sentenceNum': 1, 'copyCount': 0, 'tokenIndex': 0}, 'isSubject': True, 'endIndex': 1, 'hasTwin': False, 'hasContextParseTree': True, 'utter': 0, 'nerString': 'PERSON', 'hasBasicDependency': True, 'isSingleton': False, 'isPrepositionObject': False, 'isDirectObject': False, 'number': 'SINGULAR', 'generic': False, 'originalSpan': [{'sentenceNum': 1, 'tokenIndex': 0}], 'gender': 'UNKNOWN'}, {'headWord': {'sentenceNum': 1, 'tokenIndex': 4}, 'sentenceWords': [{'sentenceNum': 1, 'tokenIndex': 0}, {'sentenceNum': 1, 'tokenIndex': 1}, {'sentenceNum': 1, 'tokenIndex': 2}, {'sentenceNum': 1, 'tokenIndex': 3}, {'sentenceNum': 1, 'tokenIndex': 4}, {'sentenceNum': 1, 'tokenIndex': 5}], 'goldCorefClusterID': -1, 'hasCollapsedDependency': True, 'person': 'HE', 'headIndex': 4, 'mentionNum': 6, 'sentNum': 2, 'mentionType': 'PRONOMINAL', 'animacy': 'ANIMATE', 'dependingVerb': {'sentenceNum': 1, 'copyCount': 0, 'tokenIndex': 3}, 'originalRef': 4294967295, 'startIndex': 4, 'mentionID': 6, 'isIndirectObject': False, 'paragraph': 1, 'corefClusterID': 6, 'headString': 'him', 'headIndexedWord': {'sentenceNum': 1, 'copyCount': 0, 'tokenIndex': 4}, 'isSubject': False, 'endIndex': 5, 'hasTwin': False, 'hasContextParseTree': True, 'utter': 0, 'nerString': 'O', 'hasBasicDependency': True, 'isSingleton': False, 'isPrepositionObject': False, 'isDirectObject': True, 'number': 'SINGULAR', 'generic': False, 'originalSpan': [{'sentenceNum': 1, 'tokenIndex': 4}], 'gender': 'MALE'}], 'paragraph': 1, 'tokenOffsetEnd': 20, 'hasCorefMentionsAnnotation': True, 'enhancedDependencies': {'root': [4], 'node': [{'sentenceIndex': 2, 'index': 6}, {'sentenceIndex': 2, 'index': 1}, {'sentenceIndex': 2, 'index': 2}, {'sentenceIndex': 2, 'index': 3}, {'sentenceIndex': 2, 'index': 4}, {'sentenceIndex': 2, 'index': 5}], 'edge': [{'isExtra': False, 'target': 6, 'sourceCopy': 0, 'targetCopy': 0, 'language': 9, 'source': 4, 'dep': 'punct'}, {'isExtra': False, 'target': 1, 'sourceCopy': 0, 'targetCopy': 0, 'language': 9, 'source': 4, 'dep': 'nsubj'}, {'isExtra': False, 'target': 2, 'sourceCopy': 0, 'targetCopy': 0, 'language': 9, 'source': 4, 'dep': 'aux'}, {'isExtra': False, 'target': 3, 'sourceCopy': 0, 'targetCopy': 0, 'language': 9, 'source': 4, 'dep': 'neg'}, {'isExtra': False, 'target': 5, 'sourceCopy': 0, 'targetCopy': 0, 'language': 9, 'source': 4, 'dep': 'dobj'}]}, 'token': [{'word': 'Hillary', 'utterance': 0, 'lemma': 'Hillary', 'speaker': 'PER0', 'ner': 'PERSON', 'before': ' ', 'pos': 'NNP', 'beginChar': 64, 'beginIndex': 0, 'hasXmlContext': False, 'tokenEndIndex': 15, 'endIndex': 1, 'endChar': 71, 'tokenBeginIndex': 14, 'after': ' ', 'value': 'Hillary', 'originalText': 'Hillary'}, {'word': 'does', 'utterance': 0, 'lemma': 'do', 'speaker': 'PER0', 'ner': 'O', 'before': ' ', 'pos': 'VBZ', 'beginChar': 72, 'beginIndex': 1, 'hasXmlContext': False, 'tokenEndIndex': 16, 'endIndex': 2, 'endChar': 76, 'tokenBeginIndex': 15, 'after': '', 'value': 'does', 'originalText': 'does'}, {'word': \"n't\", 'utterance': 0, 'lemma': 'not', 'speaker': 'PER0', 'ner': 'O', 'before': '', 'pos': 'RB', 'beginChar': 76, 'beginIndex': 2, 'hasXmlContext': False, 'tokenEndIndex': 17, 'endIndex': 3, 'endChar': 79, 'tokenBeginIndex': 16, 'after': ' ', 'value': \"n't\", 'originalText': \"n't\"}, {'word': 'like', 'utterance': 0, 'lemma': 'like', 'speaker': 'PER0', 'ner': 'O', 'before': ' ', 'pos': 'VB', 'beginChar': 80, 'beginIndex': 3, 'hasXmlContext': False, 'tokenEndIndex': 18, 'endIndex': 4, 'endChar': 84, 'tokenBeginIndex': 17, 'after': ' ', 'value': 'like', 'originalText': 'like'}, {'word': 'him', 'utterance': 0, 'lemma': 'he', 'speaker': 'PER0', 'ner': 'O', 'corefClusterID': 6, 'before': ' ', 'pos': 'PRP', 'beginChar': 85, 'beginIndex': 4, 'hasXmlContext': False, 'tokenEndIndex': 19, 'endIndex': 5, 'endChar': 88, 'tokenBeginIndex': 18, 'after': '', 'value': 'him', 'originalText': 'him'}, {'word': '.', 'utterance': 0, 'lemma': '.', 'speaker': 'PER0', 'ner': 'O', 'before': '', 'pos': '.', 'beginChar': 88, 'beginIndex': 5, 'hasXmlContext': False, 'tokenEndIndex': 20, 'endIndex': 6, 'endChar': 89, 'tokenBeginIndex': 19, 'after': '', 'value': '.', 'originalText': '.'}], 'collapsedDependencies': {'root': [4], 'node': [{'sentenceIndex': 2, 'index': 6}, {'sentenceIndex': 2, 'index': 1}, {'sentenceIndex': 2, 'index': 2}, {'sentenceIndex': 2, 'index': 3}, {'sentenceIndex': 2, 'index': 4}, {'sentenceIndex': 2, 'index': 5}], 'edge': [{'isExtra': False, 'target': 6, 'sourceCopy': 0, 'targetCopy': 0, 'language': 9, 'source': 4, 'dep': 'punct'}, {'isExtra': False, 'target': 1, 'sourceCopy': 0, 'targetCopy': 0, 'language': 9, 'source': 4, 'dep': 'nsubj'}, {'isExtra': False, 'target': 2, 'sourceCopy': 0, 'targetCopy': 0, 'language': 9, 'source': 4, 'dep': 'aux'}, {'isExtra': False, 'target': 3, 'sourceCopy': 0, 'targetCopy': 0, 'language': 9, 'source': 4, 'dep': 'neg'}, {'isExtra': False, 'target': 5, 'sourceCopy': 0, 'targetCopy': 0, 'language': 9, 'source': 4, 'dep': 'dobj'}]}, 'binarizedParseTree': {'child': [{'child': [{'child': [{'child': [{'value': 'Hillary'}], 'value': 'NNP'}], 'value': 'NP'}, {'child': [{'child': [{'child': [{'child': [{'value': 'does'}], 'value': 'VBZ'}, {'child': [{'value': \"n't\"}], 'value': 'RB'}], 'value': '@VP'}, {'child': [{'child': [{'value': 'like'}], 'value': 'VB'}, {'child': [{'child': [{'value': 'him'}], 'value': 'PRP'}], 'value': 'NP'}], 'value': 'VP'}], 'value': 'VP'}, {'child': [{'value': '.'}], 'value': '.'}], 'value': '@S'}], 'value': 'S'}], 'value': 'ROOT'}, 'enhancedPlusPlusDependencies': {'root': [4], 'node': [{'sentenceIndex': 2, 'index': 6}, {'sentenceIndex': 2, 'index': 1}, {'sentenceIndex': 2, 'index': 2}, {'sentenceIndex': 2, 'index': 3}, {'sentenceIndex': 2, 'index': 4}, {'sentenceIndex': 2, 'index': 5}], 'edge': [{'isExtra': False, 'target': 6, 'sourceCopy': 0, 'targetCopy': 0, 'language': 9, 'source': 4, 'dep': 'punct'}, {'isExtra': False, 'target': 1, 'sourceCopy': 0, 'targetCopy': 0, 'language': 9, 'source': 4, 'dep': 'nsubj'}, {'isExtra': False, 'target': 2, 'sourceCopy': 0, 'targetCopy': 0, 'language': 9, 'source': 4, 'dep': 'aux'}, {'isExtra': False, 'target': 3, 'sourceCopy': 0, 'targetCopy': 0, 'language': 9, 'source': 4, 'dep': 'neg'}, {'isExtra': False, 'target': 5, 'sourceCopy': 0, 'targetCopy': 0, 'language': 9, 'source': 4, 'dep': 'dobj'}]}, 'collapsedCCProcessedDependencies': {'root': [4], 'node': [{'sentenceIndex': 2, 'index': 6}, {'sentenceIndex': 2, 'index': 1}, {'sentenceIndex': 2, 'index': 2}, {'sentenceIndex': 2, 'index': 3}, {'sentenceIndex': 2, 'index': 4}, {'sentenceIndex': 2, 'index': 5}], 'edge': [{'isExtra': False, 'target': 6, 'sourceCopy': 0, 'targetCopy': 0, 'language': 9, 'source': 4, 'dep': 'punct'}, {'isExtra': False, 'target': 1, 'sourceCopy': 0, 'targetCopy': 0, 'language': 9, 'source': 4, 'dep': 'nsubj'}, {'isExtra': False, 'target': 2, 'sourceCopy': 0, 'targetCopy': 0, 'language': 9, 'source': 4, 'dep': 'aux'}, {'isExtra': False, 'target': 3, 'sourceCopy': 0, 'targetCopy': 0, 'language': 9, 'source': 4, 'dep': 'neg'}, {'isExtra': False, 'target': 5, 'sourceCopy': 0, 'targetCopy': 0, 'language': 9, 'source': 4, 'dep': 'dobj'}]}, 'basicDependencies': {'root': [4], 'node': [{'sentenceIndex': 2, 'index': 6}, {'sentenceIndex': 2, 'index': 1}, {'sentenceIndex': 2, 'index': 2}, {'sentenceIndex': 2, 'index': 3}, {'sentenceIndex': 2, 'index': 4}, {'sentenceIndex': 2, 'index': 5}], 'edge': [{'isExtra': False, 'target': 6, 'sourceCopy': 0, 'targetCopy': 0, 'language': 9, 'source': 4, 'dep': 'punct'}, {'isExtra': False, 'target': 1, 'sourceCopy': 0, 'targetCopy': 0, 'language': 9, 'source': 4, 'dep': 'nsubj'}, {'isExtra': False, 'target': 2, 'sourceCopy': 0, 'targetCopy': 0, 'language': 9, 'source': 4, 'dep': 'aux'}, {'isExtra': False, 'target': 3, 'sourceCopy': 0, 'targetCopy': 0, 'language': 9, 'source': 4, 'dep': 'neg'}, {'isExtra': False, 'target': 5, 'sourceCopy': 0, 'targetCopy': 0, 'language': 9, 'source': 4, 'dep': 'dobj'}]}}]}\n"
     ]
    }
   ],
   "source": [
    "print(annotated.to_json())"
   ]
  }
 ],
 "metadata": {
  "kernelspec": {
   "display_name": "Python 3",
   "language": "python",
   "name": "python3"
  },
  "language_info": {
   "codemirror_mode": {
    "name": "ipython",
    "version": 3
   },
   "file_extension": ".py",
   "mimetype": "text/x-python",
   "name": "python",
   "nbconvert_exporter": "python",
   "pygments_lexer": "ipython3",
   "version": "3.5.3"
  }
 },
 "nbformat": 4,
 "nbformat_minor": 2
}
