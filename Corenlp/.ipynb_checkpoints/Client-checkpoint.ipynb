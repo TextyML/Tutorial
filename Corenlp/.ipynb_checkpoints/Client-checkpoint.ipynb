{
 "cells": [
  {
   "cell_type": "markdown",
   "metadata": {},
   "source": [
    "Access Docker Gateway : 172.17.0.1"
   ]
  },
  {
   "cell_type": "code",
   "execution_count": 1,
   "metadata": {
    "collapsed": true
   },
   "outputs": [],
   "source": [
    "from pycorenlp import StanfordCoreNLP\n",
    "nlp = StanfordCoreNLP('http://172.17.0.1:9000')"
   ]
  },
  {
   "cell_type": "code",
   "execution_count": 9,
   "metadata": {
    "collapsed": false
   },
   "outputs": [],
   "source": [
    "text = (\n",
    "  'Pusheen and Smitha walked along the beach. '\n",
    "  'Pusheen wanted to surf, but fell off the surfboard.')\n",
    "output = nlp.annotate(text, properties={\n",
    "  'annotators': 'dcoref, ner',\n",
    "  'outputFormat': 'json'\n",
    "  })"
   ]
  },
  {
   "cell_type": "code",
   "execution_count": 10,
   "metadata": {
    "collapsed": false
   },
   "outputs": [
    {
     "name": "stdout",
     "output_type": "stream",
     "text": [
      "[{'enhancedPlusPlusDependencies': [{'dep': 'ROOT', 'dependent': 4, 'dependentGloss': 'walked', 'governorGloss': 'ROOT', 'governor': 0}, {'dep': 'nsubj', 'dependent': 1, 'dependentGloss': 'Pusheen', 'governorGloss': 'walked', 'governor': 4}, {'dep': 'cc', 'dependent': 2, 'dependentGloss': 'and', 'governorGloss': 'Pusheen', 'governor': 1}, {'dep': 'conj:and', 'dependent': 3, 'dependentGloss': 'Smitha', 'governorGloss': 'Pusheen', 'governor': 1}, {'dep': 'nsubj', 'dependent': 3, 'dependentGloss': 'Smitha', 'governorGloss': 'walked', 'governor': 4}, {'dep': 'case', 'dependent': 5, 'dependentGloss': 'along', 'governorGloss': 'beach', 'governor': 7}, {'dep': 'det', 'dependent': 6, 'dependentGloss': 'the', 'governorGloss': 'beach', 'governor': 7}, {'dep': 'nmod:along', 'dependent': 7, 'dependentGloss': 'beach', 'governorGloss': 'walked', 'governor': 4}, {'dep': 'punct', 'dependent': 8, 'dependentGloss': '.', 'governorGloss': 'walked', 'governor': 4}], 'parse': '(ROOT\\n  (S\\n    (NP (NNP Pusheen)\\n      (CC and)\\n      (NNP Smitha))\\n    (VP (VBD walked)\\n      (PP (IN along)\\n        (NP (DT the) (NN beach))))\\n    (. .)))', 'enhancedDependencies': [{'dep': 'ROOT', 'dependent': 4, 'dependentGloss': 'walked', 'governorGloss': 'ROOT', 'governor': 0}, {'dep': 'nsubj', 'dependent': 1, 'dependentGloss': 'Pusheen', 'governorGloss': 'walked', 'governor': 4}, {'dep': 'cc', 'dependent': 2, 'dependentGloss': 'and', 'governorGloss': 'Pusheen', 'governor': 1}, {'dep': 'conj:and', 'dependent': 3, 'dependentGloss': 'Smitha', 'governorGloss': 'Pusheen', 'governor': 1}, {'dep': 'nsubj', 'dependent': 3, 'dependentGloss': 'Smitha', 'governorGloss': 'walked', 'governor': 4}, {'dep': 'case', 'dependent': 5, 'dependentGloss': 'along', 'governorGloss': 'beach', 'governor': 7}, {'dep': 'det', 'dependent': 6, 'dependentGloss': 'the', 'governorGloss': 'beach', 'governor': 7}, {'dep': 'nmod:along', 'dependent': 7, 'dependentGloss': 'beach', 'governorGloss': 'walked', 'governor': 4}, {'dep': 'punct', 'dependent': 8, 'dependentGloss': '.', 'governorGloss': 'walked', 'governor': 4}], 'basicDependencies': [{'dep': 'ROOT', 'dependent': 4, 'dependentGloss': 'walked', 'governorGloss': 'ROOT', 'governor': 0}, {'dep': 'nsubj', 'dependent': 1, 'dependentGloss': 'Pusheen', 'governorGloss': 'walked', 'governor': 4}, {'dep': 'cc', 'dependent': 2, 'dependentGloss': 'and', 'governorGloss': 'Pusheen', 'governor': 1}, {'dep': 'conj', 'dependent': 3, 'dependentGloss': 'Smitha', 'governorGloss': 'Pusheen', 'governor': 1}, {'dep': 'case', 'dependent': 5, 'dependentGloss': 'along', 'governorGloss': 'beach', 'governor': 7}, {'dep': 'det', 'dependent': 6, 'dependentGloss': 'the', 'governorGloss': 'beach', 'governor': 7}, {'dep': 'nmod', 'dependent': 7, 'dependentGloss': 'beach', 'governorGloss': 'walked', 'governor': 4}, {'dep': 'punct', 'dependent': 8, 'dependentGloss': '.', 'governorGloss': 'walked', 'governor': 4}], 'tokens': [{'characterOffsetEnd': 7, 'ner': 'PERSON', 'word': 'Pusheen', 'pos': 'NNP', 'lemma': 'Pusheen', 'speaker': 'PER0', 'characterOffsetBegin': 0, 'before': '', 'originalText': 'Pusheen', 'index': 1, 'after': ' '}, {'characterOffsetEnd': 11, 'ner': 'O', 'word': 'and', 'pos': 'CC', 'lemma': 'and', 'speaker': 'PER0', 'characterOffsetBegin': 8, 'before': ' ', 'originalText': 'and', 'index': 2, 'after': ' '}, {'characterOffsetEnd': 18, 'ner': 'PERSON', 'word': 'Smitha', 'pos': 'NNP', 'lemma': 'Smitha', 'speaker': 'PER0', 'characterOffsetBegin': 12, 'before': ' ', 'originalText': 'Smitha', 'index': 3, 'after': ' '}, {'characterOffsetEnd': 25, 'ner': 'O', 'word': 'walked', 'pos': 'VBD', 'lemma': 'walk', 'speaker': 'PER0', 'characterOffsetBegin': 19, 'before': ' ', 'originalText': 'walked', 'index': 4, 'after': ' '}, {'characterOffsetEnd': 31, 'ner': 'O', 'word': 'along', 'pos': 'IN', 'lemma': 'along', 'speaker': 'PER0', 'characterOffsetBegin': 26, 'before': ' ', 'originalText': 'along', 'index': 5, 'after': ' '}, {'characterOffsetEnd': 35, 'ner': 'O', 'word': 'the', 'pos': 'DT', 'lemma': 'the', 'speaker': 'PER0', 'characterOffsetBegin': 32, 'before': ' ', 'originalText': 'the', 'index': 6, 'after': ' '}, {'characterOffsetEnd': 41, 'ner': 'O', 'word': 'beach', 'pos': 'NN', 'lemma': 'beach', 'speaker': 'PER0', 'characterOffsetBegin': 36, 'before': ' ', 'originalText': 'beach', 'index': 7, 'after': ''}, {'characterOffsetEnd': 42, 'ner': 'O', 'word': '.', 'pos': '.', 'lemma': '.', 'speaker': 'PER0', 'characterOffsetBegin': 41, 'before': '', 'originalText': '.', 'index': 8, 'after': ' '}], 'index': 0}, {'enhancedPlusPlusDependencies': [{'dep': 'ROOT', 'dependent': 2, 'dependentGloss': 'wanted', 'governorGloss': 'ROOT', 'governor': 0}, {'dep': 'nsubj', 'dependent': 1, 'dependentGloss': 'Pusheen', 'governorGloss': 'wanted', 'governor': 2}, {'dep': 'nsubj', 'dependent': 1, 'dependentGloss': 'Pusheen', 'governorGloss': 'fell', 'governor': 7}, {'dep': 'case', 'dependent': 3, 'dependentGloss': 'to', 'governorGloss': 'surf', 'governor': 4}, {'dep': 'nmod:to', 'dependent': 4, 'dependentGloss': 'surf', 'governorGloss': 'wanted', 'governor': 2}, {'dep': 'punct', 'dependent': 5, 'dependentGloss': ',', 'governorGloss': 'wanted', 'governor': 2}, {'dep': 'cc', 'dependent': 6, 'dependentGloss': 'but', 'governorGloss': 'wanted', 'governor': 2}, {'dep': 'conj:but', 'dependent': 7, 'dependentGloss': 'fell', 'governorGloss': 'wanted', 'governor': 2}, {'dep': 'compound:prt', 'dependent': 8, 'dependentGloss': 'off', 'governorGloss': 'fell', 'governor': 7}, {'dep': 'det', 'dependent': 9, 'dependentGloss': 'the', 'governorGloss': 'surfboard', 'governor': 10}, {'dep': 'dobj', 'dependent': 10, 'dependentGloss': 'surfboard', 'governorGloss': 'fell', 'governor': 7}, {'dep': 'punct', 'dependent': 11, 'dependentGloss': '.', 'governorGloss': 'wanted', 'governor': 2}], 'parse': '(ROOT\\n  (S\\n    (NP (NNP Pusheen))\\n    (VP\\n      (VP (VBD wanted)\\n        (PP (TO to)\\n          (NP (NN surf))))\\n      (, ,)\\n      (CC but)\\n      (VP (VBD fell)\\n        (PRT (RP off))\\n        (NP (DT the) (NN surfboard))))\\n    (. .)))', 'enhancedDependencies': [{'dep': 'ROOT', 'dependent': 2, 'dependentGloss': 'wanted', 'governorGloss': 'ROOT', 'governor': 0}, {'dep': 'nsubj', 'dependent': 1, 'dependentGloss': 'Pusheen', 'governorGloss': 'wanted', 'governor': 2}, {'dep': 'nsubj', 'dependent': 1, 'dependentGloss': 'Pusheen', 'governorGloss': 'fell', 'governor': 7}, {'dep': 'case', 'dependent': 3, 'dependentGloss': 'to', 'governorGloss': 'surf', 'governor': 4}, {'dep': 'nmod:to', 'dependent': 4, 'dependentGloss': 'surf', 'governorGloss': 'wanted', 'governor': 2}, {'dep': 'punct', 'dependent': 5, 'dependentGloss': ',', 'governorGloss': 'wanted', 'governor': 2}, {'dep': 'cc', 'dependent': 6, 'dependentGloss': 'but', 'governorGloss': 'wanted', 'governor': 2}, {'dep': 'conj:but', 'dependent': 7, 'dependentGloss': 'fell', 'governorGloss': 'wanted', 'governor': 2}, {'dep': 'compound:prt', 'dependent': 8, 'dependentGloss': 'off', 'governorGloss': 'fell', 'governor': 7}, {'dep': 'det', 'dependent': 9, 'dependentGloss': 'the', 'governorGloss': 'surfboard', 'governor': 10}, {'dep': 'dobj', 'dependent': 10, 'dependentGloss': 'surfboard', 'governorGloss': 'fell', 'governor': 7}, {'dep': 'punct', 'dependent': 11, 'dependentGloss': '.', 'governorGloss': 'wanted', 'governor': 2}], 'basicDependencies': [{'dep': 'ROOT', 'dependent': 2, 'dependentGloss': 'wanted', 'governorGloss': 'ROOT', 'governor': 0}, {'dep': 'nsubj', 'dependent': 1, 'dependentGloss': 'Pusheen', 'governorGloss': 'wanted', 'governor': 2}, {'dep': 'case', 'dependent': 3, 'dependentGloss': 'to', 'governorGloss': 'surf', 'governor': 4}, {'dep': 'nmod', 'dependent': 4, 'dependentGloss': 'surf', 'governorGloss': 'wanted', 'governor': 2}, {'dep': 'punct', 'dependent': 5, 'dependentGloss': ',', 'governorGloss': 'wanted', 'governor': 2}, {'dep': 'cc', 'dependent': 6, 'dependentGloss': 'but', 'governorGloss': 'wanted', 'governor': 2}, {'dep': 'conj', 'dependent': 7, 'dependentGloss': 'fell', 'governorGloss': 'wanted', 'governor': 2}, {'dep': 'compound:prt', 'dependent': 8, 'dependentGloss': 'off', 'governorGloss': 'fell', 'governor': 7}, {'dep': 'det', 'dependent': 9, 'dependentGloss': 'the', 'governorGloss': 'surfboard', 'governor': 10}, {'dep': 'dobj', 'dependent': 10, 'dependentGloss': 'surfboard', 'governorGloss': 'fell', 'governor': 7}, {'dep': 'punct', 'dependent': 11, 'dependentGloss': '.', 'governorGloss': 'wanted', 'governor': 2}], 'tokens': [{'characterOffsetEnd': 50, 'ner': 'PERSON', 'word': 'Pusheen', 'pos': 'NNP', 'lemma': 'Pusheen', 'speaker': 'PER0', 'characterOffsetBegin': 43, 'before': ' ', 'originalText': 'Pusheen', 'index': 1, 'after': ' '}, {'characterOffsetEnd': 57, 'ner': 'O', 'word': 'wanted', 'pos': 'VBD', 'lemma': 'want', 'speaker': 'PER0', 'characterOffsetBegin': 51, 'before': ' ', 'originalText': 'wanted', 'index': 2, 'after': ' '}, {'characterOffsetEnd': 60, 'ner': 'O', 'word': 'to', 'pos': 'TO', 'lemma': 'to', 'speaker': 'PER0', 'characterOffsetBegin': 58, 'before': ' ', 'originalText': 'to', 'index': 3, 'after': ' '}, {'characterOffsetEnd': 65, 'ner': 'O', 'word': 'surf', 'pos': 'NN', 'lemma': 'surf', 'speaker': 'PER0', 'characterOffsetBegin': 61, 'before': ' ', 'originalText': 'surf', 'index': 4, 'after': ''}, {'characterOffsetEnd': 66, 'ner': 'O', 'word': ',', 'pos': ',', 'lemma': ',', 'speaker': 'PER0', 'characterOffsetBegin': 65, 'before': '', 'originalText': ',', 'index': 5, 'after': ' '}, {'characterOffsetEnd': 70, 'ner': 'O', 'word': 'but', 'pos': 'CC', 'lemma': 'but', 'speaker': 'PER0', 'characterOffsetBegin': 67, 'before': ' ', 'originalText': 'but', 'index': 6, 'after': ' '}, {'characterOffsetEnd': 75, 'ner': 'O', 'word': 'fell', 'pos': 'VBD', 'lemma': 'fall', 'speaker': 'PER0', 'characterOffsetBegin': 71, 'before': ' ', 'originalText': 'fell', 'index': 7, 'after': ' '}, {'characterOffsetEnd': 79, 'ner': 'O', 'word': 'off', 'pos': 'RP', 'lemma': 'off', 'speaker': 'PER0', 'characterOffsetBegin': 76, 'before': ' ', 'originalText': 'off', 'index': 8, 'after': ' '}, {'characterOffsetEnd': 83, 'ner': 'O', 'word': 'the', 'pos': 'DT', 'lemma': 'the', 'speaker': 'PER0', 'characterOffsetBegin': 80, 'before': ' ', 'originalText': 'the', 'index': 9, 'after': ' '}, {'characterOffsetEnd': 93, 'ner': 'O', 'word': 'surfboard', 'pos': 'NN', 'lemma': 'surfboard', 'speaker': 'PER0', 'characterOffsetBegin': 84, 'before': ' ', 'originalText': 'surfboard', 'index': 10, 'after': ''}, {'characterOffsetEnd': 94, 'ner': 'O', 'word': '.', 'pos': '.', 'lemma': '.', 'speaker': 'PER0', 'characterOffsetBegin': 93, 'before': '', 'originalText': '.', 'index': 11, 'after': ''}], 'index': 1}]\n"
     ]
    }
   ],
   "source": [
    "print(output['sentences'])"
   ]
  }
 ],
 "metadata": {
  "kernelspec": {
   "display_name": "Python 3",
   "language": "python",
   "name": "python3"
  },
  "language_info": {
   "codemirror_mode": {
    "name": "ipython",
    "version": 3
   },
   "file_extension": ".py",
   "mimetype": "text/x-python",
   "name": "python",
   "nbconvert_exporter": "python",
   "pygments_lexer": "ipython3",
   "version": "3.5.3"
  }
 },
 "nbformat": 4,
 "nbformat_minor": 2
}
