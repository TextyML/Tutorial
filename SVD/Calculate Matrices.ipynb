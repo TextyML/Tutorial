{
 "cells": [
  {
   "cell_type": "code",
   "execution_count": 1,
   "metadata": {
    "collapsed": true
   },
   "outputs": [],
   "source": [
    "import numpy as np"
   ]
  },
  {
   "cell_type": "markdown",
   "metadata": {},
   "source": [
    "A = Datamatrix"
   ]
  },
  {
   "cell_type": "code",
   "execution_count": 3,
   "metadata": {
    "collapsed": true
   },
   "outputs": [],
   "source": [
    "A = np.array([[ 3, 0, 3],\n",
    "              [ 5, 4, 0],\n",
    "              [ 1, 2, 4],\n",
    "              [ 2, 2, 0]])"
   ]
  },
  {
   "cell_type": "code",
   "execution_count": 13,
   "metadata": {
    "collapsed": false,
    "scrolled": true
   },
   "outputs": [
    {
     "name": "stdout",
     "output_type": "stream",
     "text": [
      "[[-0.415103   -0.4754462   0.76791353  0.10931247]\n",
      " [-0.74371645  0.52779221 -0.01689327 -0.40992176]\n",
      " [-0.41095874 -0.66262863 -0.62073729 -0.08198435]\n",
      " [-0.3250973   0.23729643 -0.15718985  0.90182787]]\n"
     ]
    }
   ],
   "source": [
    "U_values,U = np.linalg.eig(np.dot(A, np.transpose(A)))\n",
    "print(U)"
   ]
  },
  {
   "cell_type": "code",
   "execution_count": 21,
   "metadata": {
    "collapsed": false
   },
   "outputs": [
    {
     "name": "stdout",
     "output_type": "stream",
     "text": [
      "[[-0.75064858 -0.61807715 -0.2334681 ]\n",
      " [-0.55404032  0.78137107 -0.28722565]\n",
      " [-0.35995283  0.08625479  0.92897474]]\n",
      "\n",
      "[[-0.75064858 -0.55404032 -0.35995283]\n",
      " [-0.61807715  0.78137107  0.08625479]\n",
      " [-0.2334681  -0.28722565  0.92897474]]\n"
     ]
    }
   ],
   "source": [
    "V_values,V = np.linalg.eig(np.dot(np.transpose(A), A))\n",
    "print(V)\n",
    "print()\n",
    "V_t = np.transpose(V)\n",
    "print(V_t)"
   ]
  },
  {
   "cell_type": "code",
   "execution_count": 29,
   "metadata": {
    "collapsed": false
   },
   "outputs": [
    {
     "name": "stdout",
     "output_type": "stream",
     "text": [
      "[ 64.42392746   4.31669193  19.25938061]\n"
     ]
    }
   ],
   "source": [
    "print(V_values)"
   ]
  },
  {
   "cell_type": "code",
   "execution_count": 28,
   "metadata": {
    "collapsed": false
   },
   "outputs": [
    {
     "name": "stdout",
     "output_type": "stream",
     "text": [
      "[[ 8.02645174  0.          0.        ]\n",
      " [ 0.          4.38855108  0.        ]\n",
      " [ 0.          0.          2.07766502]]\n"
     ]
    }
   ],
   "source": [
    "S = np.diag(np.sqrt(-np.sort(-V_values)))\n",
    "print(S)"
   ]
  }
 ],
 "metadata": {
  "anaconda-cloud": {},
  "kernelspec": {
   "display_name": "Python [conda root]",
   "language": "python",
   "name": "conda-root-py"
  },
  "language_info": {
   "codemirror_mode": {
    "name": "ipython",
    "version": 3
   },
   "file_extension": ".py",
   "mimetype": "text/x-python",
   "name": "python",
   "nbconvert_exporter": "python",
   "pygments_lexer": "ipython3",
   "version": "3.5.2"
  }
 },
 "nbformat": 4,
 "nbformat_minor": 1
}
