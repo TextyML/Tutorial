{
 "cells": [
  {
   "cell_type": "markdown",
   "metadata": {},
   "source": [
    "# itable examples\n",
    "\n",
    "These tables are created using the itable package [https://github.com/mgymrek/itable](https://github.com/mgymrek/itable).\n",
    "\n",
    "These examples are originally described in [this post](http://melissagymrek.com/python/2014/01/12/ipython-tables.html) before I had created the separate ```itable``` package. Usage is identical except for the change in the package name."
   ]
  },
  {
   "cell_type": "code",
   "execution_count": 1,
   "metadata": {
    "collapsed": false
   },
   "outputs": [
    {
     "ename": "ImportError",
     "evalue": "No module named 'pandas'",
     "output_type": "error",
     "traceback": [
      "\u001b[0;31m---------------------------------------------------------------------------\u001b[0m",
      "\u001b[0;31mImportError\u001b[0m                               Traceback (most recent call last)",
      "\u001b[0;32m<ipython-input-1-54062a6afbc8>\u001b[0m in \u001b[0;36m<module>\u001b[0;34m()\u001b[0m\n\u001b[0;32m----> 1\u001b[0;31m \u001b[0;32mimport\u001b[0m \u001b[0mpandas\u001b[0m \u001b[0;32mas\u001b[0m \u001b[0mpd\u001b[0m\u001b[0;34m\u001b[0m\u001b[0m\n\u001b[0m\u001b[1;32m      2\u001b[0m \u001b[0;32mimport\u001b[0m \u001b[0mitable\u001b[0m\u001b[0;34m\u001b[0m\u001b[0m\n",
      "\u001b[0;31mImportError\u001b[0m: No module named 'pandas'"
     ]
    }
   ],
   "source": [
    "import pandas as pd\n",
    "import itable"
   ]
  },
  {
   "cell_type": "code",
   "execution_count": 2,
   "metadata": {
    "collapsed": false
   },
   "outputs": [],
   "source": [
    "import pandas as pd\n",
    "import itable\n",
    "# Create an example data frame\n",
    "df = pd.DataFrame([])\n",
    "# Display a simple table\n",
    "itable.PrettyTable(df)"
   ]
  },
  {
   "cell_type": "code",
   "execution_count": 3,
   "metadata": {
    "collapsed": false
   },
   "outputs": [
    {
     "data": {
      "text/html": [
       "<table style=\"\"><tr style=\"\"><td style=\"\">f</td><td style=\"\">x</td><td style=\"\">y</td><td style=\"\">z</td></tr><tr style=\"\"><td style=\"\">0.023432</td><td style=\"\">1</td><td style=\"\">6</td><td style=\"\">testing</td></tr><tr style=\"\"><td style=\"\">0.234321</td><td style=\"\">2</td><td style=\"\">4</td><td style=\"\">pretty</td></tr><tr style=\"\"><td style=\"\">0.5555</td><td style=\"\">3</td><td style=\"\">3</td><td style=\"\">tables</td></tr></table>"
      ],
      "text/plain": [
       "<itable.itable.PrettyTable at 0x7fe7602ea630>"
      ]
     },
     "execution_count": 3,
     "metadata": {},
     "output_type": "execute_result"
    }
   ],
   "source": [
    "# Display a simple table\n",
    "itable.PrettyTable(df)"
   ]
  },
  {
   "cell_type": "code",
   "execution_count": 20,
   "metadata": {
    "collapsed": false
   },
   "outputs": [
    {
     "data": {
      "text/html": [
       "<center><table style=\"color: black;border: 1px solid black;\"><tr style=\"color: black;border: 1px solid black;\"><td style=\"color: black;font-weight: bold;background-color: lightgray;\">FloatColumn</td><td style=\"color: black;font-weight: bold;background-color: lightgray;\">SciNotColumn</td></tr><tr style=\"color: black;border: 1px solid black;\"><td style=\"color: black;border: 1px solid black;\">0.0324234</td><td style=\"color: black;border: 1px solid black;\">10000000000.0</td></tr><tr style=\"color: black;border: 1px solid black;\"><td style=\"color: black;border: 1px solid black;\">0.23432111</td><td style=\"color: black;border: 1px solid black;\">4.232e-06</td></tr><tr style=\"color: black;border: 1px solid black;\"><td style=\"color: black;border: 1px solid black;\">0.555555</td><td style=\"color: black;border: 1px solid black;\">5.3e-07</td></tr></table></center>"
      ],
      "text/plain": [
       "<itable.itable.PrettyTable at 0x7fe73f123940>"
      ]
     },
     "execution_count": 20,
     "metadata": {},
     "output_type": "execute_result"
    }
   ],
   "source": [
    "# Give it a theme and center the table\n",
    "itable.PrettyTable(df, tstyle=itable.TableStyle(theme=\"theme1\"), center=True)"
   ]
  },
  {
   "cell_type": "code",
   "execution_count": 2,
   "metadata": {
    "collapsed": false
   },
   "outputs": [],
   "source": [
    "def hello():\n",
    "    print(\"HelloWorld\")"
   ]
  }
 ],
 "metadata": {
  "anaconda-cloud": {},
  "kernelspec": {
   "display_name": "Python [default]",
   "language": "python",
   "name": "python3"
  },
  "language_info": {
   "codemirror_mode": {
    "name": "ipython",
    "version": 3
   },
   "file_extension": ".py",
   "mimetype": "text/x-python",
   "name": "python",
   "nbconvert_exporter": "python",
   "pygments_lexer": "ipython3",
   "version": "3.5.2"
  }
 },
 "nbformat": 4,
 "nbformat_minor": 0
}
